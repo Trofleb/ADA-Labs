{
 "cells": [
  {
   "cell_type": "markdown",
   "metadata": {},
   "source": [
    "# Assignement 1 study of Bachelor data from IS Academia"
   ]
  },
  {
   "cell_type": "code",
   "execution_count": 1,
   "metadata": {
    "collapsed": true
   },
   "outputs": [],
   "source": [
    "import pandas as pd\n",
    "import scipy.stats as stats"
   ]
  },
  {
   "cell_type": "markdown",
   "metadata": {},
   "source": [
    "## Import Bachelor data"
   ]
  },
  {
   "cell_type": "markdown",
   "metadata": {},
   "source": [
    "Reading the pickle with the bachelor data frame"
   ]
  },
  {
   "cell_type": "code",
   "execution_count": 2,
   "metadata": {
    "collapsed": false
   },
   "outputs": [
    {
     "data": {
      "text/html": [
       "<div>\n",
       "<table border=\"1\" class=\"dataframe\">\n",
       "  <thead>\n",
       "    <tr style=\"text-align: right;\">\n",
       "      <th></th>\n",
       "      <th></th>\n",
       "      <th></th>\n",
       "      <th>Civilité</th>\n",
       "      <th>Orientation Bachelor</th>\n",
       "      <th>Orientation Master</th>\n",
       "      <th>Spécialisation</th>\n",
       "      <th>Filière opt.</th>\n",
       "      <th>Mineur</th>\n",
       "      <th>Statut</th>\n",
       "      <th>Type Echange</th>\n",
       "      <th>Ecole Echange</th>\n",
       "    </tr>\n",
       "    <tr>\n",
       "      <th>Year</th>\n",
       "      <th>Semester</th>\n",
       "      <th>Sciper</th>\n",
       "      <th></th>\n",
       "      <th></th>\n",
       "      <th></th>\n",
       "      <th></th>\n",
       "      <th></th>\n",
       "      <th></th>\n",
       "      <th></th>\n",
       "      <th></th>\n",
       "      <th></th>\n",
       "    </tr>\n",
       "  </thead>\n",
       "  <tbody>\n",
       "    <tr>\n",
       "      <th rowspan=\"5\" valign=\"top\">2016-2017</th>\n",
       "      <th rowspan=\"5\" valign=\"top\">Bachelor semestre 1</th>\n",
       "      <th>235688</th>\n",
       "      <td>Monsieur</td>\n",
       "      <td>NaN</td>\n",
       "      <td>NaN</td>\n",
       "      <td>NaN</td>\n",
       "      <td>NaN</td>\n",
       "      <td>NaN</td>\n",
       "      <td>Présent</td>\n",
       "      <td>NaN</td>\n",
       "      <td>NaN</td>\n",
       "    </tr>\n",
       "    <tr>\n",
       "      <th>274015</th>\n",
       "      <td>Monsieur</td>\n",
       "      <td>NaN</td>\n",
       "      <td>NaN</td>\n",
       "      <td>NaN</td>\n",
       "      <td>NaN</td>\n",
       "      <td>NaN</td>\n",
       "      <td>Présent</td>\n",
       "      <td>NaN</td>\n",
       "      <td>NaN</td>\n",
       "    </tr>\n",
       "    <tr>\n",
       "      <th>268410</th>\n",
       "      <td>Madame</td>\n",
       "      <td>NaN</td>\n",
       "      <td>NaN</td>\n",
       "      <td>NaN</td>\n",
       "      <td>NaN</td>\n",
       "      <td>NaN</td>\n",
       "      <td>Présent</td>\n",
       "      <td>NaN</td>\n",
       "      <td>NaN</td>\n",
       "    </tr>\n",
       "    <tr>\n",
       "      <th>271464</th>\n",
       "      <td>Monsieur</td>\n",
       "      <td>NaN</td>\n",
       "      <td>NaN</td>\n",
       "      <td>NaN</td>\n",
       "      <td>NaN</td>\n",
       "      <td>NaN</td>\n",
       "      <td>Présent</td>\n",
       "      <td>NaN</td>\n",
       "      <td>NaN</td>\n",
       "    </tr>\n",
       "    <tr>\n",
       "      <th>274518</th>\n",
       "      <td>Monsieur</td>\n",
       "      <td>NaN</td>\n",
       "      <td>NaN</td>\n",
       "      <td>NaN</td>\n",
       "      <td>NaN</td>\n",
       "      <td>NaN</td>\n",
       "      <td>Présent</td>\n",
       "      <td>NaN</td>\n",
       "      <td>NaN</td>\n",
       "    </tr>\n",
       "  </tbody>\n",
       "</table>\n",
       "</div>"
      ],
      "text/plain": [
       "                                      Civilité  Orientation Bachelor  \\\n",
       "Year      Semester            Sciper                                   \n",
       "2016-2017 Bachelor semestre 1 235688  Monsieur                   NaN   \n",
       "                              274015  Monsieur                   NaN   \n",
       "                              268410    Madame                   NaN   \n",
       "                              271464  Monsieur                   NaN   \n",
       "                              274518  Monsieur                   NaN   \n",
       "\n",
       "                                      Orientation Master  Spécialisation  \\\n",
       "Year      Semester            Sciper                                       \n",
       "2016-2017 Bachelor semestre 1 235688                 NaN             NaN   \n",
       "                              274015                 NaN             NaN   \n",
       "                              268410                 NaN             NaN   \n",
       "                              271464                 NaN             NaN   \n",
       "                              274518                 NaN             NaN   \n",
       "\n",
       "                                     Filière opt.  Mineur   Statut  \\\n",
       "Year      Semester            Sciper                                 \n",
       "2016-2017 Bachelor semestre 1 235688          NaN     NaN  Présent   \n",
       "                              274015          NaN     NaN  Présent   \n",
       "                              268410          NaN     NaN  Présent   \n",
       "                              271464          NaN     NaN  Présent   \n",
       "                              274518          NaN     NaN  Présent   \n",
       "\n",
       "                                     Type Echange Ecole Echange  \n",
       "Year      Semester            Sciper                             \n",
       "2016-2017 Bachelor semestre 1 235688          NaN           NaN  \n",
       "                              274015          NaN           NaN  \n",
       "                              268410          NaN           NaN  \n",
       "                              271464          NaN           NaN  \n",
       "                              274518          NaN           NaN  "
      ]
     },
     "execution_count": 2,
     "metadata": {},
     "output_type": "execute_result"
    }
   ],
   "source": [
    "bachelor_df = pd.read_pickle(\"bachelor\")\n",
    "bachelor_df.head()"
   ]
  },
  {
   "cell_type": "markdown",
   "metadata": {},
   "source": [
    "All students that did semester 1 and 6"
   ]
  },
  {
   "cell_type": "code",
   "execution_count": 3,
   "metadata": {
    "collapsed": false
   },
   "outputs": [
    {
     "data": {
      "text/html": [
       "<div>\n",
       "<table border=\"1\" class=\"dataframe\">\n",
       "  <thead>\n",
       "    <tr style=\"text-align: right;\">\n",
       "      <th></th>\n",
       "      <th></th>\n",
       "      <th></th>\n",
       "      <th>Civilité</th>\n",
       "      <th>Orientation Bachelor</th>\n",
       "      <th>Orientation Master</th>\n",
       "      <th>Spécialisation</th>\n",
       "      <th>Filière opt.</th>\n",
       "      <th>Mineur</th>\n",
       "      <th>Statut</th>\n",
       "      <th>Type Echange</th>\n",
       "      <th>Ecole Echange</th>\n",
       "    </tr>\n",
       "    <tr>\n",
       "      <th>Year</th>\n",
       "      <th>Semester</th>\n",
       "      <th>Sciper</th>\n",
       "      <th></th>\n",
       "      <th></th>\n",
       "      <th></th>\n",
       "      <th></th>\n",
       "      <th></th>\n",
       "      <th></th>\n",
       "      <th></th>\n",
       "      <th></th>\n",
       "      <th></th>\n",
       "    </tr>\n",
       "  </thead>\n",
       "  <tbody>\n",
       "    <tr>\n",
       "      <th rowspan=\"5\" valign=\"top\">2016-2017</th>\n",
       "      <th rowspan=\"5\" valign=\"top\">Bachelor semestre 5</th>\n",
       "      <th>246671</th>\n",
       "      <td>Monsieur</td>\n",
       "      <td>NaN</td>\n",
       "      <td>NaN</td>\n",
       "      <td>NaN</td>\n",
       "      <td>6 - Visual computing</td>\n",
       "      <td>NaN</td>\n",
       "      <td>Congé</td>\n",
       "      <td>Erasmus</td>\n",
       "      <td>University of Bristol</td>\n",
       "    </tr>\n",
       "    <tr>\n",
       "      <th>251759</th>\n",
       "      <td>Monsieur</td>\n",
       "      <td>NaN</td>\n",
       "      <td>NaN</td>\n",
       "      <td>NaN</td>\n",
       "      <td>5 - Signal and Image Processing</td>\n",
       "      <td>NaN</td>\n",
       "      <td>Congé</td>\n",
       "      <td>Erasmus</td>\n",
       "      <td>Linköping University</td>\n",
       "    </tr>\n",
       "    <tr>\n",
       "      <th>215576</th>\n",
       "      <td>Monsieur</td>\n",
       "      <td>NaN</td>\n",
       "      <td>NaN</td>\n",
       "      <td>NaN</td>\n",
       "      <td>NaN</td>\n",
       "      <td>NaN</td>\n",
       "      <td>Congé</td>\n",
       "      <td>NaN</td>\n",
       "      <td>NaN</td>\n",
       "    </tr>\n",
       "    <tr>\n",
       "      <th>249498</th>\n",
       "      <td>Monsieur</td>\n",
       "      <td>NaN</td>\n",
       "      <td>NaN</td>\n",
       "      <td>NaN</td>\n",
       "      <td>6 - Visual computing</td>\n",
       "      <td>NaN</td>\n",
       "      <td>Congé</td>\n",
       "      <td>Bilatéral</td>\n",
       "      <td>University of Washington, Seattle</td>\n",
       "    </tr>\n",
       "    <tr>\n",
       "      <th>234551</th>\n",
       "      <td>Monsieur</td>\n",
       "      <td>NaN</td>\n",
       "      <td>NaN</td>\n",
       "      <td>NaN</td>\n",
       "      <td>6 - Visual computing</td>\n",
       "      <td>NaN</td>\n",
       "      <td>Congé</td>\n",
       "      <td>Erasmus</td>\n",
       "      <td>Norwegian University of Science and Technology...</td>\n",
       "    </tr>\n",
       "  </tbody>\n",
       "</table>\n",
       "</div>"
      ],
      "text/plain": [
       "                                      Civilité  Orientation Bachelor  \\\n",
       "Year      Semester            Sciper                                   \n",
       "2016-2017 Bachelor semestre 5 246671  Monsieur                   NaN   \n",
       "                              251759  Monsieur                   NaN   \n",
       "                              215576  Monsieur                   NaN   \n",
       "                              249498  Monsieur                   NaN   \n",
       "                              234551  Monsieur                   NaN   \n",
       "\n",
       "                                      Orientation Master  Spécialisation  \\\n",
       "Year      Semester            Sciper                                       \n",
       "2016-2017 Bachelor semestre 5 246671                 NaN             NaN   \n",
       "                              251759                 NaN             NaN   \n",
       "                              215576                 NaN             NaN   \n",
       "                              249498                 NaN             NaN   \n",
       "                              234551                 NaN             NaN   \n",
       "\n",
       "                                                         Filière opt.  Mineur  \\\n",
       "Year      Semester            Sciper                                            \n",
       "2016-2017 Bachelor semestre 5 246671             6 - Visual computing     NaN   \n",
       "                              251759  5 - Signal and Image Processing     NaN   \n",
       "                              215576                              NaN     NaN   \n",
       "                              249498             6 - Visual computing     NaN   \n",
       "                              234551             6 - Visual computing     NaN   \n",
       "\n",
       "                                     Statut Type Echange  \\\n",
       "Year      Semester            Sciper                       \n",
       "2016-2017 Bachelor semestre 5 246671  Congé      Erasmus   \n",
       "                              251759  Congé      Erasmus   \n",
       "                              215576  Congé          NaN   \n",
       "                              249498  Congé    Bilatéral   \n",
       "                              234551  Congé      Erasmus   \n",
       "\n",
       "                                                                          Ecole Echange  \n",
       "Year      Semester            Sciper                                                     \n",
       "2016-2017 Bachelor semestre 5 246671                              University of Bristol  \n",
       "                              251759                               Linköping University  \n",
       "                              215576                                                NaN  \n",
       "                              249498                  University of Washington, Seattle  \n",
       "                              234551  Norwegian University of Science and Technology...  "
      ]
     },
     "execution_count": 3,
     "metadata": {},
     "output_type": "execute_result"
    }
   ],
   "source": [
    "s1 = bachelor_df.xs('Bachelor semestre 1', level=1)\n",
    "\n",
    "s1 = s1[s1.Statut == 'Présent'].reset_index(0)\n",
    "\n",
    "s6 = bachelor_df.xs('Bachelor semestre 6', level=1)\n",
    "\n",
    "s6 = s6[(s6.Statut == 'Présent') | (s6.Statut == 'Congé')].reset_index(0)\n",
    "\n",
    "bachelor_sciper = s1.ix[s1.index & s6.index].index\n",
    "\n",
    "bachelor_s1_s6 = bachelor_df.loc[bachelor_df.index.get_level_values(\"Sciper\").isin(bachelor_sciper.values)]\n",
    "\n",
    "bachelor_s1_s6.head()"
   ]
  },
  {
   "cell_type": "markdown",
   "metadata": {},
   "source": [
    "## Compute the number and the mean of semesters spent for the Bachelor by gender"
   ]
  },
  {
   "cell_type": "markdown",
   "metadata": {},
   "source": [
    "Let's find how many semesters each student spent for to get its Bachelor. To do we iterate over all the scipers and count the number of status (that includes semesters in Erasmus exchange and 'off semesters' as well):"
   ]
  },
  {
   "cell_type": "code",
   "execution_count": 4,
   "metadata": {
    "collapsed": false
   },
   "outputs": [],
   "source": [
    "bachelor_semesters = []\n",
    "scipers = bachelor_s1_s6.index.get_level_values(2).drop_duplicates()\n",
    "\n",
    "for sciper in scipers:\n",
    "    student = bachelor_s1_s6.xs(sciper, level=2)\n",
    "    num_sems = student['Statut'].count()\n",
    "    civ = student['Civilité'][0]\n",
    "    bachelor_semesters.append([sciper, civ, num_sems])\n",
    "\n",
    "bachelor_semesters = pd.DataFrame(bachelor_semesters,columns=['Sciper', 'Civilité', 'Number of semesters'])"
   ]
  },
  {
   "cell_type": "markdown",
   "metadata": {},
   "source": [
    "We now group the results by the 'Civilité' and average the number of semesters "
   ]
  },
  {
   "cell_type": "code",
   "execution_count": 5,
   "metadata": {
    "collapsed": false
   },
   "outputs": [
    {
     "data": {
      "text/html": [
       "<div>\n",
       "<table border=\"1\" class=\"dataframe\">\n",
       "  <thead>\n",
       "    <tr style=\"text-align: right;\">\n",
       "      <th></th>\n",
       "      <th>Count</th>\n",
       "      <th>Mean number of semesters</th>\n",
       "    </tr>\n",
       "    <tr>\n",
       "      <th>Civilité</th>\n",
       "      <th></th>\n",
       "      <th></th>\n",
       "    </tr>\n",
       "  </thead>\n",
       "  <tbody>\n",
       "    <tr>\n",
       "      <th>Madame</th>\n",
       "      <td>29</td>\n",
       "      <td>6.655172</td>\n",
       "    </tr>\n",
       "    <tr>\n",
       "      <th>Monsieur</th>\n",
       "      <td>368</td>\n",
       "      <td>6.904891</td>\n",
       "    </tr>\n",
       "  </tbody>\n",
       "</table>\n",
       "</div>"
      ],
      "text/plain": [
       "          Count  Mean number of semesters\n",
       "Civilité                                 \n",
       "Madame       29                  6.655172\n",
       "Monsieur    368                  6.904891"
      ]
     },
     "execution_count": 5,
     "metadata": {},
     "output_type": "execute_result"
    }
   ],
   "source": [
    "gender_count = bachelor_semesters.groupby('Civilité')['Civilité'].count()\n",
    "sems_mean = bachelor_semesters.groupby('Civilité')['Number of semesters'].mean()\n",
    "sems_stats = pd.concat([gender_count,sems_mean], axis=1, keys=['Count','Mean number of semesters'])\n",
    "sems_stats"
   ]
  },
  {
   "cell_type": "markdown",
   "metadata": {},
   "source": [
    "## Perform a \"hypothesis testing\" test (p-test)"
   ]
  },
  {
   "cell_type": "markdown",
   "metadata": {},
   "source": [
    "Our null hypothethis H0 is that the difference between the two means is insignificant, mean(f) = mean(m). \n",
    "We select our alpha = 0.05 in order to be sure at 95%."
   ]
  },
  {
   "cell_type": "code",
   "execution_count": 6,
   "metadata": {
    "collapsed": false
   },
   "outputs": [
    {
     "name": "stdout",
     "output_type": "stream",
     "text": [
      "[ 9  6  8 11  9  6  6  6  6  6  8  8  7  6  6  6  6  6  6  6  8  9  6  6  6\n",
      "  6  6  4  4] 6.90489130435\n",
      "test p-value = 0.383335\n",
      "The means are statistically equal\n"
     ]
    }
   ],
   "source": [
    "female_sems_num = bachelor_semesters.query('Civilité == \"Madame\"')['Number of semesters'].values\n",
    "men_sems_mean = sems_stats.iloc[1]['Mean number of semesters']\n",
    "\n",
    "print(female_sems_num, men_sems_mean)\n",
    "\n",
    "alpha = 0.05\n",
    "test = stats.ttest_1samp(female_sems_num, men_sems_mean)\n",
    "\n",
    "print(\"test p-value = %f\" % test.pvalue)\n",
    "print(\"The means are statistically different\") if test.pvalue < alpha else print(\"The means are statistically equal\")"
   ]
  },
  {
   "cell_type": "markdown",
   "metadata": {},
   "source": [
    "Since our test p-value is greater than the alpha chosen we cannot reject our null hypothesis, meaning that both mean are statistically identicals.\n",
    "One caveat in this test is the population of female students (24) which is pretty low."
   ]
  },
  {
   "cell_type": "code",
   "execution_count": null,
   "metadata": {
    "collapsed": true
   },
   "outputs": [],
   "source": []
  }
 ],
 "metadata": {
  "kernelspec": {
   "display_name": "Python 3",
   "language": "python",
   "name": "python3"
  },
  "language_info": {
   "codemirror_mode": {
    "name": "ipython",
    "version": 3
   },
   "file_extension": ".py",
   "mimetype": "text/x-python",
   "name": "python",
   "nbconvert_exporter": "python",
   "pygments_lexer": "ipython3",
   "version": "3.5.2"
  }
 },
 "nbformat": 4,
 "nbformat_minor": 1
}
