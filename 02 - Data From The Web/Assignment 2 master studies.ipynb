{
 "cells": [
  {
   "cell_type": "markdown",
   "metadata": {},
   "source": [
    "# Assignement 1 study of Master data from IS Academia"
   ]
  },
  {
   "cell_type": "markdown",
   "metadata": {},
   "source": [
    "## useful imports"
   ]
  },
  {
   "cell_type": "code",
   "execution_count": 179,
   "metadata": {
    "collapsed": true
   },
   "outputs": [],
   "source": [
    "import pandas as pd\n",
    "import scipy.stats as stats\n",
    "import numpy as np"
   ]
  },
  {
   "cell_type": "markdown",
   "metadata": {},
   "source": [
    "## Import Master data"
   ]
  },
  {
   "cell_type": "markdown",
   "metadata": {},
   "source": [
    "Reading the pickle with the master data frame"
   ]
  },
  {
   "cell_type": "code",
   "execution_count": 144,
   "metadata": {
    "collapsed": false
   },
   "outputs": [],
   "source": [
    "s1 = master_df.xs('Master semestre 1', level=1).reset_index(0)\n",
    "s1 = s1[s1.Statut == 'Présent']\n",
    "\n",
    "pa = master_df.xs('Projet Master automne', level=1).reset_index(0)\n",
    "\n",
    "#pa = pa[pa.Statut == 'Présent'].reset_index(0)\n",
    "\n",
    "pp = master_df.xs('Projet Master printemps', level=1).reset_index(0)\n",
    "\n",
    "#pp = pp[pp.Statut == 'Présent'].reset_index(0)\n",
    "\n",
    "master_sciper = s1.ix[s1.index & (pa.index | pp.index)].index\n",
    "\n",
    "master_s1_papp = master_df.loc[master_df.index.get_level_values(\"Sciper\").isin(master_sciper.values)]"
   ]
  },
  {
   "cell_type": "code",
   "execution_count": 145,
   "metadata": {
    "collapsed": false
   },
   "outputs": [
    {
     "data": {
      "text/plain": [
       "(486, 9)"
      ]
     },
     "execution_count": 145,
     "metadata": {},
     "output_type": "execute_result"
    }
   ],
   "source": [
    "master_s1_papp.shape"
   ]
  },
  {
   "cell_type": "code",
   "execution_count": 146,
   "metadata": {
    "collapsed": false
   },
   "outputs": [
    {
     "name": "stdout",
     "output_type": "stream",
     "text": [
      "(114,)\n"
     ]
    }
   ],
   "source": [
    "master_semesters = []\n",
    "scipers = master_s1_papp.index.get_level_values(2).drop_duplicates()\n",
    "print(scipers.shape)\n",
    "for sciper in scipers:\n",
    "    student = master_s1_papp.xs(sciper, level=2)\n",
    "    num_sems = student['Statut'].count()\n",
    "    civ = student['Civilité'][0]\n",
    "    spec = student['Spécialisation'][0]\n",
    "    master_semesters.append([sciper, civ, num_sems, spec])\n",
    "\n",
    "master_semesters = pd.DataFrame(master_semesters,columns=['Sciper', 'Civilité', 'Number of semesters', 'Spécialisation'])"
   ]
  },
  {
   "cell_type": "code",
   "execution_count": 147,
   "metadata": {
    "collapsed": false
   },
   "outputs": [],
   "source": [
    "master_semesters = master_semesters.fillna('aucune')"
   ]
  },
  {
   "cell_type": "code",
   "execution_count": 151,
   "metadata": {
    "collapsed": false
   },
   "outputs": [
    {
     "name": "stdout",
     "output_type": "stream",
     "text": [
      "total mean :  4.26315789474\n"
     ]
    },
    {
     "data": {
      "text/html": [
       "<div>\n",
       "<table border=\"1\" class=\"dataframe\">\n",
       "  <thead>\n",
       "    <tr style=\"text-align: right;\">\n",
       "      <th></th>\n",
       "      <th>Count</th>\n",
       "      <th>Mean number of semesters</th>\n",
       "    </tr>\n",
       "    <tr>\n",
       "      <th>Spécialisation</th>\n",
       "      <th></th>\n",
       "      <th></th>\n",
       "    </tr>\n",
       "  </thead>\n",
       "  <tbody>\n",
       "    <tr>\n",
       "      <th>Biocomputing</th>\n",
       "      <td>1</td>\n",
       "      <td>6.000000</td>\n",
       "    </tr>\n",
       "    <tr>\n",
       "      <th>Computer Engineering - SP</th>\n",
       "      <td>2</td>\n",
       "      <td>5.000000</td>\n",
       "    </tr>\n",
       "    <tr>\n",
       "      <th>Foundations of Software</th>\n",
       "      <td>7</td>\n",
       "      <td>5.142857</td>\n",
       "    </tr>\n",
       "    <tr>\n",
       "      <th>Information Security - SP</th>\n",
       "      <td>2</td>\n",
       "      <td>5.000000</td>\n",
       "    </tr>\n",
       "    <tr>\n",
       "      <th>Internet computing</th>\n",
       "      <td>10</td>\n",
       "      <td>4.700000</td>\n",
       "    </tr>\n",
       "    <tr>\n",
       "      <th>Service science</th>\n",
       "      <td>1</td>\n",
       "      <td>5.000000</td>\n",
       "    </tr>\n",
       "    <tr>\n",
       "      <th>Signals, Images and Interfaces</th>\n",
       "      <td>2</td>\n",
       "      <td>5.500000</td>\n",
       "    </tr>\n",
       "    <tr>\n",
       "      <th>Software Systems</th>\n",
       "      <td>2</td>\n",
       "      <td>5.000000</td>\n",
       "    </tr>\n",
       "    <tr>\n",
       "      <th>aucune</th>\n",
       "      <td>87</td>\n",
       "      <td>4.034483</td>\n",
       "    </tr>\n",
       "  </tbody>\n",
       "</table>\n",
       "</div>"
      ],
      "text/plain": [
       "                                Count  Mean number of semesters\n",
       "Spécialisation                                                 \n",
       "Biocomputing                        1                  6.000000\n",
       "Computer Engineering - SP           2                  5.000000\n",
       "Foundations of Software             7                  5.142857\n",
       "Information Security - SP           2                  5.000000\n",
       "Internet computing                 10                  4.700000\n",
       "Service science                     1                  5.000000\n",
       "Signals, Images and Interfaces      2                  5.500000\n",
       "Software Systems                    2                  5.000000\n",
       "aucune                             87                  4.034483"
      ]
     },
     "execution_count": 151,
     "metadata": {},
     "output_type": "execute_result"
    }
   ],
   "source": [
    "spec_count = master_semesters.groupby('Spécialisation')['Spécialisation'].count()\n",
    "sems_mean = master_semesters.groupby('Spécialisation')['Number of semesters'].mean()\n",
    "sems_stats = pd.concat([spec_count,sems_mean], axis=1, keys=['Count','Mean number of semesters'])\n",
    "sems_stats"
   ]
  },
  {
   "cell_type": "code",
   "execution_count": 187,
   "metadata": {
    "collapsed": false
   },
   "outputs": [
    {
     "name": "stdout",
     "output_type": "stream",
     "text": [
      "Results for Biocomputing, the seperate means are : 6.0  and  4.26315789474\n",
      "Number of values : 1\n",
      "not enough values to give a significant result\n",
      "\n",
      "Results for Computer Engineering - SP, the seperate means are : 5.0  and  4.26315789474\n",
      "Number of values : 2\n",
      "Test p-value = 0.000000\n",
      "The means are statistically different\n",
      "\n",
      "Results for Foundations of Software, the seperate means are : 5.14285714286  and  4.26315789474\n",
      "Number of values : 7\n",
      "Test p-value = 0.134314\n",
      "The means are statistically equal\n",
      "\n",
      "Results for Information Security - SP, the seperate means are : 5.0  and  4.26315789474\n",
      "Number of values : 2\n",
      "Test p-value = 0.000000\n",
      "The means are statistically different\n",
      "\n",
      "Results for Internet computing, the seperate means are : 4.7  and  4.26315789474\n",
      "Number of values : 10\n",
      "Test p-value = 0.070992\n",
      "The means are statistically equal\n",
      "\n",
      "Results for Service science, the seperate means are : 5.0  and  4.26315789474\n",
      "Number of values : 1\n",
      "not enough values to give a significant result\n",
      "\n",
      "Results for Signals, Images and Interfaces, the seperate means are : 5.5  and  4.26315789474\n",
      "Number of values : 2\n",
      "Test p-value = 0.561026\n",
      "The means are statistically equal\n",
      "\n",
      "Results for Software Systems, the seperate means are : 5.0  and  4.26315789474\n",
      "Number of values : 2\n",
      "Test p-value = 0.000000\n",
      "The means are statistically different\n",
      "\n",
      "Results for aucune, the seperate means are : 4.03448275862  and  4.26315789474\n",
      "Number of values : 87\n",
      "Test p-value = 0.032569\n",
      "The means are statistically different\n",
      "\n"
     ]
    },
    {
     "name": "stderr",
     "output_type": "stream",
     "text": [
      "/usr/local/lib/python3.5/site-packages/numpy/core/_methods.py:82: RuntimeWarning: Degrees of freedom <= 0 for slice\n",
      "  warnings.warn(\"Degrees of freedom <= 0 for slice\", RuntimeWarning)\n"
     ]
    }
   ],
   "source": [
    "total_mean = master_semesters['Number of semesters'].mean()\n",
    "alpha = 0.05\n",
    "\n",
    "for name, counts in master_semesters.groupby('Spécialisation')['Number of semesters']:\n",
    "    test = stats.ttest_1samp(counts.values, total_mean)\n",
    "    print(\"Results for {},\".format(name), \"the seperate means are :\", counts.mean(), \" and \", total_mean)\n",
    "    print(\"Number of values :\", len(counts.values))\n",
    "    pvalue = test.pvalue\n",
    "    \n",
    "    if np.isnan(pvalue):\n",
    "        print(\"not enough values to give a significant result\")\n",
    "    else:    \n",
    "        print(\"Test p-value = %f\" % pvalue)\n",
    "        print(\"The means are statistically different\") if test.pvalue < alpha else print(\"The means are statistically equal\")\n",
    "    print(\"\")\n",
    "        \n",
    "        "
   ]
  },
  {
   "cell_type": "code",
   "execution_count": null,
   "metadata": {
    "collapsed": false
   },
   "outputs": [],
   "source": []
  }
 ],
 "metadata": {
  "kernelspec": {
   "display_name": "Python 3",
   "language": "python",
   "name": "python3"
  },
  "language_info": {
   "codemirror_mode": {
    "name": "ipython",
    "version": 3
   },
   "file_extension": ".py",
   "mimetype": "text/x-python",
   "name": "python",
   "nbconvert_exporter": "python",
   "pygments_lexer": "ipython3",
   "version": "3.5.2"
  }
 },
 "nbformat": 4,
 "nbformat_minor": 1
}
