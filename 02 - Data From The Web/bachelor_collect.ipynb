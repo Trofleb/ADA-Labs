{
 "cells": [
  {
   "cell_type": "markdown",
   "metadata": {},
   "source": [
    "# Gather Bachelor students data"
   ]
  },
  {
   "cell_type": "markdown",
   "metadata": {},
   "source": [
    "The purpose of this script is only to collect the data of Bachelor students, group and clean it all, serialize it in order to be used by other scripts analyzing the dataset."
   ]
  },
  {
   "cell_type": "markdown",
   "metadata": {},
   "source": [
    "## Assignment"
   ]
  },
  {
   "cell_type": "markdown",
   "metadata": {},
   "source": [
    "1) Obtain all the data for the Bachelor students, starting from 2007. Keep only the students for which you have an entry for both Bachelor semestre 1 and Bachelor semestre 6."
   ]
  },
  {
   "cell_type": "code",
   "execution_count": null,
   "metadata": {
    "collapsed": false
   },
   "outputs": [],
   "source": [
    "import requests as r\n",
    "import pandas as pd\n",
    "\n",
    "from bs4 import BeautifulSoup"
   ]
  },
  {
   "cell_type": "code",
   "execution_count": null,
   "metadata": {
    "collapsed": true
   },
   "outputs": [],
   "source": [
    "ISA_url = 'http://isa.epfl.ch/imoniteur_ISAP/!gedpublicreports'\n",
    "ISA_html = ISA_url + '.html'\n",
    "ISA_filter = ISA_url + '.filter'\n",
    "ww_i_reportModel = '133685247'  # base reference from Postman\n",
    "ww_i_reportModelXsl = '133685271'  # for XLS files from Postman"
   ]
  },
  {
   "cell_type": "markdown",
   "metadata": {},
   "source": [
    "### Find the parameters values"
   ]
  },
  {
   "cell_type": "markdown",
   "metadata": {},
   "source": [
    "In order to find all the existing parameter names and possible values, we make a request on the form page and then parse it"
   ]
  },
  {
   "cell_type": "code",
   "execution_count": null,
   "metadata": {
    "collapsed": false
   },
   "outputs": [],
   "source": [
    "form_html = r.get(ISA_filter, params={'ww_i_reportModel': ww_i_reportModel})\n",
    "form_bs = BeautifulSoup(form_html.content, \"html.parser\")"
   ]
  },
  {
   "cell_type": "markdown",
   "metadata": {},
   "source": [
    "We parse the HTML file looking for \"select\" tags which correspond to the different menus, and for each of them we look at the \"option\" tags which are the entries. We save our results in a dictionnary"
   ]
  },
  {
   "cell_type": "code",
   "execution_count": null,
   "metadata": {
    "collapsed": false
   },
   "outputs": [],
   "source": [
    "params = []\n",
    "\n",
    "for select in form_bs.find_all('select'):\n",
    "    param = select['name']\n",
    "    \n",
    "    for option in select.find_all('option'):\n",
    "        name = option.string\n",
    "        \n",
    "        if name:\n",
    "            value = option['value']\n",
    "            params.append(pd.Series([param, name, value]))\n",
    "\n",
    "params = pd.DataFrame(params)\n",
    "params.columns = ['Parameter', 'Name', 'Value']\n",
    "params.set_index(['Parameter', 'Name'], inplace=True)\n",
    "params"
   ]
  },
  {
   "cell_type": "markdown",
   "metadata": {},
   "source": [
    "### Gather the data"
   ]
  },
  {
   "cell_type": "code",
   "execution_count": null,
   "metadata": {
    "collapsed": true
   },
   "outputs": [],
   "source": [
    "def listOf(unite, year, semester):\n",
    "    # retrieve gps reference using main form query for table access\n",
    "    gps_html = r.get(ISA_filter, params={\n",
    "        'ww_b_list': 1,\n",
    "        'ww_i_reportmodel': ww_i_reportModel,\n",
    "        'ww_i_reportModelXsl': ww_i_reportModelXsl,\n",
    "        'ww_x_UNITE_ACAD': unite,\n",
    "        'ww_x_PERIODE_ACAD': year,\n",
    "        'ww_x_PERIODE_PEDAGO': semester\n",
    "    })\n",
    "    gps_bs = BeautifulSoup(gps_html.content, \"html.parser\")\n",
    "    link = gps_bs.find_all('a')\n",
    "    if len(link) != 2:\n",
    "        return None\n",
    "    \n",
    "    # isolate second link (first one is always all) and rip off useless part\n",
    "    gps = int(link[1]['onclick'][21:-16])\n",
    "    table_html = r.get(ISA_html, params={\n",
    "        'ww_i_reportmodel': ww_i_reportModel,\n",
    "        'ww_i_reportModelXsl': ww_i_reportModelXsl,\n",
    "        'ww_x_UNITE_ACAD': unite,\n",
    "        'ww_x_PERIODE_ACAD': year,\n",
    "        'ww_x_PERIODE_PEDAGO': semester,\n",
    "        'ww_x_GPS': gps\n",
    "    })\n",
    "    table_bs = BeautifulSoup(table_html.content, \"html.parser\")\n",
    "    tables = pd.read_html(str(table_bs), flavor='bs4', skiprows=[0, 1], header=0, index_col=10)\n",
    "    \n",
    "    if len(tables) != 1:\n",
    "        return None\n",
    "    \n",
    "    table = tables[0]\n",
    "    table.drop('Nom Prénom', axis=1, inplace=True)\n",
    "    table.drop([col for col in df.columns if 'Unnamed' in col], axis=1, inplace=True)\n",
    "    return df"
   ]
  },
  {
   "cell_type": "markdown",
   "metadata": {},
   "source": [
    "In this homework we are interesting in students from the \"Informatique\" section, and we want the data as excel files. Therefore we give the following parameters fixed values:"
   ]
  },
  {
   "cell_type": "code",
   "execution_count": null,
   "metadata": {
    "collapsed": false
   },
   "outputs": [],
   "source": [
    "unite = params.loc['ww_x_UNITE_ACAD', 'Informatique']\n",
    "unite"
   ]
  },
  {
   "cell_type": "code",
   "execution_count": null,
   "metadata": {
    "collapsed": false
   },
   "outputs": [],
   "source": [
    "years = params.loc['ww_x_PERIODE_ACAD']\n",
    "years"
   ]
  },
  {
   "cell_type": "code",
   "execution_count": null,
   "metadata": {
    "collapsed": true
   },
   "outputs": [],
   "source": [
    "param_semesters = params.loc['ww_x_PERIODE_PEDAGO']"
   ]
  },
  {
   "cell_type": "code",
   "execution_count": null,
   "metadata": {
    "collapsed": false
   },
   "outputs": [],
   "source": [
    "# do not take into account \"b\" semester as there are all empty (not sure of signification)\n",
    "bachelor_semesters = param_semesters[['Bachelor' in idx and 'b' not in idx for idx in param_semesters.index]]\n",
    "bachelor_semesters"
   ]
  },
  {
   "cell_type": "code",
   "execution_count": null,
   "metadata": {
    "collapsed": true
   },
   "outputs": [],
   "source": [
    "def gather(unite, years, semesters):\n",
    "    yearly = []\n",
    "    for year, year_value in years.iterrows():\n",
    "        print(year)\n",
    "        swarm = []\n",
    "        for semester, semester_value in semesters.iterrows():\n",
    "            print(semester)\n",
    "            df = listOf(unite, year_value, semester_value)\n",
    "            swarm.append(df)\n",
    "        yearly.append(pd.concat(swarm, keys=semesters.index))\n",
    "    return pd.concat(yearly, keys=years.index)"
   ]
  },
  {
   "cell_type": "code",
   "execution_count": null,
   "metadata": {
    "collapsed": false
   },
   "outputs": [],
   "source": [
    "bachelor = gather(unite, years, bachelor_semesters)"
   ]
  },
  {
   "cell_type": "code",
   "execution_count": null,
   "metadata": {
    "collapsed": false
   },
   "outputs": [],
   "source": [
    "bachelor.head()"
   ]
  },
  {
   "cell_type": "code",
   "execution_count": null,
   "metadata": {
    "collapsed": false
   },
   "outputs": [],
   "source": [
    "bachelor.to_pickle('bachelor')"
   ]
  },
  {
   "cell_type": "code",
   "execution_count": null,
   "metadata": {
    "collapsed": false
   },
   "outputs": [],
   "source": [
    "master_semesters = param_semesters[['Master' in idx or 'Projet' in idx for idx in param_semesters.index]]\n",
    "master_semesters"
   ]
  },
  {
   "cell_type": "code",
   "execution_count": null,
   "metadata": {
    "collapsed": false
   },
   "outputs": [],
   "source": [
    "master = gather(unite, years, master_semesters)"
   ]
  },
  {
   "cell_type": "code",
   "execution_count": null,
   "metadata": {
    "collapsed": false
   },
   "outputs": [],
   "source": [
    "master.head()"
   ]
  },
  {
   "cell_type": "code",
   "execution_count": null,
   "metadata": {
    "collapsed": true
   },
   "outputs": [],
   "source": [
    "master.to_pickle('bachelor')"
   ]
  },
  {
   "cell_type": "code",
   "execution_count": null,
   "metadata": {
    "collapsed": true
   },
   "outputs": [],
   "source": []
  }
 ],
 "metadata": {
  "kernelspec": {
   "display_name": "Python 3",
   "language": "python",
   "name": "python3"
  },
  "language_info": {
   "codemirror_mode": {
    "name": "ipython",
    "version": 3
   },
   "file_extension": ".py",
   "mimetype": "text/x-python",
   "name": "python",
   "nbconvert_exporter": "python",
   "pygments_lexer": "ipython3",
   "version": "3.5.2"
  }
 },
 "nbformat": 4,
 "nbformat_minor": 1
}
