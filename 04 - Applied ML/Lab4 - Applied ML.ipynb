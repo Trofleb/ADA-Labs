{
 "cells": [
  {
   "cell_type": "markdown",
   "metadata": {},
   "source": [
    "# Applied Machine learning !"
   ]
  },
  {
   "cell_type": "markdown",
   "metadata": {
    "collapsed": true
   },
   "source": [
    "In this lab we will study a soccer dataset and apply Machine Learning to it. We will try to predict the skin color of a player given some of it's information"
   ]
  },
  {
   "cell_type": "markdown",
   "metadata": {},
   "source": [
    "### Some useful imports"
   ]
  },
  {
   "cell_type": "code",
   "execution_count": null,
   "metadata": {
    "collapsed": false
   },
   "outputs": [],
   "source": [
    "%matplotlib inline\n",
    "import pandas as pd\n",
    "import numpy as np\n",
    "import matplotlib.pyplot as plt\n",
    "import seaborn as sns\n",
    "%load_ext autoreload\n",
    "%autoreload 2"
   ]
  },
  {
   "cell_type": "markdown",
   "metadata": {},
   "source": [
    "### First we import the dataset and study it :"
   ]
  },
  {
   "cell_type": "code",
   "execution_count": null,
   "metadata": {
    "collapsed": false
   },
   "outputs": [],
   "source": [
    "df = pd.read_csv(\"./CrowdstormingDataJuly1st.csv\")"
   ]
  },
  {
   "cell_type": "markdown",
   "metadata": {},
   "source": [
    "How much data do we have ?"
   ]
  },
  {
   "cell_type": "code",
   "execution_count": null,
   "metadata": {
    "collapsed": false
   },
   "outputs": [],
   "source": [
    "df.shape"
   ]
  },
  {
   "cell_type": "markdown",
   "metadata": {},
   "source": [
    "Let's look at our columns"
   ]
  },
  {
   "cell_type": "code",
   "execution_count": null,
   "metadata": {
    "collapsed": false
   },
   "outputs": [],
   "source": [
    "# Taken form http://nbviewer.jupyter.org/github/mathewzilla/redcard/blob/master/Crowdstorming_visualisation.ipynb \n",
    "df.head().ix[:10,0:13]"
   ]
  },
  {
   "cell_type": "code",
   "execution_count": null,
   "metadata": {
    "collapsed": false
   },
   "outputs": [],
   "source": [
    "# Taken form http://nbviewer.jupyter.org/github/mathewzilla/redcard/blob/master/Crowdstorming_visualisation.ipynb \n",
    "df.head().ix[:10,13:28]"
   ]
  },
  {
   "cell_type": "code",
   "execution_count": null,
   "metadata": {
    "collapsed": false,
    "scrolled": true
   },
   "outputs": [],
   "source": [
    "df[df.rater1 == df.rater2].shape"
   ]
  },
  {
   "cell_type": "code",
   "execution_count": null,
   "metadata": {
    "collapsed": false
   },
   "outputs": [],
   "source": [
    "df[\"rater2\"].unique()"
   ]
  },
  {
   "cell_type": "markdown",
   "metadata": {},
   "source": [
    "Thanks to the previous work of Mat Evans and Tom Stafford and their team (can be found here : http://nbviewer.jupyter.org/github/mathewzilla/redcard/blob/master/Crowdstorming_visualisation.ipynb )\n",
    "\n",
    "we know some of the specificities of the data :"
   ]
  },
  {
   "cell_type": "markdown",
   "metadata": {},
   "source": [
    "- We learn that the data is organized in a player-referee dyad. This means each row has all the interaction with one player and a referee. For their analysis they decided to separate this dataset for each interaction between a player and a referee. For our purposes we will rather group by player short because we don't really care for referee information.\n",
    "\n",
    "- The data about skin color is not consistent between the two raters and the picture is missing. For the picture we will just remove the data with no picture. As we need a way to attribute skin color to each player we will have to use the two raters. For this there are different ways we could go at it :\n",
    "    - We could do a mean of the two raters\n",
    "    - We could keep only the dyads which have the same score for r1 and r2\n",
    "    - We could train on both raters and compare the result (seems a bit repetitive but why not)\n",
    "    \n",
    "- The raters data in the set [0, 0.25, 0.50, 0.75, 1] to classify \"correctly\" there are 3 possibilities :\n",
    "    - The first one is to have a class for each number\n",
    "    - The second is to have two classes with a cut at 0.5 (we have to define which class contain 0.5)\n",
    "    - The third is to have 3 classes : $<0.5$, $0.5$, $>0.5$\n",
    "\n",
    "- Finally we learn that there are dyads which are not really part of the 2012-2013 data but from past matches in the carrer of the player. Here we have a choice, either we remove the data because it's not really part of the dataset or we let it be as it could be more information."
   ]
  },
  {
   "cell_type": "markdown",
   "metadata": {},
   "source": [
    "Here is how we think of organizing this homework :\n",
    "- First we will clean a bit the data\n",
    "- Then we will aggregate the data per player\n",
    "- Then we will for each point made above with multiple proposition see which one is the best, if multiple ones seem good we will keep them and test them with cross validation.\n",
    "- Finally we will find the best result we can with all possible datasets with a random forest classifier."
   ]
  },
  {
   "cell_type": "markdown",
   "metadata": {},
   "source": [
    "## Removing non valid dyads from player past history"
   ]
  },
  {
   "cell_type": "markdown",
   "metadata": {},
   "source": [
    "For a more detailed explanation of how we can show the fact that there are dyads from before 2012-2013 you can look here : http://nbviewer.jupyter.org/github/mathewzilla/redcard/blob/master/Crowdstorming_visualisation.ipynb"
   ]
  },
  {
   "cell_type": "markdown",
   "metadata": {},
   "source": [
    "To remove those dyad, the logic is to say that if a referee has participated in at least one match in the league he should have at least 22 appearances in the dataset."
   ]
  },
  {
   "cell_type": "markdown",
   "metadata": {},
   "source": [
    "The folowing code ressembles (as we use the same principles) the work previously mentioned. But as we will see some differences I will try and explain them as we go through the code to show we aren't doing anything wrong."
   ]
  },
  {
   "cell_type": "code",
   "execution_count": null,
   "metadata": {
    "collapsed": false,
    "scrolled": true
   },
   "outputs": [],
   "source": [
    "referee_b = df[\"refNum\"].unique().shape[0]\n",
    "print(\"number of unique referee before cleaning : \", referee_b) # here no differences"
   ]
  },
  {
   "cell_type": "code",
   "execution_count": null,
   "metadata": {
    "collapsed": false,
    "scrolled": true
   },
   "outputs": [],
   "source": [
    "dyads_b = df.shape[0]\n",
    "games_b = df.games.sum()\n",
    "print(\"number of dyads before cleaning : \", dyads_b)\n",
    "print(\"number of matches before cleaning : \", games_b) # same value as in the other notebook \n",
    "                                                     # (we will use it later as reference)"
   ]
  },
  {
   "cell_type": "markdown",
   "metadata": {},
   "source": [
    "This part shows the value that the others get :"
   ]
  },
  {
   "cell_type": "code",
   "execution_count": null,
   "metadata": {
    "collapsed": false
   },
   "outputs": [],
   "source": [
    "apearances_tot = df[[\"refNum\", \"games\"]].groupby(\"refNum\").sum()"
   ]
  },
  {
   "cell_type": "code",
   "execution_count": null,
   "metadata": {
    "collapsed": false
   },
   "outputs": [],
   "source": [
    "apearances_sup21_tot = apearances_tot[apearances_tot.games > 21]\n",
    "apearances_sup21_tot.count() # same number of remaining referee as in the other notebook"
   ]
  },
  {
   "cell_type": "code",
   "execution_count": null,
   "metadata": {
    "collapsed": false
   },
   "outputs": [],
   "source": [
    "df_sup21_tot = df[df[\"refNum\"].isin(apearances_sup21_tot.index)]"
   ]
  },
  {
   "cell_type": "code",
   "execution_count": null,
   "metadata": {
    "collapsed": false,
    "scrolled": true
   },
   "outputs": [],
   "source": [
    "referee_a_tot = df_sup21_tot[\"refNum\"].unique().shape[0]\n",
    "print(\"number of unique referee after removing : \", referee_a_tot)"
   ]
  },
  {
   "cell_type": "code",
   "execution_count": null,
   "metadata": {
    "collapsed": false,
    "scrolled": true
   },
   "outputs": [],
   "source": [
    "dyads_a_tot = df_sup21_tot.shape[0]\n",
    "games_a_tot = df_sup21_tot.games.sum()\n",
    "print(\"number of dyads after removing : \", dyads_a_tot)\n",
    "print(\"number of matches after removing : \", games_a_tot) # same number as in the other notebook "
   ]
  },
  {
   "cell_type": "markdown",
   "metadata": {},
   "source": [
    "Now as our data is organized differently we use another method"
   ]
  },
  {
   "cell_type": "markdown",
   "metadata": {},
   "source": [
    "Here is what will change most of the calculations result"
   ]
  },
  {
   "cell_type": "code",
   "execution_count": null,
   "metadata": {
    "collapsed": false
   },
   "outputs": [],
   "source": [
    "apearances_once_player = df.refNum.value_counts()\n",
    "len(apearances_once_player)"
   ]
  },
  {
   "cell_type": "markdown",
   "metadata": {},
   "source": [
    "This is the number of apearances with a slight twist, we only count one apearance per player whatever the number of match he played. For us this value is better to use in this case as it relates more to the >21 cut. Before we counted for a single referee a number of matches with the same player which makes no sense : in a match, a referee has 22 distinct players."
   ]
  },
  {
   "cell_type": "code",
   "execution_count": null,
   "metadata": {
    "collapsed": false,
    "scrolled": true
   },
   "outputs": [],
   "source": [
    "apearances_sup21_once_player = apearances_once_player[apearances_once_player > 21]\n",
    "len(apearances_sup21_once_player) ## a bit less than before sadly"
   ]
  },
  {
   "cell_type": "code",
   "execution_count": null,
   "metadata": {
    "collapsed": true
   },
   "outputs": [],
   "source": [
    "df_sup21_once_player = df[df[\"refNum\"].isin(apearances_sup21_once_player.index.values)]"
   ]
  },
  {
   "cell_type": "code",
   "execution_count": null,
   "metadata": {
    "collapsed": false
   },
   "outputs": [],
   "source": [
    "referee_a_once_player = df_sup21_once_player[\"refNum\"].unique().shape[0]\n",
    "print(\"number of unique referee after removing : \", referee_a_once_player)"
   ]
  },
  {
   "cell_type": "code",
   "execution_count": null,
   "metadata": {
    "collapsed": false,
    "scrolled": false
   },
   "outputs": [],
   "source": [
    "dyads_a_once_player = df_sup21_once_player.shape[0]\n",
    "games_a_once_player = df_sup21_once_player.games.sum()\n",
    "print(\"number of dyads after removing : \", dyads_a_once_player)\n",
    "print(\"number of matches after removing : \", games_a_once_player) # a bit lower than before again"
   ]
  },
  {
   "cell_type": "markdown",
   "metadata": {},
   "source": [
    "Let's show how much data we lose"
   ]
  },
  {
   "cell_type": "code",
   "execution_count": null,
   "metadata": {
    "collapsed": false,
    "scrolled": true
   },
   "outputs": [],
   "source": [
    "print(\"loss of games with their method :\", games_a_tot / games_b)\n",
    "print(\"loss of dyads with their method :\", dyads_a_tot / dyads_b)\n",
    "print(\"loss of refs with their method : \", referee_a_tot / referee_b)\n"
   ]
  },
  {
   "cell_type": "code",
   "execution_count": null,
   "metadata": {
    "collapsed": false
   },
   "outputs": [],
   "source": [
    "print(\"loss of games with our method :\", games_a_once_player / games_b)\n",
    "print(\"loss of dyads with our method :\", dyads_a_once_player / dyads_b)\n",
    "print(\"loss of refs with our method : \", referee_a_once_player / referee_b)"
   ]
  },
  {
   "cell_type": "markdown",
   "metadata": {},
   "source": [
    "### Here we show some graphes to show the difference between the two methods."
   ]
  },
  {
   "cell_type": "markdown",
   "metadata": {},
   "source": [
    "Graph of occurences (source from http://nbviewer.jupyter.org/github/mathewzilla/redcard/blob/master/Crowdstorming_visualisation.ipynb)\n",
    "\n",
    "We thought of using their graphs to have a good comparaison between their work and ours"
   ]
  },
  {
   "cell_type": "code",
   "execution_count": null,
   "metadata": {
    "collapsed": false
   },
   "outputs": [],
   "source": [
    "fig, axes = plt.subplots(nrows=1, ncols=1, figsize=(12, 4))\n",
    "axes.hist(df[[\"refNum\", \"games\"]].groupby(\"refNum\").sum().games.tolist(),referee_b-11)\n",
    "axes.set_xscale('symlog') # symetric log scale \n",
    "plt.xlim([1,10000])\n",
    "axes.set_yscale('symlog') \n",
    "plt.ylim([0,1000])\n",
    "axes.set_title(\"Referee occurance following our cull, log scaled\")\n",
    "axes.set_xlabel('log (number of occurances)')\n",
    "axes.set_ylabel('log (frequency)')"
   ]
  },
  {
   "cell_type": "code",
   "execution_count": null,
   "metadata": {
    "collapsed": false
   },
   "outputs": [],
   "source": [
    "fig, axes = plt.subplots(nrows=1, ncols=1, figsize=(12, 4))\n",
    "axes.hist(df_sup21_tot[[\"refNum\", \"games\"]].groupby(\"refNum\").sum().games.tolist(),referee_b-11)\n",
    "axes.set_xscale('symlog') # symetric log scale \n",
    "plt.xlim([1,10000])\n",
    "axes.set_yscale('symlog') \n",
    "plt.ylim([0,1000])\n",
    "axes.set_title(\"Referee occurance following our cull, log scaled\")\n",
    "axes.set_xlabel('log (number of occurances)')\n",
    "axes.set_ylabel('log (frequency)')"
   ]
  },
  {
   "cell_type": "code",
   "execution_count": null,
   "metadata": {
    "collapsed": false
   },
   "outputs": [],
   "source": [
    "fig, axes = plt.subplots(nrows=1, ncols=1, figsize=(12, 4))\n",
    "axes.hist(df_sup21_once_player[[\"refNum\", \"games\"]].groupby(\"refNum\").sum().games.tolist(),referee_b-11)\n",
    "axes.set_xscale('symlog') # symetric log scale \n",
    "plt.xlim([1,10000])\n",
    "axes.set_yscale('symlog') \n",
    "plt.ylim([0,1000])\n",
    "axes.set_title(\"Referee occurance following our cull, log scaled\")\n",
    "axes.set_xlabel('log (number of occurances)')\n",
    "axes.set_ylabel('log (frequency)')"
   ]
  },
  {
   "cell_type": "markdown",
   "metadata": {},
   "source": [
    "We can clearly see here that we only remove the lowest occurences of the previous graph"
   ]
  },
  {
   "cell_type": "code",
   "execution_count": null,
   "metadata": {
    "collapsed": false
   },
   "outputs": [],
   "source": [
    "fig, ax = plt.subplots(1,1,figsize=(12, 4))\n",
    "x = df.refCountry.value_counts()\n",
    "lines = ax.plot(x.values,marker='.',ms=20)\n",
    "\n",
    "y = x.index.tolist() \n",
    "\n",
    "ax.set_title('Referee nationality by number of dyads')\n",
    "ax.set_xlabel('Country number (ordered by frequency)')\n",
    "ax.set_ylabel('Frequency of dyads')\n",
    "ax.set_xlim([-3,160]) # a hack so we can see the first point most clearly"
   ]
  },
  {
   "cell_type": "code",
   "execution_count": null,
   "metadata": {
    "collapsed": false
   },
   "outputs": [],
   "source": [
    "fig, ax = plt.subplots(1,1,figsize=(12, 4))\n",
    "x = df_sup21_tot.refCountry.value_counts()\n",
    "lines = ax.plot(x.values,marker='.',ms=20)\n",
    "\n",
    "y = x.index.tolist() \n",
    "\n",
    "ax.set_title('Referee nationality by number of dyads')\n",
    "ax.set_xlabel('Country number (ordered by frequency)')\n",
    "ax.set_ylabel('Frequency of dyads')\n",
    "ax.set_xlim([-3,160]) # a hack so we can see the first point most clearly"
   ]
  },
  {
   "cell_type": "code",
   "execution_count": null,
   "metadata": {
    "collapsed": false,
    "scrolled": true
   },
   "outputs": [],
   "source": [
    "# Histogram of country frequency. \n",
    "fig, ax = plt.subplots(1,1,figsize=(12, 4))\n",
    "x = df_sup21_once_player.refCountry.value_counts()\n",
    "lines = ax.plot(x.values,marker='.',ms=20)\n",
    "\n",
    "y = x.index.tolist()\n",
    "\n",
    "ax.set_title('Referee nationality by number of dyads')\n",
    "ax.set_xlabel('Country number (ordered by frequency)')\n",
    "ax.set_ylabel('Frequency of dyads')\n",
    "ax.set_xlim([-3,160]) # a hack so we can see the first point most clearly"
   ]
  },
  {
   "cell_type": "markdown",
   "metadata": {},
   "source": [
    "Here we see that our method reduces the number of total countries but doesn't change the frequency of dyads with the most represented countries compared to the previous graph"
   ]
  },
  {
   "cell_type": "markdown",
   "metadata": {},
   "source": [
    "## Removing non usable data for our ML algorithm"
   ]
  },
  {
   "cell_type": "markdown",
   "metadata": {},
   "source": [
    "We know sometimes there is no images for a player and therefor no skin color rating. Therefore we remove them."
   ]
  },
  {
   "cell_type": "code",
   "execution_count": null,
   "metadata": {
    "collapsed": false
   },
   "outputs": [],
   "source": [
    "df_with_pic = df_sup21_once_player[df_sup21_once_player[\"photoID\"].notnull()]"
   ]
  },
  {
   "cell_type": "code",
   "execution_count": null,
   "metadata": {
    "collapsed": false
   },
   "outputs": [],
   "source": [
    "df_sup21_once_player.shape[0]"
   ]
  },
  {
   "cell_type": "code",
   "execution_count": null,
   "metadata": {
    "collapsed": false,
    "scrolled": true
   },
   "outputs": [],
   "source": [
    "df_with_pic.shape[0]"
   ]
  },
  {
   "cell_type": "markdown",
   "metadata": {},
   "source": [
    "Should be all clean now."
   ]
  },
  {
   "cell_type": "code",
   "execution_count": null,
   "metadata": {
    "collapsed": true
   },
   "outputs": [],
   "source": [
    "dfc = df_with_pic"
   ]
  },
  {
   "cell_type": "markdown",
   "metadata": {},
   "source": [
    "## Aggregating the data by player"
   ]
  },
  {
   "cell_type": "markdown",
   "metadata": {},
   "source": [
    "Let's look at a single players dyad to have an idea of what it looks like"
   ]
  },
  {
   "cell_type": "code",
   "execution_count": null,
   "metadata": {
    "collapsed": true
   },
   "outputs": [],
   "source": [
    "groups = dfc.groupby(\"playerShort\")"
   ]
  },
  {
   "cell_type": "code",
   "execution_count": null,
   "metadata": {
    "collapsed": false
   },
   "outputs": [],
   "source": [
    "lucas = groups.get_group(\"lucas-wilchez\")"
   ]
  },
  {
   "cell_type": "code",
   "execution_count": null,
   "metadata": {
    "collapsed": false
   },
   "outputs": [],
   "source": [
    "# Taken form http://nbviewer.jupyter.org/github/mathewzilla/redcard/blob/master/Crowdstorming_visualisation.ipynb \n",
    "lucas.head().ix[:,:13]"
   ]
  },
  {
   "cell_type": "code",
   "execution_count": null,
   "metadata": {
    "collapsed": false
   },
   "outputs": [],
   "source": [
    "# Taken form http://nbviewer.jupyter.org/github/mathewzilla/redcard/blob/master/Crowdstorming_visualisation.ipynb \n",
    "lucas.head().ix[:,13:]"
   ]
  },
  {
   "cell_type": "markdown",
   "metadata": {},
   "source": [
    "First we will only keep the columns that seem relevant to us and remove the ones we think are not important :\n",
    "- player name which is a repetition of the playershort\n",
    "- birthday as it should not be relevant, completely independent (that would be weird al least :))\n",
    "- refNum, refCountry, Alpha3 which are not easily usable as an aggregated feature (a solution to use this part of the data will be detailed later)\n",
    "- nIAT and nExp really not relevant here \n",
    "    we could do a weihted mean with the \"mean\" and \"se\" columns but it seemed a bit exagerated (could be a futur improvement ?)\n",
    "    \n",
    "Why we kept other columns is explained below with the aggregation operation."
   ]
  },
  {
   "cell_type": "code",
   "execution_count": null,
   "metadata": {
    "collapsed": false
   },
   "outputs": [],
   "source": [
    "# We only keep what we think are relevant columns.\n",
    "df_filtered = dfc[[\"playerShort\",\"club\", \"leagueCountry\", \"height\", \"weight\", \"position\", \"games\", \"victories\", \n",
    "                 \"ties\", \"defeats\", \"goals\", \"yellowCards\", \"yellowReds\", \"redCards\",\n",
    "                 \"rater1\", \"rater2\", \"meanIAT\", \"seIAT\", \"meanExp\", \"seExp\"]]"
   ]
  },
  {
   "cell_type": "code",
   "execution_count": null,
   "metadata": {
    "collapsed": false
   },
   "outputs": [],
   "source": [
    "df_grouped = df_filtered.groupby(\"playerShort\").agg({\n",
    "        \"club\": lambda x: x.unique()[0],\n",
    "        \"leagueCountry\": lambda x: x.unique()[0],\n",
    "        \"height\": np.max,\n",
    "        \"weight\": np.max,\n",
    "        \"position\": lambda x: x.unique()[0],\n",
    "        \"games\": np.sum,\n",
    "        \"victories\": np.sum,\n",
    "        \"ties\": np.sum,\n",
    "        \"defeats\": np.sum,\n",
    "        \"goals\": np.sum,\n",
    "        \"yellowCards\": np.sum,\n",
    "        \"yellowReds\": np.sum,\n",
    "        \"redCards\": np.sum,\n",
    "        \"rater1\": np.max, # never changes so we can take either min, max or mean \n",
    "        \"rater2\": np.max, # same here (we used this to test that nothing changed : [np.min, np.max, np,mean])\n",
    "        \"meanIAT\": np.mean, # Here doing the mean seems a bit confusing but it will give an \n",
    "        \"seIAT\": np.mean,   # indicatiion whether the player could have been mistreated in \n",
    "                            # some of his matches or never.\n",
    "        \"meanExp\": np.mean, # Same here\n",
    "        \"seExp\": np.mean    # We could have applied pooled variance (will see later) : https://en.wikipedia.org/wiki/Pooled_variance\n",
    "    })"
   ]
  },
  {
   "cell_type": "code",
   "execution_count": null,
   "metadata": {
    "collapsed": false,
    "scrolled": true
   },
   "outputs": [],
   "source": [
    "# We used this to check wether min and max rating change for each player (which was not the case)\n",
    "#df_grouped[df_grouped[\"rater1\", \"amin\"] != df_grouped[\"rater1\", \"amax\"]]"
   ]
  },
  {
   "cell_type": "code",
   "execution_count": null,
   "metadata": {
    "collapsed": false
   },
   "outputs": [],
   "source": [
    "# We used this to test if some players had multiple clubs, league country or position. Which was not the case.\n",
    "#print(df_grouped[\"club\"].apply(lambda x: x[0].shape).unique())\n",
    "#print(df_grouped[\"leagueCountry\"].apply(lambda x: x[0].shape).unique())\n",
    "#print(df_grouped[\"position\"].apply(lambda x: x[0].shape).unique())"
   ]
  },
  {
   "cell_type": "code",
   "execution_count": null,
   "metadata": {
    "collapsed": false
   },
   "outputs": [],
   "source": [
    "df_grouped.head()"
   ]
  },
  {
   "cell_type": "code",
   "execution_count": null,
   "metadata": {
    "collapsed": false,
    "scrolled": true
   },
   "outputs": [],
   "source": [
    "len(df_grouped)"
   ]
  },
  {
   "cell_type": "markdown",
   "metadata": {},
   "source": [
    "Thanks to the description of the data in DATA.md we know there should be 1586 players with pictures.\n",
    "With this value we can validate the fact that we lost minimal data and have most of the players with a picture."
   ]
  },
  {
   "cell_type": "markdown",
   "metadata": {},
   "source": [
    "## Preparing Data"
   ]
  },
  {
   "cell_type": "markdown",
   "metadata": {},
   "source": [
    "As a last step before starting to do machine learning we need to reformat the data and seperate it"
   ]
  },
  {
   "cell_type": "markdown",
   "metadata": {},
   "source": [
    "First we need to make rows which contain strings in integers (club, position, leagueCountry)"
   ]
  },
  {
   "cell_type": "code",
   "execution_count": null,
   "metadata": {
    "collapsed": false
   },
   "outputs": [],
   "source": [
    "from sklearn import preprocessing\n",
    "\n",
    "df_grouped[\"club\"] = df_grouped[\"club\"].astype(np.str)\n",
    "df_grouped[\"position\"] = df_grouped[\"position\"].astype(np.str)\n",
    "df_grouped[\"leagueCountry\"] = df_grouped[\"leagueCountry\"].astype(np.str)\n",
    "\n",
    "def encodeLabels(col, df):\n",
    "    le = preprocessing.LabelEncoder()\n",
    "    le.fit(df[col].unique())\n",
    "    df[col] = le.transform(df[col])\n",
    "\n",
    "encodeLabels(\"club\", df_grouped)\n",
    "encodeLabels(\"position\", df_grouped)\n",
    "encodeLabels(\"leagueCountry\", df_grouped)"
   ]
  },
  {
   "cell_type": "markdown",
   "metadata": {},
   "source": [
    "Now we can create the futur x and y for training"
   ]
  },
  {
   "cell_type": "code",
   "execution_count": null,
   "metadata": {
    "collapsed": false,
    "scrolled": true
   },
   "outputs": [],
   "source": [
    "y_possible = df_grouped[[\"rater1\",\"rater2\"]]\n",
    "y_possible.head()"
   ]
  },
  {
   "cell_type": "markdown",
   "metadata": {},
   "source": [
    "Let's build y (in a naive fashion for now)"
   ]
  },
  {
   "cell_type": "code",
   "execution_count": null,
   "metadata": {
    "collapsed": true
   },
   "outputs": [],
   "source": [
    "y = ((y_possible['rater1'] + y_possible['rater2']) / 2 < 0.5).values"
   ]
  },
  {
   "cell_type": "code",
   "execution_count": null,
   "metadata": {
    "collapsed": false,
    "scrolled": false
   },
   "outputs": [],
   "source": [
    "x = df_grouped.drop(y_possible, axis=1)\n",
    "x.head()"
   ]
  },
  {
   "cell_type": "code",
   "execution_count": null,
   "metadata": {
    "collapsed": false
   },
   "outputs": [],
   "source": [
    "def prepFeature(feature) :\n",
    "    nans = True in x[feature].isnull().unique()\n",
    "    \n",
    "    if nans:\n",
    "        print(\"mean replacement of nans\")\n",
    "        x[feature] = x[feature].fillna(int(x[feature].mean()))\n",
    "    \n",
    "    f, ax = plt.subplots(1, 1)\n",
    "    ax.set_title(\"histogram of feature \" + feature)\n",
    "    ax.hist(x[feature].values)"
   ]
  },
  {
   "cell_type": "code",
   "execution_count": null,
   "metadata": {
    "collapsed": false
   },
   "outputs": [],
   "source": [
    "prepFeature(\"redCards\")"
   ]
  },
  {
   "cell_type": "code",
   "execution_count": null,
   "metadata": {
    "collapsed": false
   },
   "outputs": [],
   "source": [
    "prepFeature(\"games\")"
   ]
  },
  {
   "cell_type": "code",
   "execution_count": null,
   "metadata": {
    "collapsed": false
   },
   "outputs": [],
   "source": [
    "prepFeature(\"defeats\")"
   ]
  },
  {
   "cell_type": "code",
   "execution_count": null,
   "metadata": {
    "collapsed": false
   },
   "outputs": [],
   "source": [
    "prepFeature(\"height\")"
   ]
  },
  {
   "cell_type": "code",
   "execution_count": null,
   "metadata": {
    "collapsed": false
   },
   "outputs": [],
   "source": [
    "prepFeature(\"meanExp\")"
   ]
  },
  {
   "cell_type": "code",
   "execution_count": null,
   "metadata": {
    "collapsed": false
   },
   "outputs": [],
   "source": [
    "prepFeature(\"goals\")"
   ]
  },
  {
   "cell_type": "code",
   "execution_count": null,
   "metadata": {
    "collapsed": false
   },
   "outputs": [],
   "source": [
    "prepFeature(\"yellowCards\")"
   ]
  },
  {
   "cell_type": "code",
   "execution_count": null,
   "metadata": {
    "collapsed": false
   },
   "outputs": [],
   "source": [
    "prepFeature(\"yellowReds\")"
   ]
  },
  {
   "cell_type": "code",
   "execution_count": null,
   "metadata": {
    "collapsed": false
   },
   "outputs": [],
   "source": [
    "prepFeature(\"club\")"
   ]
  },
  {
   "cell_type": "code",
   "execution_count": null,
   "metadata": {
    "collapsed": false
   },
   "outputs": [],
   "source": [
    "prepFeature(\"weight\")"
   ]
  },
  {
   "cell_type": "code",
   "execution_count": null,
   "metadata": {
    "collapsed": false
   },
   "outputs": [],
   "source": [
    "prepFeature(\"seIAT\")"
   ]
  },
  {
   "cell_type": "code",
   "execution_count": null,
   "metadata": {
    "collapsed": false
   },
   "outputs": [],
   "source": [
    "prepFeature(\"ties\")"
   ]
  },
  {
   "cell_type": "code",
   "execution_count": null,
   "metadata": {
    "collapsed": false
   },
   "outputs": [],
   "source": [
    "prepFeature(\"leagueCountry\")"
   ]
  },
  {
   "cell_type": "code",
   "execution_count": null,
   "metadata": {
    "collapsed": false
   },
   "outputs": [],
   "source": [
    "prepFeature(\"meanIAT\")"
   ]
  },
  {
   "cell_type": "code",
   "execution_count": null,
   "metadata": {
    "collapsed": false
   },
   "outputs": [],
   "source": [
    "prepFeature(\"victories\")"
   ]
  },
  {
   "cell_type": "code",
   "execution_count": null,
   "metadata": {
    "collapsed": false
   },
   "outputs": [],
   "source": [
    "prepFeature(\"seExp\")"
   ]
  },
  {
   "cell_type": "code",
   "execution_count": null,
   "metadata": {
    "collapsed": false
   },
   "outputs": [],
   "source": [
    "prepFeature(\"position\")"
   ]
  },
  {
   "cell_type": "code",
   "execution_count": null,
   "metadata": {
    "collapsed": false
   },
   "outputs": [],
   "source": [
    "from sklearn.preprocessing import Normalizer\n",
    "normalizer = Normalizer()\n",
    "new_x = normalizer.fit_transform(x, y)"
   ]
  },
  {
   "cell_type": "code",
   "execution_count": null,
   "metadata": {
    "collapsed": false
   },
   "outputs": [],
   "source": [
    "new_x.shape"
   ]
  },
  {
   "cell_type": "code",
   "execution_count": null,
   "metadata": {
    "collapsed": false
   },
   "outputs": [],
   "source": [
    "for feature in new_x.T:\n",
    "    plt.hist(feature, alpha=0.4, bins=50)\n",
    "    plt.show"
   ]
  },
  {
   "cell_type": "code",
   "execution_count": null,
   "metadata": {
    "collapsed": true
   },
   "outputs": [],
   "source": [
    "x = new_x"
   ]
  },
  {
   "cell_type": "markdown",
   "metadata": {},
   "source": [
    "## Naive machine learning"
   ]
  },
  {
   "cell_type": "code",
   "execution_count": null,
   "metadata": {
    "collapsed": true
   },
   "outputs": [],
   "source": [
    "from sklearn.ensemble import RandomForestClassifier as RFC\n",
    "from sklearn import metrics"
   ]
  },
  {
   "cell_type": "code",
   "execution_count": null,
   "metadata": {
    "collapsed": true
   },
   "outputs": [],
   "source": [
    "rfc = RFC(n_estimators=10, n_jobs=-1, class_weight=None)"
   ]
  },
  {
   "cell_type": "code",
   "execution_count": null,
   "metadata": {
    "collapsed": false
   },
   "outputs": [],
   "source": [
    "rfc.fit(x, y)"
   ]
  },
  {
   "cell_type": "code",
   "execution_count": null,
   "metadata": {
    "collapsed": true
   },
   "outputs": [],
   "source": [
    "y_pred = rfc.predict(x)"
   ]
  },
  {
   "cell_type": "code",
   "execution_count": null,
   "metadata": {
    "collapsed": false
   },
   "outputs": [],
   "source": [
    "print(metrics.mean_absolute_error(y, y_pred))\n",
    "print(metrics.accuracy_score(y, y_pred))"
   ]
  },
  {
   "cell_type": "markdown",
   "metadata": {},
   "source": [
    "### Ok so we're done here ! 99% seems reasonable, goodbye !"
   ]
  },
  {
   "cell_type": "markdown",
   "metadata": {},
   "source": [
    " ..."
   ]
  },
  {
   "cell_type": "markdown",
   "metadata": {},
   "source": [
    " ..."
   ]
  },
  {
   "cell_type": "markdown",
   "metadata": {},
   "source": [
    " ..."
   ]
  },
  {
   "cell_type": "markdown",
   "metadata": {},
   "source": [
    " ..."
   ]
  },
  {
   "cell_type": "markdown",
   "metadata": {},
   "source": [
    "## Ok just kidding let's get serious with this !"
   ]
  },
  {
   "cell_type": "markdown",
   "metadata": {},
   "source": [
    "First let's really test the naive approach and see how it could perform in a \"real\" situation."
   ]
  },
  {
   "cell_type": "markdown",
   "metadata": {},
   "source": [
    "let's first split the dataset into a training and testing set. This seems to be generally a good practice in machine learning :)."
   ]
  },
  {
   "cell_type": "code",
   "execution_count": null,
   "metadata": {
    "collapsed": false
   },
   "outputs": [],
   "source": [
    "from sklearn.model_selection import train_test_split\n",
    "\n",
    "x_train, x_test, y_train, y_test = train_test_split(x, y, test_size=0.2, random_state=4)"
   ]
  },
  {
   "cell_type": "code",
   "execution_count": null,
   "metadata": {
    "collapsed": true
   },
   "outputs": [],
   "source": [
    "rfc = RFC(n_estimators=10, n_jobs=-1, class_weight=None)"
   ]
  },
  {
   "cell_type": "code",
   "execution_count": null,
   "metadata": {
    "collapsed": false
   },
   "outputs": [],
   "source": [
    "rfc.fit(x_train, y_train)"
   ]
  },
  {
   "cell_type": "code",
   "execution_count": null,
   "metadata": {
    "collapsed": true
   },
   "outputs": [],
   "source": [
    "y_pred = rfc.predict(x_test)"
   ]
  },
  {
   "cell_type": "code",
   "execution_count": null,
   "metadata": {
    "collapsed": false,
    "scrolled": false
   },
   "outputs": [],
   "source": [
    "print(metrics.mean_absolute_error(y_test, y_pred))\n",
    "print(metrics.accuracy_score(y_test, y_pred))"
   ]
  },
  {
   "cell_type": "markdown",
   "metadata": {},
   "source": [
    "Ok that's kind of disapointing... (but not so much suprising). A better way to show the error is cross validation."
   ]
  },
  {
   "cell_type": "code",
   "execution_count": null,
   "metadata": {
    "collapsed": true
   },
   "outputs": [],
   "source": [
    "#rfc = RFC(n_estimators=10, n_jobs=-1, class_weight=None)"
   ]
  },
  {
   "cell_type": "code",
   "execution_count": null,
   "metadata": {
    "collapsed": false
   },
   "outputs": [],
   "source": [
    "# Cross validation 10-Fold (for now) with accuracy scoring\n",
    "from sklearn.model_selection import cross_val_score\n",
    "scores = cross_val_score(rfc, x, y, cv=10, scoring='accuracy')"
   ]
  },
  {
   "cell_type": "code",
   "execution_count": null,
   "metadata": {
    "collapsed": false
   },
   "outputs": [],
   "source": [
    "def show_score(scores):\n",
    "    print(scores)\n",
    "    print(\"--------------------------\")\n",
    "    print(\"mean :\", np.mean(scores))\n",
    "    print(\"min :\", np.min(scores))\n",
    "    print(\"max :\", np.max(scores))\n",
    "\n",
    "show_score(scores)"
   ]
  },
  {
   "cell_type": "markdown",
   "metadata": {},
   "source": [
    "We can see again that the result is not pretty, the mean result we have is ~76% which is not much better than perdicting that all players are light skinned"
   ]
  },
  {
   "cell_type": "markdown",
   "metadata": {},
   "source": [
    "proportions of classes for the mean rating (considering 1 -> $mean \\leq 0.5$)"
   ]
  },
  {
   "cell_type": "code",
   "execution_count": null,
   "metadata": {
    "collapsed": false,
    "scrolled": true
   },
   "outputs": [],
   "source": [
    "# Proportion of light and dark skinned players\n",
    "prop_1 = np.sum(y) / len(y)\n",
    "prop_0 = 1 - prop_1\n",
    "print(\"proportion of ones :\", prop_1)\n",
    "print(\"proportion of zeroes :\", prop_0)"
   ]
  },
  {
   "cell_type": "markdown",
   "metadata": {},
   "source": [
    "Let's try to use some well known ML methods to understand what's going wrong."
   ]
  },
  {
   "cell_type": "markdown",
   "metadata": {},
   "source": [
    "Let's look at what the confusion matrix has to say."
   ]
  },
  {
   "cell_type": "code",
   "execution_count": null,
   "metadata": {
    "collapsed": false
   },
   "outputs": [],
   "source": [
    "confusion_mx = metrics.confusion_matrix(y_test, y_pred)\n",
    "TP = confusion_mx[1, 1]\n",
    "TN = confusion_mx[0, 0]\n",
    "FP = confusion_mx[0, 1]\n",
    "FN = confusion_mx[1, 0]"
   ]
  },
  {
   "cell_type": "code",
   "execution_count": null,
   "metadata": {
    "collapsed": false,
    "scrolled": false
   },
   "outputs": [],
   "source": [
    "confusion_mx"
   ]
  },
  {
   "cell_type": "markdown",
   "metadata": {},
   "source": [
    "|total : 317| pred : 0 |  pred : 1  |\n",
    "|---|----|-----|\n",
    "| actual : 0 | TN = ~30 | FP = ~50 |\n",
    "| actual : 1 | FN = ~30 | TP = ~200 |"
   ]
  },
  {
   "cell_type": "markdown",
   "metadata": {},
   "source": [
    "We can see here that we are good at predicting ones, but our predictions of 0 are all over the place."
   ]
  },
  {
   "cell_type": "markdown",
   "metadata": {},
   "source": [
    "There is an easy way to show this : the **Specificity** (or how correct is the classifier with 0 values)"
   ]
  },
  {
   "cell_type": "code",
   "execution_count": null,
   "metadata": {
    "collapsed": false
   },
   "outputs": [],
   "source": [
    "specificity = TN / float(TN + FP)\n",
    "print(\"Specificity :\", specificity)"
   ]
  },
  {
   "cell_type": "markdown",
   "metadata": {},
   "source": [
    "We can compare it to **Sensitivity** (or true positive rate)"
   ]
  },
  {
   "cell_type": "code",
   "execution_count": null,
   "metadata": {
    "collapsed": false
   },
   "outputs": [],
   "source": [
    "sensitivity = TP / float(TP + FN)\n",
    "print(\"sensitivity :\", sensitivity)"
   ]
  },
  {
   "cell_type": "markdown",
   "metadata": {},
   "source": [
    "Which is much better. \n",
    "\n",
    "PS : all these methods are taken from the course and the code was copied from this notebook :\n",
    "\n",
    "http://nbviewer.jupyter.org/github/justmarkham/scikit-learn-videos/blob/master/09_classification_metrics.ipynb"
   ]
  },
  {
   "cell_type": "markdown",
   "metadata": {},
   "source": [
    "So, how are we going to do a better job ?"
   ]
  },
  {
   "cell_type": "markdown",
   "metadata": {},
   "source": [
    "The first thing we realize is that there is a way to indicate to the random forest classifier the fact that there is a disparity within the data."
   ]
  },
  {
   "cell_type": "code",
   "execution_count": null,
   "metadata": {
    "collapsed": true
   },
   "outputs": [],
   "source": [
    "class_weights = {\n",
    "    1 : prop_1,\n",
    "    0 : prop_0\n",
    "}"
   ]
  },
  {
   "cell_type": "code",
   "execution_count": null,
   "metadata": {
    "collapsed": false
   },
   "outputs": [],
   "source": [
    "rfc = RFC(n_estimators=10, n_jobs=-1, class_weight=class_weights)"
   ]
  },
  {
   "cell_type": "markdown",
   "metadata": {},
   "source": [
    "We will use a function that prints out most of the information we used above to test our new rfc "
   ]
  },
  {
   "cell_type": "code",
   "execution_count": null,
   "metadata": {
    "collapsed": false
   },
   "outputs": [],
   "source": [
    "from helpers import test_rfc\n",
    "test_rfc(rfc, x, y)"
   ]
  },
  {
   "cell_type": "markdown",
   "metadata": {},
   "source": [
    "Ok, to bad it's not better than before."
   ]
  },
  {
   "cell_type": "markdown",
   "metadata": {},
   "source": [
    "Let's try something else : changing the classification threshold"
   ]
  },
  {
   "cell_type": "markdown",
   "metadata": {},
   "source": [
    "We think this will help the **specificity** get higher."
   ]
  },
  {
   "cell_type": "markdown",
   "metadata": {},
   "source": [
    "let's retrain our data with our new rfc (with weights)"
   ]
  },
  {
   "cell_type": "code",
   "execution_count": null,
   "metadata": {
    "collapsed": true
   },
   "outputs": [],
   "source": [
    "rfc.fit(x_train, y_train)\n",
    "y_pred = rfc.predict(x_test)"
   ]
  },
  {
   "cell_type": "markdown",
   "metadata": {},
   "source": [
    "getting the probability of ones of the classifier"
   ]
  },
  {
   "cell_type": "code",
   "execution_count": null,
   "metadata": {
    "collapsed": true
   },
   "outputs": [],
   "source": [
    "y_pred_prob = rfc.predict_proba(x_test)[:, 1]"
   ]
  },
  {
   "cell_type": "markdown",
   "metadata": {},
   "source": [
    "Separating the probability of true and false values"
   ]
  },
  {
   "cell_type": "code",
   "execution_count": null,
   "metadata": {
    "collapsed": false
   },
   "outputs": [],
   "source": [
    "y_pred_prob1 = [x[1] for x in zip(y_test, y_pred_prob) if x[0]]\n",
    "y_pred_prob0 = [x[1] for x in zip(y_test, y_pred_prob) if not x[0]]"
   ]
  },
  {
   "cell_type": "markdown",
   "metadata": {},
   "source": [
    "The following graph was inspired by this video :\n",
    "\n",
    "https://www.youtube.com/watch?v=OAl6eAyP-yo\n",
    "\n",
    "It shows in blue the probability given to the true 0 values and in red the probability of true 1 values."
   ]
  },
  {
   "cell_type": "code",
   "execution_count": null,
   "metadata": {
    "collapsed": false
   },
   "outputs": [],
   "source": [
    "# histogram of predicted probabilities\n",
    "plt.hist(y_pred_prob1, bins=8, alpha=0.6, color=\"red\")\n",
    "plt.hist(y_pred_prob0, bins=8, alpha=0.6, color=\"blue\")\n",
    "plt.xlim(0, 1)\n",
    "plt.title('Histogram of predicted probabilities')\n",
    "plt.xlabel('Predicted probabilities')\n",
    "plt.ylabel('Frequency')"
   ]
  },
  {
   "cell_type": "markdown",
   "metadata": {},
   "source": [
    "With this graph we realized that it's going to be very difficult to have a good and fair (in terms of specificity and sensitivity) "
   ]
  },
  {
   "cell_type": "markdown",
   "metadata": {},
   "source": [
    "To verify this fact we are going to use the ROC curve and the AUC (Area Under the Curve) metric"
   ]
  },
  {
   "cell_type": "code",
   "execution_count": null,
   "metadata": {
    "collapsed": false
   },
   "outputs": [],
   "source": [
    "# Code copied entirely from \n",
    "# http://nbviewer.jupyter.org/github/justmarkham/scikit-learn-videos/blob/master/09_classification_metrics.ipynb\n",
    "# There wasn't really another way to show that though :)\n",
    "fpr, tpr, thresholds = metrics.roc_curve(y_test, y_pred_prob)\n",
    "plt.plot(fpr, tpr)\n",
    "plt.xlim([0.0, 1.0])\n",
    "plt.ylim([0.0, 1.0])\n",
    "plt.title('ROC curve for our classifier')\n",
    "plt.xlabel('False Positive Rate (1 - Specificity)')\n",
    "plt.ylabel('True Positive Rate (Sensitivity)')\n",
    "plt.grid(True)"
   ]
  },
  {
   "cell_type": "code",
   "execution_count": null,
   "metadata": {
    "collapsed": false,
    "scrolled": true
   },
   "outputs": [],
   "source": [
    "# calculate cross-validated AUC score\n",
    "AUC_mean = cross_val_score(rfc, x, y, cv=10, scoring='roc_auc').mean()\n",
    "print(\"AUC score :\", AUC_mean)"
   ]
  },
  {
   "cell_type": "markdown",
   "metadata": {},
   "source": [
    "Ok, so what does this all mean."
   ]
  },
  {
   "cell_type": "markdown",
   "metadata": {},
   "source": [
    "First the ROC curve shows us what are the best compromises we can make between Specificity and Sensitivity (be aware that here specificity is inversed), with that you could chose precisely what you want the classifier to be compromising."
   ]
  },
  {
   "cell_type": "markdown",
   "metadata": {},
   "source": [
    "For the AUC score it shows a score of our model compared to a random sampling of 1's and 0's. (PS. the random sample is weighted of course)"
   ]
  },
  {
   "cell_type": "markdown",
   "metadata": {},
   "source": [
    "Ok now we have all the tools to try and accuratly validate a method with a few metrics. We agregated them into one function."
   ]
  },
  {
   "cell_type": "code",
   "execution_count": null,
   "metadata": {
    "collapsed": false
   },
   "outputs": [],
   "source": [
    "from helpers import test_rfc_complete\n",
    "\n",
    "test_rfc_complete(rfc, x, y)"
   ]
  },
  {
   "cell_type": "markdown",
   "metadata": {},
   "source": [
    "## Modifying the model"
   ]
  },
  {
   "cell_type": "markdown",
   "metadata": {},
   "source": [
    "In this part we try to modify our model to have better result."
   ]
  },
  {
   "cell_type": "markdown",
   "metadata": {},
   "source": [
    "We have a lot of parameter to test for the random classifier, we selected two of them we think could change the results of the model.\n",
    "\n",
    "The parameters we will test : \n",
    " - n_estimators\n",
    " - max_features"
   ]
  },
  {
   "cell_type": "code",
   "execution_count": null,
   "metadata": {
    "collapsed": true
   },
   "outputs": [],
   "source": [
    "rfc = RFC(n_estimators=10, max_features=None, n_jobs=-1, class_weight=class_weights)"
   ]
  },
  {
   "cell_type": "code",
   "execution_count": null,
   "metadata": {
    "collapsed": true
   },
   "outputs": [],
   "source": [
    "from scipy.stats import uniform\n",
    "\n",
    "n_estimators_range = list(range(10,40))\n",
    "max_features_range = uniform()\n",
    "param_dist = dict(n_estimators=n_estimators_range, \n",
    "                  max_features=max_features_range)"
   ]
  },
  {
   "cell_type": "code",
   "execution_count": null,
   "metadata": {
    "collapsed": false
   },
   "outputs": [],
   "source": [
    "from sklearn.model_selection import RandomizedSearchCV\n",
    "rand = RandomizedSearchCV(rfc, param_dist, cv=10, scoring='roc_auc', n_iter=10, random_state=5)\n",
    "rand.fit(x, y)"
   ]
  },
  {
   "cell_type": "code",
   "execution_count": null,
   "metadata": {
    "collapsed": false
   },
   "outputs": [],
   "source": [
    "# removed as not relevant even if there are useful informations for us\n",
    "#rand.cv_results_"
   ]
  },
  {
   "cell_type": "code",
   "execution_count": null,
   "metadata": {
    "collapsed": false
   },
   "outputs": [],
   "source": [
    "rand.best_params_"
   ]
  },
  {
   "cell_type": "code",
   "execution_count": null,
   "metadata": {
    "collapsed": false
   },
   "outputs": [],
   "source": [
    "rand.best_score_"
   ]
  },
  {
   "cell_type": "code",
   "execution_count": null,
   "metadata": {
    "collapsed": false
   },
   "outputs": [],
   "source": [
    "max_features_b = rand.best_params_[\"max_features\"]\n",
    "n_estimators_b = rand.best_params_[\"n_estimators\"]"
   ]
  },
  {
   "cell_type": "code",
   "execution_count": null,
   "metadata": {
    "collapsed": false,
    "scrolled": true
   },
   "outputs": [],
   "source": [
    "test_rfc_complete(RFC(max_features=max_features_b, n_estimators=n_estimators_b, n_jobs=-1, class_weight=class_weights), x, y)"
   ]
  },
  {
   "cell_type": "markdown",
   "metadata": {},
   "source": [
    "We should have with this method the best AUC score we could have. Which is still not really an improvement... (we will reuse this method later)"
   ]
  },
  {
   "cell_type": "markdown",
   "metadata": {},
   "source": [
    "## Raters changes"
   ]
  },
  {
   "cell_type": "markdown",
   "metadata": {},
   "source": [
    "As we said earlier in this notebook there are some things we can tune with the raters data we have.\n",
    "\n",
    "As we know the two raters have the following specificities :\n",
    "- they rate differently\n",
    "- they have values [0,0.25,0.5,0.75,1]"
   ]
  },
  {
   "cell_type": "markdown",
   "metadata": {},
   "source": [
    "There are a few things we want to test : \n",
    "- a class for each possible value of the raters\n",
    "- a class for < 0.5, > 0.5 and 0.5\n",
    "- an independent learning for both raters\n",
    "- only keeping the values where rater 1 and 2 are identical"
   ]
  },
  {
   "cell_type": "markdown",
   "metadata": {},
   "source": [
    "We will test some different mix below"
   ]
  },
  {
   "cell_type": "markdown",
   "metadata": {},
   "source": [
    "### A cluster for each value with independent raters"
   ]
  },
  {
   "cell_type": "markdown",
   "metadata": {},
   "source": [
    "Here we will try predicting the 5 possible classes for one of the raters"
   ]
  },
  {
   "cell_type": "code",
   "execution_count": null,
   "metadata": {
    "collapsed": true
   },
   "outputs": [],
   "source": [
    "y_1 = (y_possible['rater1']).values"
   ]
  },
  {
   "cell_type": "code",
   "execution_count": null,
   "metadata": {
    "collapsed": false
   },
   "outputs": [],
   "source": [
    "le = preprocessing.LabelEncoder()\n",
    "le.fit(np.unique(y_1))\n",
    "y_1 = le.transform(y_1)\n",
    "y_1"
   ]
  },
  {
   "cell_type": "code",
   "execution_count": null,
   "metadata": {
    "collapsed": false
   },
   "outputs": [],
   "source": [
    "x_train, x_test, y_train, y_test = train_test_split(x, y_1, test_size=0.2, random_state=4)"
   ]
  },
  {
   "cell_type": "markdown",
   "metadata": {},
   "source": [
    "We use the best parameters we found before (they may need a twist later as the model changes)"
   ]
  },
  {
   "cell_type": "code",
   "execution_count": null,
   "metadata": {
    "collapsed": true
   },
   "outputs": [],
   "source": [
    "rfc = RFC(max_features=max_features_b, n_estimators=n_estimators_b, n_jobs=-1)"
   ]
  },
  {
   "cell_type": "code",
   "execution_count": null,
   "metadata": {
    "collapsed": false,
    "scrolled": true
   },
   "outputs": [],
   "source": [
    "rfc.fit(x_train, y_train)"
   ]
  },
  {
   "cell_type": "code",
   "execution_count": null,
   "metadata": {
    "collapsed": true
   },
   "outputs": [],
   "source": [
    "y_pred = rfc.predict(x_test)"
   ]
  },
  {
   "cell_type": "code",
   "execution_count": null,
   "metadata": {
    "collapsed": false,
    "scrolled": true
   },
   "outputs": [],
   "source": [
    "scores = cross_val_score(rfc, x, y, cv=10, scoring='accuracy')\n",
    "show_score(scores)"
   ]
  },
  {
   "cell_type": "markdown",
   "metadata": {},
   "source": [
    "For this method we decided to not go further as it is difficultly testable and the following method gave kind of similar results"
   ]
  },
  {
   "cell_type": "code",
   "execution_count": null,
   "metadata": {
    "collapsed": false
   },
   "outputs": [],
   "source": [
    "metrics.confusion_matrix(y_pred=y_pred, y_true=y_test)"
   ]
  },
  {
   "cell_type": "markdown",
   "metadata": {},
   "source": [
    "We will not make an emphasis on this but here is the confusion matrix."
   ]
  },
  {
   "cell_type": "markdown",
   "metadata": {},
   "source": [
    "### 3 classes for values with a twist on the raters values"
   ]
  },
  {
   "cell_type": "markdown",
   "metadata": {},
   "source": [
    "Let's look a bit more at the raters :"
   ]
  },
  {
   "cell_type": "code",
   "execution_count": null,
   "metadata": {
    "collapsed": false
   },
   "outputs": [],
   "source": [
    "diff = [x[0] - x[1] for x in zip((y_possible['rater2']).values,(y_possible['rater1']).values) if not x[0] == x[1]]"
   ]
  },
  {
   "cell_type": "code",
   "execution_count": null,
   "metadata": {
    "collapsed": true
   },
   "outputs": [],
   "source": [
    "diff = np.abs(diff)"
   ]
  },
  {
   "cell_type": "code",
   "execution_count": null,
   "metadata": {
    "collapsed": false
   },
   "outputs": [],
   "source": [
    "np.unique(diff, return_counts=True)"
   ]
  },
  {
   "cell_type": "markdown",
   "metadata": {},
   "source": [
    "We can see above that there are only small differences and 2 times where the difference is 0.5"
   ]
  },
  {
   "cell_type": "markdown",
   "metadata": {},
   "source": [
    "With that we thought of doing this :\n",
    "- each time both raters are under 0.5 we put it in group 0\n",
    "- each time both raters are above 0.5 we put it in group 1\n",
    "- each time one rater is at 0.5 we look if the other falls in 0 or 1 and select that value\n",
    "- if both rating are 0.5 we put it in group 2\n",
    "- if both rating are between < 0.5 and > 0.5 we put it in group 3 "
   ]
  },
  {
   "cell_type": "code",
   "execution_count": null,
   "metadata": {
    "collapsed": false
   },
   "outputs": [],
   "source": [
    "y_2 = []\n",
    "for rate1, rate2 in zip((y_possible['rater2']).values,(y_possible['rater1']).values):\n",
    "    if ((rate1 <= 0.5 and rate2 < 0.5) or (rate1 < 0.5 and rate2 <= 0.5)):\n",
    "        y_2.append(1)\n",
    "    elif ((rate1 >= 0.5 and rate2 > 0.5) or (rate1 > 0.5 and rate2 >= 0.5)):\n",
    "        y_2.append(0)\n",
    "    elif (rate1 == 0.5 or rate2 == 0.5):\n",
    "        y_2.append(2)\n",
    "    else :\n",
    "        y_2.append(3)\n",
    "        "
   ]
  },
  {
   "cell_type": "code",
   "execution_count": null,
   "metadata": {
    "collapsed": false,
    "scrolled": true
   },
   "outputs": [],
   "source": [
    "np.unique(y_2, return_counts=True)"
   ]
  },
  {
   "cell_type": "markdown",
   "metadata": {},
   "source": [
    "We see here that the third group actually is never selected."
   ]
  },
  {
   "cell_type": "code",
   "execution_count": null,
   "metadata": {
    "collapsed": false
   },
   "outputs": [],
   "source": [
    "x_train, x_test, y_train, y_test = train_test_split(x, y_2, test_size=0.2, random_state=4)"
   ]
  },
  {
   "cell_type": "markdown",
   "metadata": {},
   "source": [
    "We use the best parameters we found before."
   ]
  },
  {
   "cell_type": "code",
   "execution_count": null,
   "metadata": {
    "collapsed": true
   },
   "outputs": [],
   "source": [
    "rfc = RFC(max_features=max_features_b, n_estimators=n_estimators_b, n_jobs=-1)"
   ]
  },
  {
   "cell_type": "code",
   "execution_count": null,
   "metadata": {
    "collapsed": false
   },
   "outputs": [],
   "source": [
    "scores = cross_val_score(rfc, x, y, cv=10, scoring='accuracy')\n",
    "show_score(scores)"
   ]
  },
  {
   "cell_type": "markdown",
   "metadata": {},
   "source": [
    "Here accuracy has not changed from before. Let's look at the confusion matrix."
   ]
  },
  {
   "cell_type": "code",
   "execution_count": null,
   "metadata": {
    "collapsed": false
   },
   "outputs": [],
   "source": [
    "# Prep of training and testing sets\n",
    "x_train, x_test, y_train, y_test = train_test_split(x, y_2, test_size=0.2, random_state=4)\n",
    "\n",
    "# Do prediction for test values\n",
    "rfc.fit(x_train, y_train)\n",
    "y_pred = rfc.predict(x_test)\n",
    "\n",
    "# Let's compute the convolution matrix\n",
    "confusion_mx = metrics.confusion_matrix(y_test, y_pred)\n",
    "confusion_mx"
   ]
  },
  {
   "cell_type": "markdown",
   "metadata": {},
   "source": [
    "With the confusion matrix, the first problem we see is that their was **no prediction for the class 2** (there may be a few if you rerun the code). The second is that there is a lot false positive and the actual sensitivity is :"
   ]
  },
  {
   "cell_type": "code",
   "execution_count": null,
   "metadata": {
    "collapsed": false
   },
   "outputs": [],
   "source": [
    "confusion_mx[1,1] / (confusion_mx[0,1]  + confusion_mx[1,1] +confusion_mx[2,1])"
   ]
  },
  {
   "cell_type": "markdown",
   "metadata": {},
   "source": [
    "Which is worse than what we had before."
   ]
  },
  {
   "cell_type": "markdown",
   "metadata": {},
   "source": [
    "### last solution, change the threshold position"
   ]
  },
  {
   "cell_type": "markdown",
   "metadata": {},
   "source": [
    "The intuition for this change is that we know that our classifier is better at predicting \"lighter\" players, therefore increasing the considered \"light\" players we should get better results in terms of accuracy. "
   ]
  },
  {
   "cell_type": "code",
   "execution_count": null,
   "metadata": {
    "collapsed": false
   },
   "outputs": [],
   "source": [
    "y_3 = ((y_possible['rater1'] + y_possible['rater2']) / 2 <= 0.5).values"
   ]
  },
  {
   "cell_type": "code",
   "execution_count": null,
   "metadata": {
    "collapsed": false
   },
   "outputs": [],
   "source": [
    "x_train, x_test, y_train, y_test = train_test_split(x, y_3, test_size=0.2, random_state=4)"
   ]
  },
  {
   "cell_type": "markdown",
   "metadata": {},
   "source": [
    "We know this is the best result we have, so let's find the best parameters we can."
   ]
  },
  {
   "cell_type": "code",
   "execution_count": null,
   "metadata": {
    "collapsed": true
   },
   "outputs": [],
   "source": [
    "prop1 = np.sum(y_3) / len(y_3)\n",
    "prop0 = 1 - prop_1\n",
    "class_weights = {\n",
    "    0 : prop0,\n",
    "    1 : prop1\n",
    "}"
   ]
  },
  {
   "cell_type": "code",
   "execution_count": null,
   "metadata": {
    "collapsed": false
   },
   "outputs": [],
   "source": [
    "prop1"
   ]
  },
  {
   "cell_type": "code",
   "execution_count": null,
   "metadata": {
    "collapsed": true
   },
   "outputs": [],
   "source": [
    "rfc = RFC(n_estimators=10, max_features=None, n_jobs=-1, class_weight=class_weights)"
   ]
  },
  {
   "cell_type": "code",
   "execution_count": null,
   "metadata": {
    "collapsed": true
   },
   "outputs": [],
   "source": [
    "from scipy.stats import uniform\n",
    "\n",
    "n_estimators_range = list(range(20,40))\n",
    "max_features_range = uniform()\n",
    "param_dist = dict(n_estimators=n_estimators_range, \n",
    "                  max_features=max_features_range)"
   ]
  },
  {
   "cell_type": "code",
   "execution_count": null,
   "metadata": {
    "collapsed": false
   },
   "outputs": [],
   "source": [
    "from sklearn.model_selection import RandomizedSearchCV\n",
    "rand = RandomizedSearchCV(rfc, param_dist, cv=10, scoring='roc_auc', n_iter=10, random_state=5)\n",
    "rand.fit(x, y_3)"
   ]
  },
  {
   "cell_type": "code",
   "execution_count": null,
   "metadata": {
    "collapsed": false
   },
   "outputs": [],
   "source": [
    "# removed as not relevant even if there are useful informations for us\n",
    "#rand.cv_results_"
   ]
  },
  {
   "cell_type": "code",
   "execution_count": null,
   "metadata": {
    "collapsed": false
   },
   "outputs": [],
   "source": [
    "rand.best_params_"
   ]
  },
  {
   "cell_type": "code",
   "execution_count": null,
   "metadata": {
    "collapsed": false
   },
   "outputs": [],
   "source": [
    "rand.best_score_"
   ]
  },
  {
   "cell_type": "code",
   "execution_count": null,
   "metadata": {
    "collapsed": false
   },
   "outputs": [],
   "source": [
    "max_features_b = rand.best_params_[\"max_features\"]\n",
    "n_estimators_b = rand.best_params_[\"n_estimators\"]"
   ]
  },
  {
   "cell_type": "code",
   "execution_count": null,
   "metadata": {
    "collapsed": true
   },
   "outputs": [],
   "source": [
    "rfc = RFC(max_features=max_features_b, n_estimators=n_estimators_b, n_jobs=-1, class_weight=class_weights)"
   ]
  },
  {
   "cell_type": "code",
   "execution_count": null,
   "metadata": {
    "collapsed": false,
    "scrolled": true
   },
   "outputs": [],
   "source": [
    "test_rfc_complete(rfc, x, y_3)"
   ]
  },
  {
   "cell_type": "markdown",
   "metadata": {},
   "source": [
    "Ok here we have it, the best result we had so far. The AUC score is higher than ever before (~76%) ! With an accuracy of 84% we are also above all previously done tests. But if we look at specificity, it's not really better than before. but knowing the AUC score we know we can find good compromises between the two. "
   ]
  },
  {
   "cell_type": "markdown",
   "metadata": {},
   "source": [
    "## Learning curves"
   ]
  },
  {
   "cell_type": "markdown",
   "metadata": {},
   "source": [
    "As we were asked let's show the learning curves for our best estimator"
   ]
  },
  {
   "cell_type": "code",
   "execution_count": null,
   "metadata": {
    "collapsed": true
   },
   "outputs": [],
   "source": [
    "y = y_3"
   ]
  },
  {
   "cell_type": "code",
   "execution_count": null,
   "metadata": {
    "collapsed": true
   },
   "outputs": [],
   "source": [
    "rfc = RFC(max_features=max_features_b, n_estimators=n_estimators_b, n_jobs=-1, class_weight=class_weights)"
   ]
  },
  {
   "cell_type": "code",
   "execution_count": null,
   "metadata": {
    "collapsed": false
   },
   "outputs": [],
   "source": [
    "from sklearn.model_selection import learning_curve\n",
    "\n",
    "_, train_scores, test_scores = learning_curve(rfc, x, y, n_jobs=-1)\n",
    "train_scores_mean = np.mean(train_scores, axis=1)\n",
    "test_scores_mean = np.mean(test_scores, axis=1)"
   ]
  },
  {
   "cell_type": "code",
   "execution_count": null,
   "metadata": {
    "collapsed": false,
    "scrolled": false
   },
   "outputs": [],
   "source": [
    "plt.figure()\n",
    "plt.grid(True)\n",
    "plt.xlabel(\"Training examples\")\n",
    "plt.ylabel(\"Score\")\n",
    "plt.plot(train_sizes, train_scores_mean, 'o-', color=\"r\",\n",
    "         label=\"Training score\")\n",
    "plt.plot(train_sizes, test_scores_mean, 'o-', color=\"g\",\n",
    "         label=\"Cross-validation score\")"
   ]
  },
  {
   "cell_type": "markdown",
   "metadata": {},
   "source": [
    "Let's know do the same thing for other parameters :"
   ]
  },
  {
   "cell_type": "code",
   "execution_count": null,
   "metadata": {
    "collapsed": false
   },
   "outputs": [],
   "source": [
    "fig, axes = plt.subplots(2,4)\n",
    "\n",
    "plt.xlim([0,1600])\n",
    "plt.ylim([0,1])\n",
    "\n",
    "for i,n_estimators in enumerate(range(1, 40, 5)):\n",
    "    rfc = RFC(max_features=max_features_b, n_estimators=n_estimators, n_jobs=-1, class_weight=class_weights)\n",
    "    train_sizes, train_scores, test_scores = learning_curve(rfc, x, y, cv=20, n_jobs=-1)\n",
    "    train_scores_mean = np.mean(train_scores, axis=1)\n",
    "    test_scores_mean = np.mean(test_scores, axis=1)\n",
    "    \n",
    "    curr_axis = axis[i % 2, i//4]\n",
    "    \n",
    "    curr_axis.set_xlabel(\"Training examples\")\n",
    "    curr_axis.set_ylabel(\"Score\")\n",
    "    curr_axis.plot(train_sizes, train_scores_mean, 'o-', color=\"r\", label=\"Training score\")\n",
    "    curr_axis.plot(train_sizes, test_scores_mean, 'o-', color=\"g\", label=\"Cross-validation score\")"
   ]
  },
  {
   "cell_type": "code",
   "execution_count": null,
   "metadata": {
    "collapsed": true
   },
   "outputs": [],
   "source": []
  },
  {
   "cell_type": "markdown",
   "metadata": {},
   "source": [
    "# Conclusion"
   ]
  },
  {
   "cell_type": "markdown",
   "metadata": {},
   "source": [
    "Of course The last results we have are still not as good as we had hoped. We think this must come from the fact that we have to little information for this problem."
   ]
  },
  {
   "cell_type": "code",
   "execution_count": null,
   "metadata": {
    "collapsed": true
   },
   "outputs": [],
   "source": []
  }
 ],
 "metadata": {
  "kernelspec": {
   "display_name": "Python 3",
   "language": "python",
   "name": "python3"
  },
  "language_info": {
   "codemirror_mode": {
    "name": "ipython",
    "version": 3
   },
   "file_extension": ".py",
   "mimetype": "text/x-python",
   "name": "python",
   "nbconvert_exporter": "python",
   "pygments_lexer": "ipython3",
   "version": "3.5.2"
  }
 },
 "nbformat": 4,
 "nbformat_minor": 1
}
