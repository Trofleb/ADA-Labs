{
 "cells": [
  {
   "cell_type": "markdown",
   "metadata": {},
   "source": [
    "# Applied Machine learning !"
   ]
  },
  {
   "cell_type": "markdown",
   "metadata": {
    "collapsed": true
   },
   "source": [
    "In this lab we will study a soccer dataset and apply Machine Learning to it. We will try to predict the skin color of a player given some of it's information"
   ]
  },
  {
   "cell_type": "markdown",
   "metadata": {},
   "source": [
    "### Some useful imports"
   ]
  },
  {
   "cell_type": "code",
   "execution_count": 1,
   "metadata": {
    "collapsed": false
   },
   "outputs": [],
   "source": [
    "%matplotlib inline\n",
    "import pandas as pd\n",
    "import numpy as np\n",
    "import matplotlib.pyplot as plt\n",
    "import seaborn as sns\n",
    "%load_ext autoreload\n",
    "%autoreload 2"
   ]
  },
  {
   "cell_type": "markdown",
   "metadata": {},
   "source": [
    "### First we import the dataset and study it :"
   ]
  },
  {
   "cell_type": "code",
   "execution_count": 2,
   "metadata": {
    "collapsed": false
   },
   "outputs": [],
   "source": [
    "df = pd.read_csv(\"./CrowdstormingDataJuly1st.csv\")"
   ]
  },
  {
   "cell_type": "markdown",
   "metadata": {},
   "source": [
    "How much data do we have ?"
   ]
  },
  {
   "cell_type": "code",
   "execution_count": 3,
   "metadata": {
    "collapsed": false
   },
   "outputs": [
    {
     "data": {
      "text/plain": [
       "(146028, 28)"
      ]
     },
     "execution_count": 3,
     "metadata": {},
     "output_type": "execute_result"
    }
   ],
   "source": [
    "df.shape"
   ]
  },
  {
   "cell_type": "markdown",
   "metadata": {},
   "source": [
    "Let's look at our columns"
   ]
  },
  {
   "cell_type": "code",
   "execution_count": 4,
   "metadata": {
    "collapsed": false
   },
   "outputs": [
    {
     "data": {
      "text/html": [
       "<div>\n",
       "<table border=\"1\" class=\"dataframe\">\n",
       "  <thead>\n",
       "    <tr style=\"text-align: right;\">\n",
       "      <th></th>\n",
       "      <th>playerShort</th>\n",
       "      <th>player</th>\n",
       "      <th>club</th>\n",
       "      <th>leagueCountry</th>\n",
       "      <th>birthday</th>\n",
       "      <th>height</th>\n",
       "      <th>weight</th>\n",
       "      <th>position</th>\n",
       "      <th>games</th>\n",
       "      <th>victories</th>\n",
       "      <th>ties</th>\n",
       "      <th>defeats</th>\n",
       "      <th>goals</th>\n",
       "    </tr>\n",
       "  </thead>\n",
       "  <tbody>\n",
       "    <tr>\n",
       "      <th>0</th>\n",
       "      <td>lucas-wilchez</td>\n",
       "      <td>Lucas Wilchez</td>\n",
       "      <td>Real Zaragoza</td>\n",
       "      <td>Spain</td>\n",
       "      <td>31.08.1983</td>\n",
       "      <td>177.0</td>\n",
       "      <td>72.0</td>\n",
       "      <td>Attacking Midfielder</td>\n",
       "      <td>1</td>\n",
       "      <td>0</td>\n",
       "      <td>0</td>\n",
       "      <td>1</td>\n",
       "      <td>0</td>\n",
       "    </tr>\n",
       "    <tr>\n",
       "      <th>1</th>\n",
       "      <td>john-utaka</td>\n",
       "      <td>John Utaka</td>\n",
       "      <td>Montpellier HSC</td>\n",
       "      <td>France</td>\n",
       "      <td>08.01.1982</td>\n",
       "      <td>179.0</td>\n",
       "      <td>82.0</td>\n",
       "      <td>Right Winger</td>\n",
       "      <td>1</td>\n",
       "      <td>0</td>\n",
       "      <td>0</td>\n",
       "      <td>1</td>\n",
       "      <td>0</td>\n",
       "    </tr>\n",
       "    <tr>\n",
       "      <th>2</th>\n",
       "      <td>abdon-prats</td>\n",
       "      <td>Abdón Prats</td>\n",
       "      <td>RCD Mallorca</td>\n",
       "      <td>Spain</td>\n",
       "      <td>17.12.1992</td>\n",
       "      <td>181.0</td>\n",
       "      <td>79.0</td>\n",
       "      <td>NaN</td>\n",
       "      <td>1</td>\n",
       "      <td>0</td>\n",
       "      <td>1</td>\n",
       "      <td>0</td>\n",
       "      <td>0</td>\n",
       "    </tr>\n",
       "    <tr>\n",
       "      <th>3</th>\n",
       "      <td>pablo-mari</td>\n",
       "      <td>Pablo Marí</td>\n",
       "      <td>RCD Mallorca</td>\n",
       "      <td>Spain</td>\n",
       "      <td>31.08.1993</td>\n",
       "      <td>191.0</td>\n",
       "      <td>87.0</td>\n",
       "      <td>Center Back</td>\n",
       "      <td>1</td>\n",
       "      <td>1</td>\n",
       "      <td>0</td>\n",
       "      <td>0</td>\n",
       "      <td>0</td>\n",
       "    </tr>\n",
       "    <tr>\n",
       "      <th>4</th>\n",
       "      <td>ruben-pena</td>\n",
       "      <td>Rubén Peña</td>\n",
       "      <td>Real Valladolid</td>\n",
       "      <td>Spain</td>\n",
       "      <td>18.07.1991</td>\n",
       "      <td>172.0</td>\n",
       "      <td>70.0</td>\n",
       "      <td>Right Midfielder</td>\n",
       "      <td>1</td>\n",
       "      <td>1</td>\n",
       "      <td>0</td>\n",
       "      <td>0</td>\n",
       "      <td>0</td>\n",
       "    </tr>\n",
       "  </tbody>\n",
       "</table>\n",
       "</div>"
      ],
      "text/plain": [
       "     playerShort         player             club leagueCountry    birthday  \\\n",
       "0  lucas-wilchez  Lucas Wilchez    Real Zaragoza         Spain  31.08.1983   \n",
       "1     john-utaka     John Utaka  Montpellier HSC        France  08.01.1982   \n",
       "2    abdon-prats    Abdón Prats     RCD Mallorca         Spain  17.12.1992   \n",
       "3     pablo-mari     Pablo Marí     RCD Mallorca         Spain  31.08.1993   \n",
       "4     ruben-pena     Rubén Peña  Real Valladolid         Spain  18.07.1991   \n",
       "\n",
       "   height  weight              position  games  victories  ties  defeats  \\\n",
       "0   177.0    72.0  Attacking Midfielder      1          0     0        1   \n",
       "1   179.0    82.0          Right Winger      1          0     0        1   \n",
       "2   181.0    79.0                   NaN      1          0     1        0   \n",
       "3   191.0    87.0           Center Back      1          1     0        0   \n",
       "4   172.0    70.0      Right Midfielder      1          1     0        0   \n",
       "\n",
       "   goals  \n",
       "0      0  \n",
       "1      0  \n",
       "2      0  \n",
       "3      0  \n",
       "4      0  "
      ]
     },
     "execution_count": 4,
     "metadata": {},
     "output_type": "execute_result"
    }
   ],
   "source": [
    "# Taken form http://nbviewer.jupyter.org/github/mathewzilla/redcard/blob/master/Crowdstorming_visualisation.ipynb \n",
    "df.head().ix[:10,0:13]"
   ]
  },
  {
   "cell_type": "code",
   "execution_count": 5,
   "metadata": {
    "collapsed": false
   },
   "outputs": [
    {
     "data": {
      "text/html": [
       "<div>\n",
       "<table border=\"1\" class=\"dataframe\">\n",
       "  <thead>\n",
       "    <tr style=\"text-align: right;\">\n",
       "      <th></th>\n",
       "      <th>yellowCards</th>\n",
       "      <th>yellowReds</th>\n",
       "      <th>redCards</th>\n",
       "      <th>photoID</th>\n",
       "      <th>rater1</th>\n",
       "      <th>rater2</th>\n",
       "      <th>refNum</th>\n",
       "      <th>refCountry</th>\n",
       "      <th>Alpha_3</th>\n",
       "      <th>meanIAT</th>\n",
       "      <th>nIAT</th>\n",
       "      <th>seIAT</th>\n",
       "      <th>meanExp</th>\n",
       "      <th>nExp</th>\n",
       "      <th>seExp</th>\n",
       "    </tr>\n",
       "  </thead>\n",
       "  <tbody>\n",
       "    <tr>\n",
       "      <th>0</th>\n",
       "      <td>0</td>\n",
       "      <td>0</td>\n",
       "      <td>0</td>\n",
       "      <td>95212.jpg</td>\n",
       "      <td>0.25</td>\n",
       "      <td>0.50</td>\n",
       "      <td>1</td>\n",
       "      <td>1</td>\n",
       "      <td>GRC</td>\n",
       "      <td>0.326391</td>\n",
       "      <td>712.0</td>\n",
       "      <td>0.000564</td>\n",
       "      <td>0.396000</td>\n",
       "      <td>750.0</td>\n",
       "      <td>0.002696</td>\n",
       "    </tr>\n",
       "    <tr>\n",
       "      <th>1</th>\n",
       "      <td>1</td>\n",
       "      <td>0</td>\n",
       "      <td>0</td>\n",
       "      <td>1663.jpg</td>\n",
       "      <td>0.75</td>\n",
       "      <td>0.75</td>\n",
       "      <td>2</td>\n",
       "      <td>2</td>\n",
       "      <td>ZMB</td>\n",
       "      <td>0.203375</td>\n",
       "      <td>40.0</td>\n",
       "      <td>0.010875</td>\n",
       "      <td>-0.204082</td>\n",
       "      <td>49.0</td>\n",
       "      <td>0.061504</td>\n",
       "    </tr>\n",
       "    <tr>\n",
       "      <th>2</th>\n",
       "      <td>1</td>\n",
       "      <td>0</td>\n",
       "      <td>0</td>\n",
       "      <td>NaN</td>\n",
       "      <td>NaN</td>\n",
       "      <td>NaN</td>\n",
       "      <td>3</td>\n",
       "      <td>3</td>\n",
       "      <td>ESP</td>\n",
       "      <td>0.369894</td>\n",
       "      <td>1785.0</td>\n",
       "      <td>0.000229</td>\n",
       "      <td>0.588297</td>\n",
       "      <td>1897.0</td>\n",
       "      <td>0.001002</td>\n",
       "    </tr>\n",
       "    <tr>\n",
       "      <th>3</th>\n",
       "      <td>0</td>\n",
       "      <td>0</td>\n",
       "      <td>0</td>\n",
       "      <td>NaN</td>\n",
       "      <td>NaN</td>\n",
       "      <td>NaN</td>\n",
       "      <td>3</td>\n",
       "      <td>3</td>\n",
       "      <td>ESP</td>\n",
       "      <td>0.369894</td>\n",
       "      <td>1785.0</td>\n",
       "      <td>0.000229</td>\n",
       "      <td>0.588297</td>\n",
       "      <td>1897.0</td>\n",
       "      <td>0.001002</td>\n",
       "    </tr>\n",
       "    <tr>\n",
       "      <th>4</th>\n",
       "      <td>0</td>\n",
       "      <td>0</td>\n",
       "      <td>0</td>\n",
       "      <td>NaN</td>\n",
       "      <td>NaN</td>\n",
       "      <td>NaN</td>\n",
       "      <td>3</td>\n",
       "      <td>3</td>\n",
       "      <td>ESP</td>\n",
       "      <td>0.369894</td>\n",
       "      <td>1785.0</td>\n",
       "      <td>0.000229</td>\n",
       "      <td>0.588297</td>\n",
       "      <td>1897.0</td>\n",
       "      <td>0.001002</td>\n",
       "    </tr>\n",
       "  </tbody>\n",
       "</table>\n",
       "</div>"
      ],
      "text/plain": [
       "   yellowCards  yellowReds  redCards    photoID  rater1  rater2  refNum  \\\n",
       "0            0           0         0  95212.jpg    0.25    0.50       1   \n",
       "1            1           0         0   1663.jpg    0.75    0.75       2   \n",
       "2            1           0         0        NaN     NaN     NaN       3   \n",
       "3            0           0         0        NaN     NaN     NaN       3   \n",
       "4            0           0         0        NaN     NaN     NaN       3   \n",
       "\n",
       "   refCountry Alpha_3   meanIAT    nIAT     seIAT   meanExp    nExp     seExp  \n",
       "0           1     GRC  0.326391   712.0  0.000564  0.396000   750.0  0.002696  \n",
       "1           2     ZMB  0.203375    40.0  0.010875 -0.204082    49.0  0.061504  \n",
       "2           3     ESP  0.369894  1785.0  0.000229  0.588297  1897.0  0.001002  \n",
       "3           3     ESP  0.369894  1785.0  0.000229  0.588297  1897.0  0.001002  \n",
       "4           3     ESP  0.369894  1785.0  0.000229  0.588297  1897.0  0.001002  "
      ]
     },
     "execution_count": 5,
     "metadata": {},
     "output_type": "execute_result"
    }
   ],
   "source": [
    "# Taken form http://nbviewer.jupyter.org/github/mathewzilla/redcard/blob/master/Crowdstorming_visualisation.ipynb \n",
    "df.head().ix[:10,13:28]"
   ]
  },
  {
   "cell_type": "code",
   "execution_count": 6,
   "metadata": {
    "collapsed": false,
    "scrolled": true
   },
   "outputs": [
    {
     "data": {
      "text/plain": [
       "(95714, 28)"
      ]
     },
     "execution_count": 6,
     "metadata": {},
     "output_type": "execute_result"
    }
   ],
   "source": [
    "df[df.rater1 == df.rater2].shape"
   ]
  },
  {
   "cell_type": "code",
   "execution_count": 7,
   "metadata": {
    "collapsed": false
   },
   "outputs": [
    {
     "data": {
      "text/plain": [
       "array([ 0.5 ,  0.75,   nan,  0.  ,  0.25,  1.  ])"
      ]
     },
     "execution_count": 7,
     "metadata": {},
     "output_type": "execute_result"
    }
   ],
   "source": [
    "df[\"rater2\"].unique()"
   ]
  },
  {
   "cell_type": "markdown",
   "metadata": {},
   "source": [
    "Thanks to the previous work of Mat Evans and Tom Stafford and their team (can be found here : http://nbviewer.jupyter.org/github/mathewzilla/redcard/blob/master/Crowdstorming_visualisation.ipynb )\n",
    "\n",
    "we know some of the specificities of the data :"
   ]
  },
  {
   "cell_type": "markdown",
   "metadata": {},
   "source": [
    "- We learn that the data is organized in a player-referee dyad. This means each row has all the interaction with one player and a referee. For their analysis they decided to separate this dataset for each interaction between a player and a referee. For our purposes we will rather group by player short because we don't really care for referee information.\n",
    "\n",
    "- The data about skin color is not consistent between the two raters and the picture is missing. For the picture we will just remove the data with no picture. As we need a way to attribute skin color to each player we will have to use the two raters. For this there are different ways we could go at it :\n",
    "    - We could do a mean of the two raters\n",
    "    - We could keep only the dyads which have the same score for r1 and r2\n",
    "    - We could train on both raters and compare the result (seems a bit repetitive but why not)\n",
    "    \n",
    "- The raters data in the set [0, 0.25, 0.50, 0.75, 1] to classify \"correctly\" there are 3 possibilities :\n",
    "    - The first one is to have a class for each number\n",
    "    - The second is to have two classes with a cut at 0.5 (we have to define which class contain 0.5)\n",
    "    - The third is to have 3 classes : $<0.5$, $0.5$, $>0.5$\n",
    "\n",
    "- Finally we learn that there are dyads which are not really part of the 2012-2013 data but from past matches in the carrer of the player. Here we have a choice, either we remove the data because it's not really part of the dataset or we let it be as it could be more information."
   ]
  },
  {
   "cell_type": "markdown",
   "metadata": {},
   "source": [
    "Here is how we think of organizing this homework :\n",
    "- First we will clean a bit the data\n",
    "- Then we will aggregate the data per player\n",
    "- Then we will for each point made above with multiple proposition see which one is the best, if multiple ones seem good we will keep them and test them with cross validation.\n",
    "- Finally we will find the best result we can with all possible datasets with a random forest classifier."
   ]
  },
  {
   "cell_type": "markdown",
   "metadata": {},
   "source": [
    "## Removing non valid dyads from player past history"
   ]
  },
  {
   "cell_type": "markdown",
   "metadata": {},
   "source": [
    "For a more detailed explanation of how we can show the fact that there are dyads from before 2012-2013 you can look here : http://nbviewer.jupyter.org/github/mathewzilla/redcard/blob/master/Crowdstorming_visualisation.ipynb"
   ]
  },
  {
   "cell_type": "markdown",
   "metadata": {},
   "source": [
    "To remove those dyad, the logic is to say that if a referee has participated in at least one match in the league he should have at least 22 appearances in the dataset."
   ]
  },
  {
   "cell_type": "markdown",
   "metadata": {},
   "source": [
    "The folowing code ressembles (as we use the same principles) the work previously mentioned. But as we will see some differences I will try and explain them as we go through the code to show we aren't doing anything wrong."
   ]
  },
  {
   "cell_type": "code",
   "execution_count": 8,
   "metadata": {
    "collapsed": false,
    "scrolled": true
   },
   "outputs": [
    {
     "name": "stdout",
     "output_type": "stream",
     "text": [
      "number of unique referee before cleaning :  3147\n"
     ]
    }
   ],
   "source": [
    "referee_b = df[\"refNum\"].unique().shape[0]\n",
    "print(\"number of unique referee before cleaning : \", referee_b) # here no differences"
   ]
  },
  {
   "cell_type": "code",
   "execution_count": 9,
   "metadata": {
    "collapsed": false,
    "scrolled": true
   },
   "outputs": [
    {
     "name": "stdout",
     "output_type": "stream",
     "text": [
      "number of dyads before cleaning :  146028\n",
      "number of matches before cleaning :  426572\n"
     ]
    }
   ],
   "source": [
    "dyads_b = df.shape[0]\n",
    "games_b = df.games.sum()\n",
    "print(\"number of dyads before cleaning : \", dyads_b)\n",
    "print(\"number of matches before cleaning : \", games_b) # same value as in the other notebook \n",
    "                                                     # (we will use it later as reference)"
   ]
  },
  {
   "cell_type": "markdown",
   "metadata": {},
   "source": [
    "This part shows the value that the others get :"
   ]
  },
  {
   "cell_type": "code",
   "execution_count": 10,
   "metadata": {
    "collapsed": false
   },
   "outputs": [],
   "source": [
    "apearances_tot = df[[\"refNum\", \"games\"]].groupby(\"refNum\").sum()"
   ]
  },
  {
   "cell_type": "code",
   "execution_count": 11,
   "metadata": {
    "collapsed": false
   },
   "outputs": [
    {
     "data": {
      "text/plain": [
       "games    1261\n",
       "dtype: int64"
      ]
     },
     "execution_count": 11,
     "metadata": {},
     "output_type": "execute_result"
    }
   ],
   "source": [
    "apearances_sup21_tot = apearances_tot[apearances_tot.games > 21]\n",
    "apearances_sup21_tot.count() # same number of remaining referee as in the other notebook"
   ]
  },
  {
   "cell_type": "code",
   "execution_count": 12,
   "metadata": {
    "collapsed": false
   },
   "outputs": [],
   "source": [
    "df_sup21_tot = df[df[\"refNum\"].isin(apearances_sup21_tot.index)]"
   ]
  },
  {
   "cell_type": "code",
   "execution_count": 13,
   "metadata": {
    "collapsed": false,
    "scrolled": true
   },
   "outputs": [
    {
     "name": "stdout",
     "output_type": "stream",
     "text": [
      "number of unique referee after removing :  1261\n"
     ]
    }
   ],
   "source": [
    "referee_a_tot = df_sup21_tot[\"refNum\"].unique().shape[0]\n",
    "print(\"number of unique referee after removing : \", referee_a_tot)"
   ]
  },
  {
   "cell_type": "code",
   "execution_count": 14,
   "metadata": {
    "collapsed": false,
    "scrolled": true
   },
   "outputs": [
    {
     "name": "stdout",
     "output_type": "stream",
     "text": [
      "number of dyads after removing :  137635\n",
      "number of matches after removing :  415692\n"
     ]
    }
   ],
   "source": [
    "dyads_a_tot = df_sup21_tot.shape[0]\n",
    "games_a_tot = df_sup21_tot.games.sum()\n",
    "print(\"number of dyads after removing : \", dyads_a_tot)\n",
    "print(\"number of matches after removing : \", games_a_tot) # same number as in the other notebook "
   ]
  },
  {
   "cell_type": "markdown",
   "metadata": {},
   "source": [
    "Now as our data is organized differently we use another method"
   ]
  },
  {
   "cell_type": "markdown",
   "metadata": {},
   "source": [
    "Here is what will change most of the calculations result"
   ]
  },
  {
   "cell_type": "code",
   "execution_count": 15,
   "metadata": {
    "collapsed": false
   },
   "outputs": [
    {
     "data": {
      "text/plain": [
       "3147"
      ]
     },
     "execution_count": 15,
     "metadata": {},
     "output_type": "execute_result"
    }
   ],
   "source": [
    "apearances_once_player = df.refNum.value_counts()\n",
    "len(apearances_once_player)"
   ]
  },
  {
   "cell_type": "markdown",
   "metadata": {},
   "source": [
    "This is the number of apearances with a slight twist, we only count one apearance per player whatever the number of match he played. For us this value is better to use in this case as it relates more to the >21 cut. Before we counted for a single referee a number of matches with the same player which makes no sense : in a match, a referee has 22 distinct players."
   ]
  },
  {
   "cell_type": "code",
   "execution_count": 16,
   "metadata": {
    "collapsed": false,
    "scrolled": true
   },
   "outputs": [
    {
     "data": {
      "text/plain": [
       "998"
      ]
     },
     "execution_count": 16,
     "metadata": {},
     "output_type": "execute_result"
    }
   ],
   "source": [
    "apearances_sup21_once_player = apearances_once_player[apearances_once_player > 21]\n",
    "len(apearances_sup21_once_player) ## a bit less than before sadly"
   ]
  },
  {
   "cell_type": "code",
   "execution_count": 17,
   "metadata": {
    "collapsed": true
   },
   "outputs": [],
   "source": [
    "df_sup21_once_player = df[df[\"refNum\"].isin(apearances_sup21_once_player.index.values)]"
   ]
  },
  {
   "cell_type": "code",
   "execution_count": 18,
   "metadata": {
    "collapsed": false
   },
   "outputs": [
    {
     "name": "stdout",
     "output_type": "stream",
     "text": [
      "number of unique referee after removing :  998\n"
     ]
    }
   ],
   "source": [
    "referee_a_once_player = df_sup21_once_player[\"refNum\"].unique().shape[0]\n",
    "print(\"number of unique referee after removing : \", referee_a_once_player)"
   ]
  },
  {
   "cell_type": "code",
   "execution_count": 19,
   "metadata": {
    "collapsed": false,
    "scrolled": false
   },
   "outputs": [
    {
     "name": "stdout",
     "output_type": "stream",
     "text": [
      "number of dyads after removing :  133501\n",
      "number of matches after removing :  406924\n"
     ]
    }
   ],
   "source": [
    "dyads_a_once_player = df_sup21_once_player.shape[0]\n",
    "games_a_once_player = df_sup21_once_player.games.sum()\n",
    "print(\"number of dyads after removing : \", dyads_a_once_player)\n",
    "print(\"number of matches after removing : \", games_a_once_player) # a bit lower than before again"
   ]
  },
  {
   "cell_type": "markdown",
   "metadata": {},
   "source": [
    "Let's show how much data we lose"
   ]
  },
  {
   "cell_type": "code",
   "execution_count": 20,
   "metadata": {
    "collapsed": false,
    "scrolled": true
   },
   "outputs": [
    {
     "name": "stdout",
     "output_type": "stream",
     "text": [
      "loss of games with their method : 0.974494340932\n",
      "loss of dyads with their method : 0.9425247212863287\n",
      "loss of refs with their method :  0.40069907848744835\n"
     ]
    }
   ],
   "source": [
    "print(\"loss of games with their method :\", games_a_tot / games_b)\n",
    "print(\"loss of dyads with their method :\", dyads_a_tot / dyads_b)\n",
    "print(\"loss of refs with their method : \", referee_a_tot / referee_b)\n"
   ]
  },
  {
   "cell_type": "code",
   "execution_count": 21,
   "metadata": {
    "collapsed": false
   },
   "outputs": [
    {
     "name": "stdout",
     "output_type": "stream",
     "text": [
      "loss of games with our method : 0.953939780389\n",
      "loss of dyads with our method : 0.914215082039061\n",
      "loss of refs with our method :  0.3171274229424849\n"
     ]
    }
   ],
   "source": [
    "print(\"loss of games with our method :\", games_a_once_player / games_b)\n",
    "print(\"loss of dyads with our method :\", dyads_a_once_player / dyads_b)\n",
    "print(\"loss of refs with our method : \", referee_a_once_player / referee_b)"
   ]
  },
  {
   "cell_type": "markdown",
   "metadata": {},
   "source": [
    "### Here we show some graphes to show the difference between the two methods."
   ]
  },
  {
   "cell_type": "markdown",
   "metadata": {},
   "source": [
    "Graph of occurences (source from http://nbviewer.jupyter.org/github/mathewzilla/redcard/blob/master/Crowdstorming_visualisation.ipynb)\n",
    "\n",
    "We thought of using their graphs to have a good comparaison between their work and ours"
   ]
  },
  {
   "cell_type": "code",
   "execution_count": 22,
   "metadata": {
    "collapsed": false
   },
   "outputs": [
    {
     "data": {
      "text/plain": [
       "<matplotlib.text.Text at 0x1118c5b38>"
      ]
     },
     "execution_count": 22,
     "metadata": {},
     "output_type": "execute_result"
    },
    {
     "data": {
      "image/png": "[encoded data removed]",
      "text/plain": [
       "<matplotlib.figure.Figure at 0x1154b4a90>"
      ]
     },
     "metadata": {},
     "output_type": "display_data"
    }
   ],
   "source": [
    "fig, axes = plt.subplots(nrows=1, ncols=1, figsize=(12, 4))\n",
    "axes.hist(df[[\"refNum\", \"games\"]].groupby(\"refNum\").sum().games.tolist(),referee_b-11)\n",
    "axes.set_xscale('symlog') # symetric log scale \n",
    "plt.xlim([1,10000])\n",
    "axes.set_yscale('symlog') \n",
    "plt.ylim([0,1000])\n",
    "axes.set_title(\"Referee occurance following our cull, log scaled\")\n",
    "axes.set_xlabel('log (number of occurances)')\n",
    "axes.set_ylabel('log (frequency)')"
   ]
  },
  {
   "cell_type": "code",
   "execution_count": 23,
   "metadata": {
    "collapsed": false
   },
   "outputs": [
    {
     "data": {
      "text/plain": [
       "<matplotlib.text.Text at 0x11c0a3da0>"
      ]
     },
     "execution_count": 23,
     "metadata": {},
     "output_type": "execute_result"
    },
    {
     "data": {
      "image/png": "[encoded data removed]",
      "text/plain": [
       "<matplotlib.figure.Figure at 0x11c15ec18>"
      ]
     },
     "metadata": {},
     "output_type": "display_data"
    }
   ],
   "source": [
    "fig, axes = plt.subplots(nrows=1, ncols=1, figsize=(12, 4))\n",
    "axes.hist(df_sup21_tot[[\"refNum\", \"games\"]].groupby(\"refNum\").sum().games.tolist(),referee_b-11)\n",
    "axes.set_xscale('symlog') # symetric log scale \n",
    "plt.xlim([1,10000])\n",
    "axes.set_yscale('symlog') \n",
    "plt.ylim([0,1000])\n",
    "axes.set_title(\"Referee occurance following our cull, log scaled\")\n",
    "axes.set_xlabel('log (number of occurances)')\n",
    "axes.set_ylabel('log (frequency)')"
   ]
  },
  {
   "cell_type": "code",
   "execution_count": 24,
   "metadata": {
    "collapsed": false
   },
   "outputs": [
    {
     "data": {
      "text/plain": [
       "<matplotlib.text.Text at 0x11dc9d0b8>"
      ]
     },
     "execution_count": 24,
     "metadata": {},
     "output_type": "execute_result"
    },
    {
     "data": {
      "image/png": "[encoded data removed]",
      "text/plain": [
       "<matplotlib.figure.Figure at 0x11e1bc9b0>"
      ]
     },
     "metadata": {},
     "output_type": "display_data"
    }
   ],
   "source": [
    "fig, axes = plt.subplots(nrows=1, ncols=1, figsize=(12, 4))\n",
    "axes.hist(df_sup21_once_player[[\"refNum\", \"games\"]].groupby(\"refNum\").sum().games.tolist(),referee_b-11)\n",
    "axes.set_xscale('symlog') # symetric log scale \n",
    "plt.xlim([1,10000])\n",
    "axes.set_yscale('symlog') \n",
    "plt.ylim([0,1000])\n",
    "axes.set_title(\"Referee occurance following our cull, log scaled\")\n",
    "axes.set_xlabel('log (number of occurances)')\n",
    "axes.set_ylabel('log (frequency)')"
   ]
  },
  {
   "cell_type": "markdown",
   "metadata": {},
   "source": [
    "We can clearly see here that we only remove the lowest occurences of the previous graph"
   ]
  },
  {
   "cell_type": "code",
   "execution_count": 25,
   "metadata": {
    "collapsed": false
   },
   "outputs": [
    {
     "data": {
      "text/plain": [
       "(-3, 160)"
      ]
     },
     "execution_count": 25,
     "metadata": {},
     "output_type": "execute_result"
    },
    {
     "data": {
      "image/png": "[encoded data removed]",
      "text/plain": [
       "<matplotlib.figure.Figure at 0x120a04358>"
      ]
     },
     "metadata": {},
     "output_type": "display_data"
    }
   ],
   "source": [
    "fig, ax = plt.subplots(1,1,figsize=(12, 4))\n",
    "x = df.refCountry.value_counts()\n",
    "lines = ax.plot(x.values,marker='.',ms=20)\n",
    "\n",
    "y = x.index.tolist() \n",
    "\n",
    "ax.set_title('Referee nationality by number of dyads')\n",
    "ax.set_xlabel('Country number (ordered by frequency)')\n",
    "ax.set_ylabel('Frequency of dyads')\n",
    "ax.set_xlim([-3,160]) # a hack so we can see the first point most clearly"
   ]
  },
  {
   "cell_type": "code",
   "execution_count": 26,
   "metadata": {
    "collapsed": false
   },
   "outputs": [
    {
     "data": {
      "text/plain": [
       "(-3, 160)"
      ]
     },
     "execution_count": 26,
     "metadata": {},
     "output_type": "execute_result"
    },
    {
     "data": {
      "image/png": "[encoded data removed]",
      "text/plain": [
       "<matplotlib.figure.Figure at 0x1209ea390>"
      ]
     },
     "metadata": {},
     "output_type": "display_data"
    }
   ],
   "source": [
    "fig, ax = plt.subplots(1,1,figsize=(12, 4))\n",
    "x = df_sup21_tot.refCountry.value_counts()\n",
    "lines = ax.plot(x.values,marker='.',ms=20)\n",
    "\n",
    "y = x.index.tolist() \n",
    "\n",
    "ax.set_title('Referee nationality by number of dyads')\n",
    "ax.set_xlabel('Country number (ordered by frequency)')\n",
    "ax.set_ylabel('Frequency of dyads')\n",
    "ax.set_xlim([-3,160]) # a hack so we can see the first point most clearly"
   ]
  },
  {
   "cell_type": "code",
   "execution_count": 41,
   "metadata": {
    "collapsed": false,
    "scrolled": true
   },
   "outputs": [
    {
     "data": {
      "text/plain": [
       "(-3, 160)"
      ]
     },
     "execution_count": 41,
     "metadata": {},
     "output_type": "execute_result"
    },
    {
     "data": {
      "image/png": "[encoded data removed]",
      "text/plain": [
       "<matplotlib.figure.Figure at 0x1211ab5f8>"
      ]
     },
     "metadata": {},
     "output_type": "display_data"
    }
   ],
   "source": [
    "# Histogram of country frequency. \n",
    "fig, ax = plt.subplots(1,1,figsize=(12, 4))\n",
    "x = df_sup21_once_player.refCountry.value_counts()\n",
    "lines = ax.plot(x.values,marker='.',ms=20)\n",
    "\n",
    "y = x.index.tolist()\n",
    "\n",
    "ax.set_title('Referee nationality by number of dyads')\n",
    "ax.set_xlabel('Country number (ordered by frequency)')\n",
    "ax.set_ylabel('Frequency of dyads')\n",
    "ax.set_xlim([-3,160]) # a hack so we can see the first point most clearly"
   ]
  },
  {
   "cell_type": "markdown",
   "metadata": {},
   "source": [
    "Here we see that our method reduces the number of total countries but doesn't change the frequency of dyads with the most represented countries compared to the previous graph"
   ]
  },
  {
   "cell_type": "markdown",
   "metadata": {},
   "source": [
    "## Removing non usable data for our ML algorithm"
   ]
  },
  {
   "cell_type": "markdown",
   "metadata": {},
   "source": [
    "We know sometimes there is no images for a player and therefor no skin color rating. Therefore we remove them."
   ]
  },
  {
   "cell_type": "code",
   "execution_count": 28,
   "metadata": {
    "collapsed": false
   },
   "outputs": [],
   "source": [
    "df_with_pic = df_sup21_once_player[df_sup21_once_player[\"photoID\"].notnull()]"
   ]
  },
  {
   "cell_type": "code",
   "execution_count": 29,
   "metadata": {
    "collapsed": false
   },
   "outputs": [
    {
     "data": {
      "text/plain": [
       "133501"
      ]
     },
     "execution_count": 29,
     "metadata": {},
     "output_type": "execute_result"
    }
   ],
   "source": [
    "df_sup21_once_player.shape[0]"
   ]
  },
  {
   "cell_type": "code",
   "execution_count": 30,
   "metadata": {
    "collapsed": false,
    "scrolled": true
   },
   "outputs": [
    {
     "data": {
      "text/plain": [
       "113862"
      ]
     },
     "execution_count": 30,
     "metadata": {},
     "output_type": "execute_result"
    }
   ],
   "source": [
    "df_with_pic.shape[0]"
   ]
  },
  {
   "cell_type": "markdown",
   "metadata": {},
   "source": [
    "Should be all clean now."
   ]
  },
  {
   "cell_type": "code",
   "execution_count": 31,
   "metadata": {
    "collapsed": true
   },
   "outputs": [],
   "source": [
    "dfc = df_with_pic"
   ]
  },
  {
   "cell_type": "markdown",
   "metadata": {},
   "source": [
    "## Aggregating the data by player"
   ]
  },
  {
   "cell_type": "code",
   "execution_count": 32,
   "metadata": {
    "collapsed": false,
    "scrolled": false
   },
   "outputs": [
    {
     "name": "stderr",
     "output_type": "stream",
     "text": [
      "/usr/local/lib/python3.5/site-packages/numpy/lib/function_base.py:3834: RuntimeWarning: Invalid value encountered in percentile\n",
      "  RuntimeWarning)\n"
     ]
    },
    {
     "data": {
      "text/html": [
       "<div>\n",
       "<table border=\"1\" class=\"dataframe\">\n",
       "  <thead>\n",
       "    <tr style=\"text-align: right;\">\n",
       "      <th></th>\n",
       "      <th>height</th>\n",
       "      <th>weight</th>\n",
       "      <th>games</th>\n",
       "      <th>victories</th>\n",
       "      <th>ties</th>\n",
       "      <th>defeats</th>\n",
       "      <th>goals</th>\n",
       "      <th>yellowCards</th>\n",
       "      <th>yellowReds</th>\n",
       "      <th>redCards</th>\n",
       "      <th>rater1</th>\n",
       "      <th>rater2</th>\n",
       "      <th>refNum</th>\n",
       "      <th>refCountry</th>\n",
       "      <th>meanIAT</th>\n",
       "      <th>nIAT</th>\n",
       "      <th>seIAT</th>\n",
       "      <th>meanExp</th>\n",
       "      <th>nExp</th>\n",
       "      <th>seExp</th>\n",
       "    </tr>\n",
       "  </thead>\n",
       "  <tbody>\n",
       "    <tr>\n",
       "      <th>count</th>\n",
       "      <td>113839.000000</td>\n",
       "      <td>113237.000000</td>\n",
       "      <td>113862.000000</td>\n",
       "      <td>113862.00000</td>\n",
       "      <td>113862.000000</td>\n",
       "      <td>113862.000000</td>\n",
       "      <td>113862.000000</td>\n",
       "      <td>113862.000000</td>\n",
       "      <td>113862.000000</td>\n",
       "      <td>113862.000000</td>\n",
       "      <td>113862.000000</td>\n",
       "      <td>113862.000000</td>\n",
       "      <td>113862.000000</td>\n",
       "      <td>113862.000000</td>\n",
       "      <td>113752.000000</td>\n",
       "      <td>1.137520e+05</td>\n",
       "      <td>1.137520e+05</td>\n",
       "      <td>113752.000000</td>\n",
       "      <td>1.137520e+05</td>\n",
       "      <td>113752.000000</td>\n",
       "    </tr>\n",
       "    <tr>\n",
       "      <th>mean</th>\n",
       "      <td>182.095688</td>\n",
       "      <td>76.312742</td>\n",
       "      <td>3.127549</td>\n",
       "      <td>1.39511</td>\n",
       "      <td>0.748722</td>\n",
       "      <td>0.983717</td>\n",
       "      <td>0.364002</td>\n",
       "      <td>0.417813</td>\n",
       "      <td>0.012664</td>\n",
       "      <td>0.013200</td>\n",
       "      <td>0.263685</td>\n",
       "      <td>0.302730</td>\n",
       "      <td>1525.012638</td>\n",
       "      <td>28.473968</td>\n",
       "      <td>0.348303</td>\n",
       "      <td>1.798495e+04</td>\n",
       "      <td>4.630137e-04</td>\n",
       "      <td>0.462503</td>\n",
       "      <td>1.866079e+04</td>\n",
       "      <td>0.002274</td>\n",
       "    </tr>\n",
       "    <tr>\n",
       "      <th>std</th>\n",
       "      <td>6.790061</td>\n",
       "      <td>7.161171</td>\n",
       "      <td>3.696489</td>\n",
       "      <td>1.93970</td>\n",
       "      <td>1.176301</td>\n",
       "      <td>1.464330</td>\n",
       "      <td>0.968767</td>\n",
       "      <td>0.844619</td>\n",
       "      <td>0.113846</td>\n",
       "      <td>0.115964</td>\n",
       "      <td>0.294763</td>\n",
       "      <td>0.292258</td>\n",
       "      <td>918.024487</td>\n",
       "      <td>27.101513</td>\n",
       "      <td>0.029085</td>\n",
       "      <td>1.206506e+05</td>\n",
       "      <td>2.377432e-03</td>\n",
       "      <td>0.199049</td>\n",
       "      <td>1.239635e+05</td>\n",
       "      <td>0.012400</td>\n",
       "    </tr>\n",
       "    <tr>\n",
       "      <th>min</th>\n",
       "      <td>161.000000</td>\n",
       "      <td>54.000000</td>\n",
       "      <td>1.000000</td>\n",
       "      <td>0.00000</td>\n",
       "      <td>0.000000</td>\n",
       "      <td>0.000000</td>\n",
       "      <td>0.000000</td>\n",
       "      <td>0.000000</td>\n",
       "      <td>0.000000</td>\n",
       "      <td>0.000000</td>\n",
       "      <td>0.000000</td>\n",
       "      <td>0.000000</td>\n",
       "      <td>4.000000</td>\n",
       "      <td>1.000000</td>\n",
       "      <td>-0.047254</td>\n",
       "      <td>7.000000e+00</td>\n",
       "      <td>2.235373e-07</td>\n",
       "      <td>-1.375000</td>\n",
       "      <td>8.000000e+00</td>\n",
       "      <td>0.000001</td>\n",
       "    </tr>\n",
       "    <tr>\n",
       "      <th>25%</th>\n",
       "      <td>NaN</td>\n",
       "      <td>NaN</td>\n",
       "      <td>1.000000</td>\n",
       "      <td>0.00000</td>\n",
       "      <td>0.000000</td>\n",
       "      <td>0.000000</td>\n",
       "      <td>0.000000</td>\n",
       "      <td>0.000000</td>\n",
       "      <td>0.000000</td>\n",
       "      <td>0.000000</td>\n",
       "      <td>0.000000</td>\n",
       "      <td>0.000000</td>\n",
       "      <td>640.000000</td>\n",
       "      <td>7.000000</td>\n",
       "      <td>NaN</td>\n",
       "      <td>NaN</td>\n",
       "      <td>NaN</td>\n",
       "      <td>NaN</td>\n",
       "      <td>NaN</td>\n",
       "      <td>NaN</td>\n",
       "    </tr>\n",
       "    <tr>\n",
       "      <th>50%</th>\n",
       "      <td>NaN</td>\n",
       "      <td>NaN</td>\n",
       "      <td>2.000000</td>\n",
       "      <td>1.00000</td>\n",
       "      <td>0.000000</td>\n",
       "      <td>1.000000</td>\n",
       "      <td>0.000000</td>\n",
       "      <td>0.000000</td>\n",
       "      <td>0.000000</td>\n",
       "      <td>0.000000</td>\n",
       "      <td>0.250000</td>\n",
       "      <td>0.250000</td>\n",
       "      <td>1572.000000</td>\n",
       "      <td>8.000000</td>\n",
       "      <td>NaN</td>\n",
       "      <td>NaN</td>\n",
       "      <td>NaN</td>\n",
       "      <td>NaN</td>\n",
       "      <td>NaN</td>\n",
       "      <td>NaN</td>\n",
       "    </tr>\n",
       "    <tr>\n",
       "      <th>75%</th>\n",
       "      <td>NaN</td>\n",
       "      <td>NaN</td>\n",
       "      <td>4.000000</td>\n",
       "      <td>2.00000</td>\n",
       "      <td>1.000000</td>\n",
       "      <td>1.000000</td>\n",
       "      <td>0.000000</td>\n",
       "      <td>1.000000</td>\n",
       "      <td>0.000000</td>\n",
       "      <td>0.000000</td>\n",
       "      <td>0.250000</td>\n",
       "      <td>0.500000</td>\n",
       "      <td>2331.000000</td>\n",
       "      <td>44.000000</td>\n",
       "      <td>NaN</td>\n",
       "      <td>NaN</td>\n",
       "      <td>NaN</td>\n",
       "      <td>NaN</td>\n",
       "      <td>NaN</td>\n",
       "      <td>NaN</td>\n",
       "    </tr>\n",
       "    <tr>\n",
       "      <th>max</th>\n",
       "      <td>203.000000</td>\n",
       "      <td>100.000000</td>\n",
       "      <td>47.000000</td>\n",
       "      <td>29.00000</td>\n",
       "      <td>14.000000</td>\n",
       "      <td>18.000000</td>\n",
       "      <td>23.000000</td>\n",
       "      <td>14.000000</td>\n",
       "      <td>3.000000</td>\n",
       "      <td>2.000000</td>\n",
       "      <td>1.000000</td>\n",
       "      <td>1.000000</td>\n",
       "      <td>3147.000000</td>\n",
       "      <td>153.000000</td>\n",
       "      <td>0.573793</td>\n",
       "      <td>1.975803e+06</td>\n",
       "      <td>7.333041e-02</td>\n",
       "      <td>1.800000</td>\n",
       "      <td>2.029548e+06</td>\n",
       "      <td>0.329309</td>\n",
       "    </tr>\n",
       "  </tbody>\n",
       "</table>\n",
       "</div>"
      ],
      "text/plain": [
       "              height         weight          games     victories  \\\n",
       "count  113839.000000  113237.000000  113862.000000  113862.00000   \n",
       "mean      182.095688      76.312742       3.127549       1.39511   \n",
       "std         6.790061       7.161171       3.696489       1.93970   \n",
       "min       161.000000      54.000000       1.000000       0.00000   \n",
       "25%              NaN            NaN       1.000000       0.00000   \n",
       "50%              NaN            NaN       2.000000       1.00000   \n",
       "75%              NaN            NaN       4.000000       2.00000   \n",
       "max       203.000000     100.000000      47.000000      29.00000   \n",
       "\n",
       "                ties        defeats          goals    yellowCards  \\\n",
       "count  113862.000000  113862.000000  113862.000000  113862.000000   \n",
       "mean        0.748722       0.983717       0.364002       0.417813   \n",
       "std         1.176301       1.464330       0.968767       0.844619   \n",
       "min         0.000000       0.000000       0.000000       0.000000   \n",
       "25%         0.000000       0.000000       0.000000       0.000000   \n",
       "50%         0.000000       1.000000       0.000000       0.000000   \n",
       "75%         1.000000       1.000000       0.000000       1.000000   \n",
       "max        14.000000      18.000000      23.000000      14.000000   \n",
       "\n",
       "          yellowReds       redCards         rater1         rater2  \\\n",
       "count  113862.000000  113862.000000  113862.000000  113862.000000   \n",
       "mean        0.012664       0.013200       0.263685       0.302730   \n",
       "std         0.113846       0.115964       0.294763       0.292258   \n",
       "min         0.000000       0.000000       0.000000       0.000000   \n",
       "25%         0.000000       0.000000       0.000000       0.000000   \n",
       "50%         0.000000       0.000000       0.250000       0.250000   \n",
       "75%         0.000000       0.000000       0.250000       0.500000   \n",
       "max         3.000000       2.000000       1.000000       1.000000   \n",
       "\n",
       "              refNum     refCountry        meanIAT          nIAT  \\\n",
       "count  113862.000000  113862.000000  113752.000000  1.137520e+05   \n",
       "mean     1525.012638      28.473968       0.348303  1.798495e+04   \n",
       "std       918.024487      27.101513       0.029085  1.206506e+05   \n",
       "min         4.000000       1.000000      -0.047254  7.000000e+00   \n",
       "25%       640.000000       7.000000            NaN           NaN   \n",
       "50%      1572.000000       8.000000            NaN           NaN   \n",
       "75%      2331.000000      44.000000            NaN           NaN   \n",
       "max      3147.000000     153.000000       0.573793  1.975803e+06   \n",
       "\n",
       "              seIAT        meanExp          nExp          seExp  \n",
       "count  1.137520e+05  113752.000000  1.137520e+05  113752.000000  \n",
       "mean   4.630137e-04       0.462503  1.866079e+04       0.002274  \n",
       "std    2.377432e-03       0.199049  1.239635e+05       0.012400  \n",
       "min    2.235373e-07      -1.375000  8.000000e+00       0.000001  \n",
       "25%             NaN            NaN           NaN            NaN  \n",
       "50%             NaN            NaN           NaN            NaN  \n",
       "75%             NaN            NaN           NaN            NaN  \n",
       "max    7.333041e-02       1.800000  2.029548e+06       0.329309  "
      ]
     },
     "execution_count": 32,
     "metadata": {},
     "output_type": "execute_result"
    }
   ],
   "source": [
    "dfc.describe()"
   ]
  },
  {
   "cell_type": "markdown",
   "metadata": {},
   "source": [
    "Let's look at a single players dyad to have an idea of what it looks like"
   ]
  },
  {
   "cell_type": "code",
   "execution_count": 33,
   "metadata": {
    "collapsed": true
   },
   "outputs": [],
   "source": [
    "groups = dfc.groupby(\"playerShort\")"
   ]
  },
  {
   "cell_type": "code",
   "execution_count": 34,
   "metadata": {
    "collapsed": false
   },
   "outputs": [],
   "source": [
    "lucas = groups.get_group(\"lucas-wilchez\")"
   ]
  },
  {
   "cell_type": "code",
   "execution_count": 35,
   "metadata": {
    "collapsed": false
   },
   "outputs": [
    {
     "data": {
      "text/html": [
       "<div>\n",
       "<table border=\"1\" class=\"dataframe\">\n",
       "  <thead>\n",
       "    <tr style=\"text-align: right;\">\n",
       "      <th></th>\n",
       "      <th>playerShort</th>\n",
       "      <th>player</th>\n",
       "      <th>club</th>\n",
       "      <th>leagueCountry</th>\n",
       "      <th>birthday</th>\n",
       "      <th>height</th>\n",
       "      <th>weight</th>\n",
       "      <th>position</th>\n",
       "      <th>games</th>\n",
       "      <th>victories</th>\n",
       "      <th>ties</th>\n",
       "      <th>defeats</th>\n",
       "      <th>goals</th>\n",
       "    </tr>\n",
       "  </thead>\n",
       "  <tbody>\n",
       "    <tr>\n",
       "      <th>2782</th>\n",
       "      <td>lucas-wilchez</td>\n",
       "      <td>Lucas Wilchez</td>\n",
       "      <td>Real Zaragoza</td>\n",
       "      <td>Spain</td>\n",
       "      <td>31.08.1983</td>\n",
       "      <td>177.0</td>\n",
       "      <td>72.0</td>\n",
       "      <td>Attacking Midfielder</td>\n",
       "      <td>3</td>\n",
       "      <td>1</td>\n",
       "      <td>1</td>\n",
       "      <td>1</td>\n",
       "      <td>0</td>\n",
       "    </tr>\n",
       "    <tr>\n",
       "      <th>3384</th>\n",
       "      <td>lucas-wilchez</td>\n",
       "      <td>Lucas Wilchez</td>\n",
       "      <td>Real Zaragoza</td>\n",
       "      <td>Spain</td>\n",
       "      <td>31.08.1983</td>\n",
       "      <td>177.0</td>\n",
       "      <td>72.0</td>\n",
       "      <td>Attacking Midfielder</td>\n",
       "      <td>1</td>\n",
       "      <td>0</td>\n",
       "      <td>0</td>\n",
       "      <td>1</td>\n",
       "      <td>0</td>\n",
       "    </tr>\n",
       "    <tr>\n",
       "      <th>5692</th>\n",
       "      <td>lucas-wilchez</td>\n",
       "      <td>Lucas Wilchez</td>\n",
       "      <td>Real Zaragoza</td>\n",
       "      <td>Spain</td>\n",
       "      <td>31.08.1983</td>\n",
       "      <td>177.0</td>\n",
       "      <td>72.0</td>\n",
       "      <td>Attacking Midfielder</td>\n",
       "      <td>1</td>\n",
       "      <td>1</td>\n",
       "      <td>0</td>\n",
       "      <td>0</td>\n",
       "      <td>0</td>\n",
       "    </tr>\n",
       "    <tr>\n",
       "      <th>9058</th>\n",
       "      <td>lucas-wilchez</td>\n",
       "      <td>Lucas Wilchez</td>\n",
       "      <td>Real Zaragoza</td>\n",
       "      <td>Spain</td>\n",
       "      <td>31.08.1983</td>\n",
       "      <td>177.0</td>\n",
       "      <td>72.0</td>\n",
       "      <td>Attacking Midfielder</td>\n",
       "      <td>2</td>\n",
       "      <td>2</td>\n",
       "      <td>0</td>\n",
       "      <td>0</td>\n",
       "      <td>0</td>\n",
       "    </tr>\n",
       "    <tr>\n",
       "      <th>14886</th>\n",
       "      <td>lucas-wilchez</td>\n",
       "      <td>Lucas Wilchez</td>\n",
       "      <td>Real Zaragoza</td>\n",
       "      <td>Spain</td>\n",
       "      <td>31.08.1983</td>\n",
       "      <td>177.0</td>\n",
       "      <td>72.0</td>\n",
       "      <td>Attacking Midfielder</td>\n",
       "      <td>1</td>\n",
       "      <td>0</td>\n",
       "      <td>1</td>\n",
       "      <td>0</td>\n",
       "      <td>0</td>\n",
       "    </tr>\n",
       "  </tbody>\n",
       "</table>\n",
       "</div>"
      ],
      "text/plain": [
       "         playerShort         player           club leagueCountry    birthday  \\\n",
       "2782   lucas-wilchez  Lucas Wilchez  Real Zaragoza         Spain  31.08.1983   \n",
       "3384   lucas-wilchez  Lucas Wilchez  Real Zaragoza         Spain  31.08.1983   \n",
       "5692   lucas-wilchez  Lucas Wilchez  Real Zaragoza         Spain  31.08.1983   \n",
       "9058   lucas-wilchez  Lucas Wilchez  Real Zaragoza         Spain  31.08.1983   \n",
       "14886  lucas-wilchez  Lucas Wilchez  Real Zaragoza         Spain  31.08.1983   \n",
       "\n",
       "       height  weight              position  games  victories  ties  defeats  \\\n",
       "2782    177.0    72.0  Attacking Midfielder      3          1     1        1   \n",
       "3384    177.0    72.0  Attacking Midfielder      1          0     0        1   \n",
       "5692    177.0    72.0  Attacking Midfielder      1          1     0        0   \n",
       "9058    177.0    72.0  Attacking Midfielder      2          2     0        0   \n",
       "14886   177.0    72.0  Attacking Midfielder      1          0     1        0   \n",
       "\n",
       "       goals  \n",
       "2782       0  \n",
       "3384       0  \n",
       "5692       0  \n",
       "9058       0  \n",
       "14886      0  "
      ]
     },
     "execution_count": 35,
     "metadata": {},
     "output_type": "execute_result"
    }
   ],
   "source": [
    "# Taken form http://nbviewer.jupyter.org/github/mathewzilla/redcard/blob/master/Crowdstorming_visualisation.ipynb \n",
    "lucas.head().ix[:,:13]"
   ]
  },
  {
   "cell_type": "code",
   "execution_count": 36,
   "metadata": {
    "collapsed": false
   },
   "outputs": [
    {
     "data": {
      "text/html": [
       "<div>\n",
       "<table border=\"1\" class=\"dataframe\">\n",
       "  <thead>\n",
       "    <tr style=\"text-align: right;\">\n",
       "      <th></th>\n",
       "      <th>yellowCards</th>\n",
       "      <th>yellowReds</th>\n",
       "      <th>redCards</th>\n",
       "      <th>photoID</th>\n",
       "      <th>rater1</th>\n",
       "      <th>rater2</th>\n",
       "      <th>refNum</th>\n",
       "      <th>refCountry</th>\n",
       "      <th>Alpha_3</th>\n",
       "      <th>meanIAT</th>\n",
       "      <th>nIAT</th>\n",
       "      <th>seIAT</th>\n",
       "      <th>meanExp</th>\n",
       "      <th>nExp</th>\n",
       "      <th>seExp</th>\n",
       "    </tr>\n",
       "  </thead>\n",
       "  <tbody>\n",
       "    <tr>\n",
       "      <th>2782</th>\n",
       "      <td>0</td>\n",
       "      <td>0</td>\n",
       "      <td>0</td>\n",
       "      <td>95212.jpg</td>\n",
       "      <td>0.25</td>\n",
       "      <td>0.5</td>\n",
       "      <td>88</td>\n",
       "      <td>3</td>\n",
       "      <td>ESP</td>\n",
       "      <td>0.369894</td>\n",
       "      <td>1785.0</td>\n",
       "      <td>0.000229</td>\n",
       "      <td>0.588297</td>\n",
       "      <td>1897.0</td>\n",
       "      <td>0.001002</td>\n",
       "    </tr>\n",
       "    <tr>\n",
       "      <th>3384</th>\n",
       "      <td>0</td>\n",
       "      <td>0</td>\n",
       "      <td>0</td>\n",
       "      <td>95212.jpg</td>\n",
       "      <td>0.25</td>\n",
       "      <td>0.5</td>\n",
       "      <td>94</td>\n",
       "      <td>3</td>\n",
       "      <td>ESP</td>\n",
       "      <td>0.369894</td>\n",
       "      <td>1785.0</td>\n",
       "      <td>0.000229</td>\n",
       "      <td>0.588297</td>\n",
       "      <td>1897.0</td>\n",
       "      <td>0.001002</td>\n",
       "    </tr>\n",
       "    <tr>\n",
       "      <th>5692</th>\n",
       "      <td>0</td>\n",
       "      <td>0</td>\n",
       "      <td>0</td>\n",
       "      <td>95212.jpg</td>\n",
       "      <td>0.25</td>\n",
       "      <td>0.5</td>\n",
       "      <td>137</td>\n",
       "      <td>3</td>\n",
       "      <td>ESP</td>\n",
       "      <td>0.369894</td>\n",
       "      <td>1785.0</td>\n",
       "      <td>0.000229</td>\n",
       "      <td>0.588297</td>\n",
       "      <td>1897.0</td>\n",
       "      <td>0.001002</td>\n",
       "    </tr>\n",
       "    <tr>\n",
       "      <th>9058</th>\n",
       "      <td>1</td>\n",
       "      <td>0</td>\n",
       "      <td>0</td>\n",
       "      <td>95212.jpg</td>\n",
       "      <td>0.25</td>\n",
       "      <td>0.5</td>\n",
       "      <td>214</td>\n",
       "      <td>1</td>\n",
       "      <td>GRC</td>\n",
       "      <td>0.326391</td>\n",
       "      <td>712.0</td>\n",
       "      <td>0.000564</td>\n",
       "      <td>0.396000</td>\n",
       "      <td>750.0</td>\n",
       "      <td>0.002696</td>\n",
       "    </tr>\n",
       "    <tr>\n",
       "      <th>14886</th>\n",
       "      <td>0</td>\n",
       "      <td>0</td>\n",
       "      <td>0</td>\n",
       "      <td>95212.jpg</td>\n",
       "      <td>0.25</td>\n",
       "      <td>0.5</td>\n",
       "      <td>313</td>\n",
       "      <td>1</td>\n",
       "      <td>GRC</td>\n",
       "      <td>0.326391</td>\n",
       "      <td>712.0</td>\n",
       "      <td>0.000564</td>\n",
       "      <td>0.396000</td>\n",
       "      <td>750.0</td>\n",
       "      <td>0.002696</td>\n",
       "    </tr>\n",
       "  </tbody>\n",
       "</table>\n",
       "</div>"
      ],
      "text/plain": [
       "       yellowCards  yellowReds  redCards    photoID  rater1  rater2  refNum  \\\n",
       "2782             0           0         0  95212.jpg    0.25     0.5      88   \n",
       "3384             0           0         0  95212.jpg    0.25     0.5      94   \n",
       "5692             0           0         0  95212.jpg    0.25     0.5     137   \n",
       "9058             1           0         0  95212.jpg    0.25     0.5     214   \n",
       "14886            0           0         0  95212.jpg    0.25     0.5     313   \n",
       "\n",
       "       refCountry Alpha_3   meanIAT    nIAT     seIAT   meanExp    nExp  \\\n",
       "2782            3     ESP  0.369894  1785.0  0.000229  0.588297  1897.0   \n",
       "3384            3     ESP  0.369894  1785.0  0.000229  0.588297  1897.0   \n",
       "5692            3     ESP  0.369894  1785.0  0.000229  0.588297  1897.0   \n",
       "9058            1     GRC  0.326391   712.0  0.000564  0.396000   750.0   \n",
       "14886           1     GRC  0.326391   712.0  0.000564  0.396000   750.0   \n",
       "\n",
       "          seExp  \n",
       "2782   0.001002  \n",
       "3384   0.001002  \n",
       "5692   0.001002  \n",
       "9058   0.002696  \n",
       "14886  0.002696  "
      ]
     },
     "execution_count": 36,
     "metadata": {},
     "output_type": "execute_result"
    }
   ],
   "source": [
    "# Taken form http://nbviewer.jupyter.org/github/mathewzilla/redcard/blob/master/Crowdstorming_visualisation.ipynb \n",
    "lucas.head().ix[:,13:]"
   ]
  },
  {
   "cell_type": "markdown",
   "metadata": {},
   "source": [
    "First we will only keep the columns that seem relevant to us and remove the ones we think are not important :\n",
    "- player name which is a repetition of the playershort\n",
    "- birthday as it should not be relevant, completely independent (that would be weird al least :))\n",
    "- refNum, refCountry, Alpha3 which are not easily usable as an aggregated feature (a solution to use this part of the data will be detailed later)\n",
    "- nIAT and nExp really not relevant here \n",
    "    we could do a weihted mean with the \"mean\" and \"se\" columns but it seemed a bit exagerated (could be a futur improvement ?)\n",
    "    \n",
    "Why we kept other columns is explained below with the aggregation operation."
   ]
  },
  {
   "cell_type": "code",
   "execution_count": 37,
   "metadata": {
    "collapsed": false
   },
   "outputs": [],
   "source": [
    "# We only keep what we think are relevant columns.\n",
    "df_filtered = dfc[[\"playerShort\",\"club\", \"leagueCountry\", \"height\", \"weight\", \"position\", \"games\", \"victories\", \n",
    "                 \"ties\", \"defeats\", \"goals\", \"yellowCards\", \"yellowReds\", \"redCards\",\n",
    "                 \"rater1\", \"rater2\", \"meanIAT\", \"seIAT\", \"meanExp\", \"seExp\"]]"
   ]
  },
  {
   "cell_type": "code",
   "execution_count": 42,
   "metadata": {
    "collapsed": false
   },
   "outputs": [],
   "source": [
    "df_grouped = df_filtered.groupby(\"playerShort\").agg({\n",
    "        \"club\": lambda x: x.unique()[0],\n",
    "        \"leagueCountry\": lambda x: x.unique()[0],\n",
    "        \"height\": np.max,\n",
    "        \"weight\": np.max,\n",
    "        \"position\": lambda x: x.unique()[0],\n",
    "        \"games\": np.sum,\n",
    "        \"victories\": np.sum,\n",
    "        \"ties\": np.sum,\n",
    "        \"defeats\": np.sum,\n",
    "        \"goals\": np.sum,\n",
    "        \"yellowCards\": np.sum,\n",
    "        \"yellowReds\": np.sum,\n",
    "        \"redCards\": np.sum,\n",
    "        \"rater1\": np.max, # never changes so we can take either min, max or mean \n",
    "        \"rater2\": np.max, # same here (we used this to test that nothing changed : [np.min, np.max, np,mean])\n",
    "        \"meanIAT\": np.mean, # Here doing the mean seems a bit confusing but it will give an \n",
    "        \"seIAT\": np.mean,   # indicatiion whether the player could have been mistreated in \n",
    "                            # some of his matches or never.\n",
    "        \"meanExp\": np.mean, # Same here\n",
    "        \"seExp\": np.mean    # We could have applied pooled variance (will see later) : https://en.wikipedia.org/wiki/Pooled_variance\n",
    "    })"
   ]
  },
  {
   "cell_type": "code",
   "execution_count": 43,
   "metadata": {
    "collapsed": false,
    "scrolled": true
   },
   "outputs": [],
   "source": [
    "# We used this to check wether min and max rating change for each player (which was not the case)\n",
    "#df_grouped[df_grouped[\"rater1\", \"amin\"] != df_grouped[\"rater1\", \"amax\"]]"
   ]
  },
  {
   "cell_type": "code",
   "execution_count": 44,
   "metadata": {
    "collapsed": false
   },
   "outputs": [],
   "source": [
    "# We used this to test if some players had multiple clubs, league country or position. Which was not the case.\n",
    "#print(df_grouped[\"club\"].apply(lambda x: x[0].shape).unique())\n",
    "#print(df_grouped[\"leagueCountry\"].apply(lambda x: x[0].shape).unique())\n",
    "#print(df_grouped[\"position\"].apply(lambda x: x[0].shape).unique())"
   ]
  },
  {
   "cell_type": "code",
   "execution_count": 45,
   "metadata": {
    "collapsed": false
   },
   "outputs": [
    {
     "data": {
      "text/html": [
       "<div>\n",
       "<table border=\"1\" class=\"dataframe\">\n",
       "  <thead>\n",
       "    <tr style=\"text-align: right;\">\n",
       "      <th></th>\n",
       "      <th>meanIAT</th>\n",
       "      <th>position</th>\n",
       "      <th>games</th>\n",
       "      <th>meanExp</th>\n",
       "      <th>seIAT</th>\n",
       "      <th>rater1</th>\n",
       "      <th>goals</th>\n",
       "      <th>yellowReds</th>\n",
       "      <th>ties</th>\n",
       "      <th>defeats</th>\n",
       "      <th>redCards</th>\n",
       "      <th>leagueCountry</th>\n",
       "      <th>weight</th>\n",
       "      <th>rater2</th>\n",
       "      <th>height</th>\n",
       "      <th>yellowCards</th>\n",
       "      <th>seExp</th>\n",
       "      <th>club</th>\n",
       "      <th>victories</th>\n",
       "    </tr>\n",
       "    <tr>\n",
       "      <th>playerShort</th>\n",
       "      <th></th>\n",
       "      <th></th>\n",
       "      <th></th>\n",
       "      <th></th>\n",
       "      <th></th>\n",
       "      <th></th>\n",
       "      <th></th>\n",
       "      <th></th>\n",
       "      <th></th>\n",
       "      <th></th>\n",
       "      <th></th>\n",
       "      <th></th>\n",
       "      <th></th>\n",
       "      <th></th>\n",
       "      <th></th>\n",
       "      <th></th>\n",
       "      <th></th>\n",
       "      <th></th>\n",
       "      <th></th>\n",
       "    </tr>\n",
       "  </thead>\n",
       "  <tbody>\n",
       "    <tr>\n",
       "      <th>aaron-hughes</th>\n",
       "      <td>0.344759</td>\n",
       "      <td>Center Back</td>\n",
       "      <td>641</td>\n",
       "      <td>0.487879</td>\n",
       "      <td>0.000333</td>\n",
       "      <td>0.25</td>\n",
       "      <td>9</td>\n",
       "      <td>0</td>\n",
       "      <td>176</td>\n",
       "      <td>222</td>\n",
       "      <td>0</td>\n",
       "      <td>England</td>\n",
       "      <td>71.0</td>\n",
       "      <td>0.00</td>\n",
       "      <td>182.0</td>\n",
       "      <td>19</td>\n",
       "      <td>0.001553</td>\n",
       "      <td>Fulham FC</td>\n",
       "      <td>243</td>\n",
       "    </tr>\n",
       "    <tr>\n",
       "      <th>aaron-hunt</th>\n",
       "      <td>0.349332</td>\n",
       "      <td>Attacking Midfielder</td>\n",
       "      <td>329</td>\n",
       "      <td>0.453989</td>\n",
       "      <td>0.000226</td>\n",
       "      <td>0.00</td>\n",
       "      <td>59</td>\n",
       "      <td>0</td>\n",
       "      <td>70</td>\n",
       "      <td>119</td>\n",
       "      <td>1</td>\n",
       "      <td>Germany</td>\n",
       "      <td>73.0</td>\n",
       "      <td>0.25</td>\n",
       "      <td>183.0</td>\n",
       "      <td>39</td>\n",
       "      <td>0.001025</td>\n",
       "      <td>Werder Bremen</td>\n",
       "      <td>140</td>\n",
       "    </tr>\n",
       "    <tr>\n",
       "      <th>aaron-lennon</th>\n",
       "      <td>0.345893</td>\n",
       "      <td>Right Midfielder</td>\n",
       "      <td>412</td>\n",
       "      <td>0.491482</td>\n",
       "      <td>0.000367</td>\n",
       "      <td>0.25</td>\n",
       "      <td>31</td>\n",
       "      <td>0</td>\n",
       "      <td>97</td>\n",
       "      <td>115</td>\n",
       "      <td>0</td>\n",
       "      <td>England</td>\n",
       "      <td>63.0</td>\n",
       "      <td>0.25</td>\n",
       "      <td>165.0</td>\n",
       "      <td>11</td>\n",
       "      <td>0.002032</td>\n",
       "      <td>Tottenham Hotspur</td>\n",
       "      <td>200</td>\n",
       "    </tr>\n",
       "    <tr>\n",
       "      <th>aaron-ramsey</th>\n",
       "      <td>0.346790</td>\n",
       "      <td>Center Midfielder</td>\n",
       "      <td>254</td>\n",
       "      <td>0.511650</td>\n",
       "      <td>0.000525</td>\n",
       "      <td>0.00</td>\n",
       "      <td>39</td>\n",
       "      <td>0</td>\n",
       "      <td>42</td>\n",
       "      <td>67</td>\n",
       "      <td>1</td>\n",
       "      <td>England</td>\n",
       "      <td>76.0</td>\n",
       "      <td>0.00</td>\n",
       "      <td>178.0</td>\n",
       "      <td>31</td>\n",
       "      <td>0.002938</td>\n",
       "      <td>Arsenal FC</td>\n",
       "      <td>145</td>\n",
       "    </tr>\n",
       "    <tr>\n",
       "      <th>abdelhamid-el-kaoutari</th>\n",
       "      <td>0.331600</td>\n",
       "      <td>Center Back</td>\n",
       "      <td>124</td>\n",
       "      <td>0.335587</td>\n",
       "      <td>0.001488</td>\n",
       "      <td>0.25</td>\n",
       "      <td>1</td>\n",
       "      <td>4</td>\n",
       "      <td>40</td>\n",
       "      <td>43</td>\n",
       "      <td>2</td>\n",
       "      <td>France</td>\n",
       "      <td>73.0</td>\n",
       "      <td>0.25</td>\n",
       "      <td>180.0</td>\n",
       "      <td>8</td>\n",
       "      <td>0.005296</td>\n",
       "      <td>Montpellier HSC</td>\n",
       "      <td>41</td>\n",
       "    </tr>\n",
       "  </tbody>\n",
       "</table>\n",
       "</div>"
      ],
      "text/plain": [
       "                         meanIAT              position  games   meanExp  \\\n",
       "playerShort                                                               \n",
       "aaron-hughes            0.344759           Center Back    641  0.487879   \n",
       "aaron-hunt              0.349332  Attacking Midfielder    329  0.453989   \n",
       "aaron-lennon            0.345893      Right Midfielder    412  0.491482   \n",
       "aaron-ramsey            0.346790     Center Midfielder    254  0.511650   \n",
       "abdelhamid-el-kaoutari  0.331600           Center Back    124  0.335587   \n",
       "\n",
       "                           seIAT  rater1  goals  yellowReds  ties  defeats  \\\n",
       "playerShort                                                                  \n",
       "aaron-hughes            0.000333    0.25      9           0   176      222   \n",
       "aaron-hunt              0.000226    0.00     59           0    70      119   \n",
       "aaron-lennon            0.000367    0.25     31           0    97      115   \n",
       "aaron-ramsey            0.000525    0.00     39           0    42       67   \n",
       "abdelhamid-el-kaoutari  0.001488    0.25      1           4    40       43   \n",
       "\n",
       "                        redCards leagueCountry  weight  rater2  height  \\\n",
       "playerShort                                                              \n",
       "aaron-hughes                   0       England    71.0    0.00   182.0   \n",
       "aaron-hunt                     1       Germany    73.0    0.25   183.0   \n",
       "aaron-lennon                   0       England    63.0    0.25   165.0   \n",
       "aaron-ramsey                   1       England    76.0    0.00   178.0   \n",
       "abdelhamid-el-kaoutari         2        France    73.0    0.25   180.0   \n",
       "\n",
       "                        yellowCards     seExp               club  victories  \n",
       "playerShort                                                                  \n",
       "aaron-hughes                     19  0.001553          Fulham FC        243  \n",
       "aaron-hunt                       39  0.001025      Werder Bremen        140  \n",
       "aaron-lennon                     11  0.002032  Tottenham Hotspur        200  \n",
       "aaron-ramsey                     31  0.002938         Arsenal FC        145  \n",
       "abdelhamid-el-kaoutari            8  0.005296    Montpellier HSC         41  "
      ]
     },
     "execution_count": 45,
     "metadata": {},
     "output_type": "execute_result"
    }
   ],
   "source": [
    "df_grouped.head()"
   ]
  },
  {
   "cell_type": "code",
   "execution_count": 46,
   "metadata": {
    "collapsed": false,
    "scrolled": true
   },
   "outputs": [
    {
     "data": {
      "text/plain": [
       "1584"
      ]
     },
     "execution_count": 46,
     "metadata": {},
     "output_type": "execute_result"
    }
   ],
   "source": [
    "len(df_grouped)"
   ]
  },
  {
   "cell_type": "markdown",
   "metadata": {},
   "source": [
    "Thanks to the description of the data in DATA.md we know there should be 1586 players with pictures.\n",
    "With this value we can validate the fact that we lost minimal data and have most of the players with a picture."
   ]
  },
  {
   "cell_type": "markdown",
   "metadata": {},
   "source": [
    "## Preparing Data"
   ]
  },
  {
   "cell_type": "markdown",
   "metadata": {},
   "source": [
    "As a last step before starting to do machine learning we need to reformat the data and seperate it"
   ]
  },
  {
   "cell_type": "markdown",
   "metadata": {},
   "source": [
    "First we need to make rows which contain strings in integers (club, position, leagueCountry)"
   ]
  },
  {
   "cell_type": "code",
   "execution_count": 47,
   "metadata": {
    "collapsed": false
   },
   "outputs": [],
   "source": [
    "from sklearn import preprocessing\n",
    "\n",
    "df_grouped[\"club\"] = df_grouped[\"club\"].astype(np.str)\n",
    "df_grouped[\"position\"] = df_grouped[\"position\"].astype(np.str)\n",
    "df_grouped[\"leagueCountry\"] = df_grouped[\"leagueCountry\"].astype(np.str)\n",
    "\n",
    "def encodeLabels(col, df):\n",
    "    le = preprocessing.LabelEncoder()\n",
    "    le.fit(df[col].unique())\n",
    "    df[col] = le.transform(df[col])\n",
    "\n",
    "encodeLabels(\"club\", df_grouped)\n",
    "encodeLabels(\"position\", df_grouped)\n",
    "encodeLabels(\"leagueCountry\", df_grouped)"
   ]
  },
  {
   "cell_type": "markdown",
   "metadata": {},
   "source": [
    "Now we can create the futur x and y for training"
   ]
  },
  {
   "cell_type": "code",
   "execution_count": 48,
   "metadata": {
    "collapsed": false
   },
   "outputs": [
    {
     "data": {
      "text/html": [
       "<div>\n",
       "<table border=\"1\" class=\"dataframe\">\n",
       "  <thead>\n",
       "    <tr style=\"text-align: right;\">\n",
       "      <th></th>\n",
       "      <th>rater1</th>\n",
       "      <th>rater2</th>\n",
       "    </tr>\n",
       "    <tr>\n",
       "      <th>playerShort</th>\n",
       "      <th></th>\n",
       "      <th></th>\n",
       "    </tr>\n",
       "  </thead>\n",
       "  <tbody>\n",
       "    <tr>\n",
       "      <th>aaron-hughes</th>\n",
       "      <td>0.25</td>\n",
       "      <td>0.00</td>\n",
       "    </tr>\n",
       "    <tr>\n",
       "      <th>aaron-hunt</th>\n",
       "      <td>0.00</td>\n",
       "      <td>0.25</td>\n",
       "    </tr>\n",
       "    <tr>\n",
       "      <th>aaron-lennon</th>\n",
       "      <td>0.25</td>\n",
       "      <td>0.25</td>\n",
       "    </tr>\n",
       "    <tr>\n",
       "      <th>aaron-ramsey</th>\n",
       "      <td>0.00</td>\n",
       "      <td>0.00</td>\n",
       "    </tr>\n",
       "    <tr>\n",
       "      <th>abdelhamid-el-kaoutari</th>\n",
       "      <td>0.25</td>\n",
       "      <td>0.25</td>\n",
       "    </tr>\n",
       "  </tbody>\n",
       "</table>\n",
       "</div>"
      ],
      "text/plain": [
       "                        rater1  rater2\n",
       "playerShort                           \n",
       "aaron-hughes              0.25    0.00\n",
       "aaron-hunt                0.00    0.25\n",
       "aaron-lennon              0.25    0.25\n",
       "aaron-ramsey              0.00    0.00\n",
       "abdelhamid-el-kaoutari    0.25    0.25"
      ]
     },
     "execution_count": 48,
     "metadata": {},
     "output_type": "execute_result"
    }
   ],
   "source": [
    "y_possible = df_grouped[[\"rater1\",\"rater2\"]]\n",
    "y_possible.head()"
   ]
  },
  {
   "cell_type": "code",
   "execution_count": 49,
   "metadata": {
    "collapsed": false,
    "scrolled": false
   },
   "outputs": [
    {
     "data": {
      "text/html": [
       "<div>\n",
       "<table border=\"1\" class=\"dataframe\">\n",
       "  <thead>\n",
       "    <tr style=\"text-align: right;\">\n",
       "      <th></th>\n",
       "      <th>meanIAT</th>\n",
       "      <th>position</th>\n",
       "      <th>games</th>\n",
       "      <th>meanExp</th>\n",
       "      <th>seIAT</th>\n",
       "      <th>goals</th>\n",
       "      <th>yellowReds</th>\n",
       "      <th>ties</th>\n",
       "      <th>defeats</th>\n",
       "      <th>redCards</th>\n",
       "      <th>leagueCountry</th>\n",
       "      <th>weight</th>\n",
       "      <th>height</th>\n",
       "      <th>yellowCards</th>\n",
       "      <th>seExp</th>\n",
       "      <th>club</th>\n",
       "      <th>victories</th>\n",
       "    </tr>\n",
       "    <tr>\n",
       "      <th>playerShort</th>\n",
       "      <th></th>\n",
       "      <th></th>\n",
       "      <th></th>\n",
       "      <th></th>\n",
       "      <th></th>\n",
       "      <th></th>\n",
       "      <th></th>\n",
       "      <th></th>\n",
       "      <th></th>\n",
       "      <th></th>\n",
       "      <th></th>\n",
       "      <th></th>\n",
       "      <th></th>\n",
       "      <th></th>\n",
       "      <th></th>\n",
       "      <th></th>\n",
       "      <th></th>\n",
       "    </tr>\n",
       "  </thead>\n",
       "  <tbody>\n",
       "    <tr>\n",
       "      <th>aaron-hughes</th>\n",
       "      <td>0.344759</td>\n",
       "      <td>1</td>\n",
       "      <td>641</td>\n",
       "      <td>0.487879</td>\n",
       "      <td>0.000333</td>\n",
       "      <td>9</td>\n",
       "      <td>0</td>\n",
       "      <td>176</td>\n",
       "      <td>222</td>\n",
       "      <td>0</td>\n",
       "      <td>0</td>\n",
       "      <td>71.0</td>\n",
       "      <td>182.0</td>\n",
       "      <td>19</td>\n",
       "      <td>0.001553</td>\n",
       "      <td>34</td>\n",
       "      <td>243</td>\n",
       "    </tr>\n",
       "    <tr>\n",
       "      <th>aaron-hunt</th>\n",
       "      <td>0.349332</td>\n",
       "      <td>0</td>\n",
       "      <td>329</td>\n",
       "      <td>0.453989</td>\n",
       "      <td>0.000226</td>\n",
       "      <td>59</td>\n",
       "      <td>0</td>\n",
       "      <td>70</td>\n",
       "      <td>119</td>\n",
       "      <td>1</td>\n",
       "      <td>2</td>\n",
       "      <td>73.0</td>\n",
       "      <td>183.0</td>\n",
       "      <td>39</td>\n",
       "      <td>0.001025</td>\n",
       "      <td>90</td>\n",
       "      <td>140</td>\n",
       "    </tr>\n",
       "    <tr>\n",
       "      <th>aaron-lennon</th>\n",
       "      <td>0.345893</td>\n",
       "      <td>10</td>\n",
       "      <td>412</td>\n",
       "      <td>0.491482</td>\n",
       "      <td>0.000367</td>\n",
       "      <td>31</td>\n",
       "      <td>0</td>\n",
       "      <td>97</td>\n",
       "      <td>115</td>\n",
       "      <td>0</td>\n",
       "      <td>0</td>\n",
       "      <td>63.0</td>\n",
       "      <td>165.0</td>\n",
       "      <td>11</td>\n",
       "      <td>0.002032</td>\n",
       "      <td>82</td>\n",
       "      <td>200</td>\n",
       "    </tr>\n",
       "    <tr>\n",
       "      <th>aaron-ramsey</th>\n",
       "      <td>0.346790</td>\n",
       "      <td>3</td>\n",
       "      <td>254</td>\n",
       "      <td>0.511650</td>\n",
       "      <td>0.000525</td>\n",
       "      <td>39</td>\n",
       "      <td>0</td>\n",
       "      <td>42</td>\n",
       "      <td>67</td>\n",
       "      <td>1</td>\n",
       "      <td>0</td>\n",
       "      <td>76.0</td>\n",
       "      <td>178.0</td>\n",
       "      <td>31</td>\n",
       "      <td>0.002938</td>\n",
       "      <td>6</td>\n",
       "      <td>145</td>\n",
       "    </tr>\n",
       "    <tr>\n",
       "      <th>abdelhamid-el-kaoutari</th>\n",
       "      <td>0.331600</td>\n",
       "      <td>1</td>\n",
       "      <td>124</td>\n",
       "      <td>0.335587</td>\n",
       "      <td>0.001488</td>\n",
       "      <td>1</td>\n",
       "      <td>4</td>\n",
       "      <td>40</td>\n",
       "      <td>43</td>\n",
       "      <td>2</td>\n",
       "      <td>1</td>\n",
       "      <td>73.0</td>\n",
       "      <td>180.0</td>\n",
       "      <td>8</td>\n",
       "      <td>0.005296</td>\n",
       "      <td>51</td>\n",
       "      <td>41</td>\n",
       "    </tr>\n",
       "  </tbody>\n",
       "</table>\n",
       "</div>"
      ],
      "text/plain": [
       "                         meanIAT  position  games   meanExp     seIAT  goals  \\\n",
       "playerShort                                                                    \n",
       "aaron-hughes            0.344759         1    641  0.487879  0.000333      9   \n",
       "aaron-hunt              0.349332         0    329  0.453989  0.000226     59   \n",
       "aaron-lennon            0.345893        10    412  0.491482  0.000367     31   \n",
       "aaron-ramsey            0.346790         3    254  0.511650  0.000525     39   \n",
       "abdelhamid-el-kaoutari  0.331600         1    124  0.335587  0.001488      1   \n",
       "\n",
       "                        yellowReds  ties  defeats  redCards  leagueCountry  \\\n",
       "playerShort                                                                  \n",
       "aaron-hughes                     0   176      222         0              0   \n",
       "aaron-hunt                       0    70      119         1              2   \n",
       "aaron-lennon                     0    97      115         0              0   \n",
       "aaron-ramsey                     0    42       67         1              0   \n",
       "abdelhamid-el-kaoutari           4    40       43         2              1   \n",
       "\n",
       "                        weight  height  yellowCards     seExp  club  victories  \n",
       "playerShort                                                                     \n",
       "aaron-hughes              71.0   182.0           19  0.001553    34        243  \n",
       "aaron-hunt                73.0   183.0           39  0.001025    90        140  \n",
       "aaron-lennon              63.0   165.0           11  0.002032    82        200  \n",
       "aaron-ramsey              76.0   178.0           31  0.002938     6        145  \n",
       "abdelhamid-el-kaoutari    73.0   180.0            8  0.005296    51         41  "
      ]
     },
     "execution_count": 49,
     "metadata": {},
     "output_type": "execute_result"
    }
   ],
   "source": [
    "x = df_grouped.drop(y_possible, axis=1)\n",
    "x.head()"
   ]
  },
  {
   "cell_type": "code",
   "execution_count": 50,
   "metadata": {
    "collapsed": false
   },
   "outputs": [],
   "source": [
    "def prepFeature(feature) :\n",
    "    nans = True in x[feature].isnull().unique()\n",
    "    \n",
    "    if nans:\n",
    "        print(\"mean replacement of nans\")\n",
    "        x[feature] = x[feature].fillna(int(x[feature].mean()))\n",
    "    \n",
    "    f, ax = plt.subplots(1, 1)\n",
    "    ax.set_title(\"histogram of feature \" + feature)\n",
    "    ax.hist(x[feature].values)"
   ]
  },
  {
   "cell_type": "code",
   "execution_count": 51,
   "metadata": {
    "collapsed": false
   },
   "outputs": [
    {
     "data": {
      "image/png": "[encoded data removed]",
      "text/plain": [
       "<matplotlib.figure.Figure at 0x1242aa8d0>"
      ]
     },
     "metadata": {},
     "output_type": "display_data"
    }
   ],
   "source": [
    "prepFeature(\"redCards\")"
   ]
  },
  {
   "cell_type": "code",
   "execution_count": 52,
   "metadata": {
    "collapsed": false
   },
   "outputs": [
    {
     "data": {
      "image/png": "[encoded data removed]",
      "text/plain": [
       "<matplotlib.figure.Figure at 0x12466b7b8>"
      ]
     },
     "metadata": {},
     "output_type": "display_data"
    }
   ],
   "source": [
    "prepFeature(\"games\")"
   ]
  },
  {
   "cell_type": "code",
   "execution_count": 53,
   "metadata": {
    "collapsed": false
   },
   "outputs": [
    {
     "data": {
      "image/png": "[encoded data removed]",
      "text/plain": [
       "<matplotlib.figure.Figure at 0x1247046d8>"
      ]
     },
     "metadata": {},
     "output_type": "display_data"
    }
   ],
   "source": [
    "prepFeature(\"defeats\")"
   ]
  },
  {
   "cell_type": "code",
   "execution_count": 54,
   "metadata": {
    "collapsed": false
   },
   "outputs": [
    {
     "name": "stdout",
     "output_type": "stream",
     "text": [
      "mean replacement of nans\n"
     ]
    },
    {
     "data": {
      "image/png": "[encoded data removed]",
      "text/plain": [
       "<matplotlib.figure.Figure at 0x1248d31d0>"
      ]
     },
     "metadata": {},
     "output_type": "display_data"
    }
   ],
   "source": [
    "prepFeature(\"height\")"
   ]
  },
  {
   "cell_type": "code",
   "execution_count": 55,
   "metadata": {
    "collapsed": false
   },
   "outputs": [
    {
     "data": {
      "image/png": "[encoded data removed]",
      "text/plain": [
       "<matplotlib.figure.Figure at 0x124aa83c8>"
      ]
     },
     "metadata": {},
     "output_type": "display_data"
    }
   ],
   "source": [
    "prepFeature(\"meanExp\")"
   ]
  },
  {
   "cell_type": "code",
   "execution_count": 56,
   "metadata": {
    "collapsed": false
   },
   "outputs": [
    {
     "data": {
      "image/png": "[encoded data removed]",
      "text/plain": [
       "<matplotlib.figure.Figure at 0x124c6d160>"
      ]
     },
     "metadata": {},
     "output_type": "display_data"
    }
   ],
   "source": [
    "prepFeature(\"goals\")"
   ]
  },
  {
   "cell_type": "code",
   "execution_count": 57,
   "metadata": {
    "collapsed": false
   },
   "outputs": [
    {
     "data": {
      "image/png": "[encoded data removed]",
      "text/plain": [
       "<matplotlib.figure.Figure at 0x124a3c0f0>"
      ]
     },
     "metadata": {},
     "output_type": "display_data"
    }
   ],
   "source": [
    "prepFeature(\"yellowCards\")"
   ]
  },
  {
   "cell_type": "code",
   "execution_count": 58,
   "metadata": {
    "collapsed": false
   },
   "outputs": [
    {
     "data": {
      "image/png": "[encoded data removed]",
      "text/plain": [
       "<matplotlib.figure.Figure at 0x124a859b0>"
      ]
     },
     "metadata": {},
     "output_type": "display_data"
    }
   ],
   "source": [
    "prepFeature(\"yellowReds\")"
   ]
  },
  {
   "cell_type": "code",
   "execution_count": 59,
   "metadata": {
    "collapsed": false
   },
   "outputs": [
    {
     "data": {
      "image/png": "[encoded data removed]",
      "text/plain": [
       "<matplotlib.figure.Figure at 0x1211ab4a8>"
      ]
     },
     "metadata": {},
     "output_type": "display_data"
    }
   ],
   "source": [
    "prepFeature(\"club\")"
   ]
  },
  {
   "cell_type": "code",
   "execution_count": 60,
   "metadata": {
    "collapsed": false
   },
   "outputs": [
    {
     "name": "stdout",
     "output_type": "stream",
     "text": [
      "mean replacement of nans\n"
     ]
    },
    {
     "data": {
      "image/png": "[encoded data removed]",
      "text/plain": [
       "<matplotlib.figure.Figure at 0x124a85780>"
      ]
     },
     "metadata": {},
     "output_type": "display_data"
    }
   ],
   "source": [
    "prepFeature(\"weight\")"
   ]
  },
  {
   "cell_type": "code",
   "execution_count": 61,
   "metadata": {
    "collapsed": false
   },
   "outputs": [
    {
     "data": {
      "image/png": "[encoded data removed]",
      "text/plain": [
       "<matplotlib.figure.Figure at 0x11e1d7208>"
      ]
     },
     "metadata": {},
     "output_type": "display_data"
    }
   ],
   "source": [
    "prepFeature(\"seIAT\")"
   ]
  },
  {
   "cell_type": "code",
   "execution_count": 62,
   "metadata": {
    "collapsed": false
   },
   "outputs": [
    {
     "data": {
      "image/png": "[encoded data removed]",
      "text/plain": [
       "<matplotlib.figure.Figure at 0x11e896f60>"
      ]
     },
     "metadata": {},
     "output_type": "display_data"
    }
   ],
   "source": [
    "prepFeature(\"ties\")"
   ]
  },
  {
   "cell_type": "code",
   "execution_count": 63,
   "metadata": {
    "collapsed": false
   },
   "outputs": [
    {
     "data": {
      "image/png": "[encoded data removed]",
      "text/plain": [
       "<matplotlib.figure.Figure at 0x11f10b668>"
      ]
     },
     "metadata": {},
     "output_type": "display_data"
    }
   ],
   "source": [
    "prepFeature(\"leagueCountry\")"
   ]
  },
  {
   "cell_type": "code",
   "execution_count": 64,
   "metadata": {
    "collapsed": false
   },
   "outputs": [
    {
     "data": {
      "image/png": "[encoded data removed]",
      "text/plain": [
       "<matplotlib.figure.Figure at 0x11f813d30>"
      ]
     },
     "metadata": {},
     "output_type": "display_data"
    }
   ],
   "source": [
    "prepFeature(\"meanIAT\")"
   ]
  },
  {
   "cell_type": "code",
   "execution_count": 65,
   "metadata": {
    "collapsed": false
   },
   "outputs": [
    {
     "data": {
      "image/png": "[encoded data removed]",
      "text/plain": [
       "<matplotlib.figure.Figure at 0x1200afeb8>"
      ]
     },
     "metadata": {},
     "output_type": "display_data"
    }
   ],
   "source": [
    "prepFeature(\"victories\")"
   ]
  },
  {
   "cell_type": "code",
   "execution_count": 66,
   "metadata": {
    "collapsed": false
   },
   "outputs": [
    {
     "data": {
      "image/png": "[encoded data removed]",
      "text/plain": [
       "<matplotlib.figure.Figure at 0x120a55898>"
      ]
     },
     "metadata": {},
     "output_type": "display_data"
    }
   ],
   "source": [
    "prepFeature(\"seExp\")"
   ]
  },
  {
   "cell_type": "code",
   "execution_count": 67,
   "metadata": {
    "collapsed": false
   },
   "outputs": [
    {
     "data": {
      "image/png": "[encoded data removed]",
      "text/plain": [
       "<matplotlib.figure.Figure at 0x1248c8ba8>"
      ]
     },
     "metadata": {},
     "output_type": "display_data"
    }
   ],
   "source": [
    "prepFeature(\"position\")"
   ]
  },
  {
   "cell_type": "markdown",
   "metadata": {},
   "source": [
    "## Naive machine learning"
   ]
  },
  {
   "cell_type": "code",
   "execution_count": 70,
   "metadata": {
    "collapsed": true
   },
   "outputs": [],
   "source": [
    "from sklearn.ensemble import RandomForestClassifier as RFC\n",
    "from sklearn import metrics"
   ]
  },
  {
   "cell_type": "code",
   "execution_count": 71,
   "metadata": {
    "collapsed": true
   },
   "outputs": [],
   "source": [
    "rfc = RFC(n_estimators=10, n_jobs=-1, class_weight=None)"
   ]
  },
  {
   "cell_type": "markdown",
   "metadata": {},
   "source": [
    "Let's build y (in a naive fashion for now)"
   ]
  },
  {
   "cell_type": "code",
   "execution_count": 80,
   "metadata": {
    "collapsed": true
   },
   "outputs": [],
   "source": [
    "y = (y_possible['rater1'] + y_possible['rater2'] / 2 < 0.5).values"
   ]
  },
  {
   "cell_type": "code",
   "execution_count": 74,
   "metadata": {
    "collapsed": false
   },
   "outputs": [
    {
     "data": {
      "text/plain": [
       "RandomForestClassifier(bootstrap=True, class_weight=None, criterion='gini',\n",
       "            max_depth=None, max_features='auto', max_leaf_nodes=None,\n",
       "            min_impurity_split=1e-07, min_samples_leaf=1,\n",
       "            min_samples_split=2, min_weight_fraction_leaf=0.0,\n",
       "            n_estimators=10, n_jobs=-1, oob_score=False, random_state=None,\n",
       "            verbose=0, warm_start=False)"
      ]
     },
     "execution_count": 74,
     "metadata": {},
     "output_type": "execute_result"
    }
   ],
   "source": [
    "rfc.fit(x, y)"
   ]
  },
  {
   "cell_type": "code",
   "execution_count": 75,
   "metadata": {
    "collapsed": true
   },
   "outputs": [],
   "source": [
    "y_pred = rfc.predict(x)"
   ]
  },
  {
   "cell_type": "code",
   "execution_count": 76,
   "metadata": {
    "collapsed": false
   },
   "outputs": [
    {
     "name": "stdout",
     "output_type": "stream",
     "text": [
      "0.0183080808081\n",
      "0.981691919192\n"
     ]
    },
    {
     "name": "stderr",
     "output_type": "stream",
     "text": [
      "/usr/local/lib/python3.5/site-packages/sklearn/metrics/regression.py:164: DeprecationWarning: numpy boolean subtract, the `-` operator, is deprecated, use the bitwise_xor, the `^` operator, or the logical_xor function instead.\n",
      "  output_errors = np.average(np.abs(y_pred - y_true),\n"
     ]
    }
   ],
   "source": [
    "print(metrics.mean_absolute_error(y, y_pred))\n",
    "print(metrics.accuracy_score(y, y_pred))"
   ]
  },
  {
   "cell_type": "markdown",
   "metadata": {},
   "source": [
    "### Ok so we're done here ! 99% seems reasonable, goodbye !"
   ]
  },
  {
   "cell_type": "markdown",
   "metadata": {},
   "source": [
    " "
   ]
  },
  {
   "cell_type": "markdown",
   "metadata": {},
   "source": [
    " "
   ]
  },
  {
   "cell_type": "markdown",
   "metadata": {},
   "source": [
    " "
   ]
  },
  {
   "cell_type": "markdown",
   "metadata": {},
   "source": [
    " "
   ]
  },
  {
   "cell_type": "markdown",
   "metadata": {},
   "source": [
    "## Ok just kidding let's get serious with this !"
   ]
  },
  {
   "cell_type": "markdown",
   "metadata": {},
   "source": [
    "First let's really test the naive approach and see how it could perform in a \"real\" situation."
   ]
  },
  {
   "cell_type": "markdown",
   "metadata": {},
   "source": [
    "let's first split the dataset into a training and testing set. This seems to be generally a good practice in machine learning :)."
   ]
  },
  {
   "cell_type": "code",
   "execution_count": 149,
   "metadata": {
    "collapsed": true
   },
   "outputs": [],
   "source": [
    "from sklearn.cross_validation import train_test_split\n",
    "\n",
    "x_train, x_test, y_train, y_test = train_test_split(x, y, test_size=0.2, random_state=4)"
   ]
  },
  {
   "cell_type": "code",
   "execution_count": 150,
   "metadata": {
    "collapsed": true
   },
   "outputs": [],
   "source": [
    "rfc = RFC(n_estimators=10, n_jobs=-1, class_weight=None)"
   ]
  },
  {
   "cell_type": "code",
   "execution_count": 151,
   "metadata": {
    "collapsed": false
   },
   "outputs": [
    {
     "data": {
      "text/plain": [
       "RandomForestClassifier(bootstrap=True, class_weight=None, criterion='gini',\n",
       "            max_depth=None, max_features='auto', max_leaf_nodes=None,\n",
       "            min_impurity_split=1e-07, min_samples_leaf=1,\n",
       "            min_samples_split=2, min_weight_fraction_leaf=0.0,\n",
       "            n_estimators=10, n_jobs=-1, oob_score=False, random_state=None,\n",
       "            verbose=0, warm_start=False)"
      ]
     },
     "execution_count": 151,
     "metadata": {},
     "output_type": "execute_result"
    }
   ],
   "source": [
    "rfc.fit(x_train, y_train)"
   ]
  },
  {
   "cell_type": "code",
   "execution_count": 152,
   "metadata": {
    "collapsed": true
   },
   "outputs": [],
   "source": [
    "y_pred = rfc.predict(x_test)"
   ]
  },
  {
   "cell_type": "code",
   "execution_count": 153,
   "metadata": {
    "collapsed": false,
    "scrolled": false
   },
   "outputs": [
    {
     "name": "stdout",
     "output_type": "stream",
     "text": [
      "0.249211356467\n",
      "0.750788643533\n"
     ]
    },
    {
     "name": "stderr",
     "output_type": "stream",
     "text": [
      "/usr/local/lib/python3.5/site-packages/sklearn/metrics/regression.py:164: DeprecationWarning: numpy boolean subtract, the `-` operator, is deprecated, use the bitwise_xor, the `^` operator, or the logical_xor function instead.\n",
      "  output_errors = np.average(np.abs(y_pred - y_true),\n"
     ]
    }
   ],
   "source": [
    "print(metrics.mean_absolute_error(y_test, y_pred))\n",
    "print(metrics.accuracy_score(y_test, y_pred))"
   ]
  },
  {
   "cell_type": "markdown",
   "metadata": {},
   "source": [
    "Ok that's kind of disapointing... (but not so much suprising)"
   ]
  },
  {
   "cell_type": "markdown",
   "metadata": {},
   "source": [
    "Let's try to use some well known ML technics to understand what's going wrong."
   ]
  },
  {
   "cell_type": "code",
   "execution_count": 162,
   "metadata": {
    "collapsed": true
   },
   "outputs": [],
   "source": [
    "#rfc = RFC(n_estimators=10, n_jobs=-1, class_weight=None)"
   ]
  },
  {
   "cell_type": "code",
   "execution_count": 163,
   "metadata": {
    "collapsed": false
   },
   "outputs": [],
   "source": [
    "# Cross validation 10-Fold (for now) with accuracy scoring\n",
    "from sklearn.cross_validation import cross_val_score\n",
    "scores = cross_val_score(rfc, x, y, cv=5, scoring='accuracy')"
   ]
  },
  {
   "cell_type": "code",
   "execution_count": 164,
   "metadata": {
    "collapsed": false
   },
   "outputs": [
    {
     "name": "stdout",
     "output_type": "stream",
     "text": [
      "[ 0.70440252  0.66981132  0.71518987  0.6835443   0.73101266]\n",
      "--------------------------\n",
      "mean : 0.700792134384\n",
      "min : 0.669811320755\n",
      "max : 0.731012658228\n"
     ]
    }
   ],
   "source": [
    "def show_score(scores):\n",
    "    print(scores)\n",
    "    print(\"--------------------------\")\n",
    "    print(\"mean :\", np.mean(scores))\n",
    "    print(\"min :\", np.min(scores))\n",
    "    print(\"max :\", np.max(scores))\n",
    "\n",
    "show_score(scores)"
   ]
  },
  {
   "cell_type": "markdown",
   "metadata": {},
   "source": [
    "We can see again that the result is not pretty, the best result we have is ~73% which is not much better than perdicting that all players are light skinned"
   ]
  },
  {
   "cell_type": "markdown",
   "metadata": {},
   "source": [
    "proportions of classes for the mean rating (considering 1 -> $mean \\leq 0.5$)"
   ]
  },
  {
   "cell_type": "code",
   "execution_count": 165,
   "metadata": {
    "collapsed": false
   },
   "outputs": [
    {
     "name": "stdout",
     "output_type": "stream",
     "text": [
      "proportion of ones : 0.708333333333\n",
      "proportion of zeroes : 0.291666666667\n"
     ]
    }
   ],
   "source": [
    "# Proportion of light and dark skinned players\n",
    "prop_1 = np.sum(y) / len(y)\n",
    "prop_0 = 1 - prop_1\n",
    "print(\"proportion of ones :\", prop_1)\n",
    "print(\"proportion of zeroes :\", prop_0)"
   ]
  },
  {
   "cell_type": "markdown",
   "metadata": {},
   "source": [
    "Ok now let's see what the confusion matrix has to say."
   ]
  },
  {
   "cell_type": "code",
   "execution_count": 166,
   "metadata": {
    "collapsed": false
   },
   "outputs": [],
   "source": [
    "confusion_mx = metrics.confusion_matrix(y_test, y_pred)\n",
    "TP = confusion_mx[1, 1]\n",
    "TN = confusion_mx[0, 0]\n",
    "FP = confusion_mx[0, 1]\n",
    "FN = confusion_mx[1, 0]"
   ]
  },
  {
   "cell_type": "code",
   "execution_count": 167,
   "metadata": {
    "collapsed": false,
    "scrolled": false
   },
   "outputs": [
    {
     "data": {
      "text/plain": [
       "array([[ 37,  53],\n",
       "       [ 26, 201]])"
      ]
     },
     "execution_count": 167,
     "metadata": {},
     "output_type": "execute_result"
    }
   ],
   "source": [
    "confusion_mx"
   ]
  },
  {
   "cell_type": "markdown",
   "metadata": {},
   "source": [
    "|total : 317| pred : 0 |  pred : 1  |\n",
    "|---|----|-----|\n",
    "| actual : 0 | TN = 37 | FP = 53 |\n",
    "| actual : 1 | FN = 26 | TP = 201 |"
   ]
  },
  {
   "cell_type": "markdown",
   "metadata": {},
   "source": [
    "We can see here that we are good at predicting ones, but our predictions of 0 are all over the place."
   ]
  },
  {
   "cell_type": "markdown",
   "metadata": {},
   "source": [
    "There is an easy way to show this : the **Specificity** (or how correct is the classifier with 0 values)"
   ]
  },
  {
   "cell_type": "code",
   "execution_count": 176,
   "metadata": {
    "collapsed": false
   },
   "outputs": [
    {
     "name": "stdout",
     "output_type": "stream",
     "text": [
      "Specificity : 0.411111111111\n"
     ]
    }
   ],
   "source": [
    "specificity = TN / float(TN + FP)\n",
    "print(\"Specificity :\", specificity)"
   ]
  },
  {
   "cell_type": "markdown",
   "metadata": {},
   "source": [
    "We can compare it to **Sensitivity** (or true positive rate)"
   ]
  },
  {
   "cell_type": "code",
   "execution_count": 169,
   "metadata": {
    "collapsed": false
   },
   "outputs": [
    {
     "name": "stdout",
     "output_type": "stream",
     "text": [
      "sensitivity : 0.885462555066\n"
     ]
    }
   ],
   "source": [
    "sensitivity = TP / float(TP + FN)\n",
    "print(\"sensitivity :\", sensitivity)"
   ]
  },
  {
   "cell_type": "markdown",
   "metadata": {},
   "source": [
    "Which is much better. \n",
    "\n",
    "PS : all these methods are taken from the course and the calculations were found in this notebook : http://nbviewer.jupyter.org/github/justmarkham/scikit-learn-videos/blob/master/09_classification_metrics.ipynb"
   ]
  },
  {
   "cell_type": "markdown",
   "metadata": {},
   "source": [
    "So, how are we going to do a better job ?"
   ]
  },
  {
   "cell_type": "markdown",
   "metadata": {},
   "source": [
    "The first thing we realize is that there is a way to indicate to the random forest classifier the fact that there is a disparity within the data."
   ]
  },
  {
   "cell_type": "code",
   "execution_count": 193,
   "metadata": {
    "collapsed": true
   },
   "outputs": [],
   "source": [
    "class_weights = {\n",
    "    1 : prop_1*10,\n",
    "    0 : prop_0*10\n",
    "}"
   ]
  },
  {
   "cell_type": "code",
   "execution_count": 190,
   "metadata": {
    "collapsed": false
   },
   "outputs": [],
   "source": [
    "rfc = RFC(n_estimators=10, n_jobs=-1, class_weight=class_weights)"
   ]
  },
  {
   "cell_type": "markdown",
   "metadata": {},
   "source": [
    "We will use a function that prints out most of the information we used above to test our new rfc "
   ]
  },
  {
   "cell_type": "code",
   "execution_count": 200,
   "metadata": {
    "collapsed": false
   },
   "outputs": [
    {
     "name": "stdout",
     "output_type": "stream",
     "text": [
      "Cross validation scores\n",
      "[ 0.7327044   0.6918239   0.72151899  0.69620253  0.73417722]\n",
      "--------------------------\n",
      "cross mean : 0.715285407213\n",
      "cross min : 0.691823899371\n",
      "cross max : 0.73417721519\n",
      "----------\n",
      "TP : 193\n",
      "TN : 37\n",
      "FP : 53\n",
      "FN : 34\n",
      "----------\n",
      "specificity : 0.411111111111\n",
      "sensitivity : 0.850220264317\n"
     ]
    }
   ],
   "source": [
    "from helpers import test_rfc\n",
    "test_rfc(rfc, x, y)"
   ]
  },
  {
   "cell_type": "markdown",
   "metadata": {},
   "source": [
    "Ok, to bad it's not better than before althought our sensitivity is a bit lower (which is reasonable)"
   ]
  },
  {
   "cell_type": "markdown",
   "metadata": {},
   "source": [
    "Let's try something else : changing the classification threshold"
   ]
  },
  {
   "cell_type": "markdown",
   "metadata": {},
   "source": [
    "We think this will help the **specificity** get higher."
   ]
  },
  {
   "cell_type": "markdown",
   "metadata": {},
   "source": [
    "let's retrain our data with our new rfc (with weights)"
   ]
  },
  {
   "cell_type": "markdown",
   "metadata": {},
   "source": [
    "# NE RUN PAS ce qu'il y a en dessous de ça"
   ]
  },
  {
   "cell_type": "code",
   "execution_count": 201,
   "metadata": {
    "collapsed": true
   },
   "outputs": [],
   "source": [
    "rfc.fit(x_train, y_train)\n",
    "y_pred = rfc.predict(x_test)"
   ]
  },
  {
   "cell_type": "code",
   "execution_count": 206,
   "metadata": {
    "collapsed": true
   },
   "outputs": [],
   "source": [
    "y_pred_prob = rfc.predict_proba(x_test)[:, 1]"
   ]
  },
  {
   "cell_type": "code",
   "execution_count": 207,
   "metadata": {
    "collapsed": false
   },
   "outputs": [
    {
     "data": {
      "text/plain": [
       "array([ 0.7,  0.6,  0. ,  0.8,  0.8,  0.7,  0.9,  0.6,  1. ,  0.7,  0.7,\n",
       "        0.8,  1. ,  0.9,  0.7,  0.9,  0.6,  0.9,  1. ,  0. ,  0. ,  0.9,\n",
       "        0.8,  0.6,  0.6,  0.7,  0.6,  0.9,  0.9,  1. ,  0.9,  0.7,  0.7,\n",
       "        0.8,  0.8,  0.7,  0.8,  0.9,  1. ,  0. ,  0. ,  1. ,  0.7,  0.8,\n",
       "        0.9,  0.8,  0.9,  1. ,  1. ,  1. ,  0.7,  0. ,  0. ,  1. ,  0. ,\n",
       "        0.9,  0.8,  0.7,  1. ,  0. ,  0. ,  1. ,  1. ,  1. ,  0.7,  0.9,\n",
       "        0.6,  0. ,  0.7,  0.7,  0.6,  0.6,  0. ,  0.9,  0.6,  0.7,  0. ,\n",
       "        0. ,  0. ,  0.8,  0.8,  0.9,  0.7,  0.8,  0.9,  0. ,  0. ,  0.6,\n",
       "        0.8,  0. ,  0. ,  0.7,  0. ,  0.9,  0.9,  0.8,  0. ,  1. ,  1. ,\n",
       "        0.7,  0.6,  0.7,  0.7,  0.9,  0.6,  0.8,  0.6,  0.9,  0. ,  0. ,\n",
       "        0.6,  0.7,  0.9,  0.8,  1. ,  0.9,  0.9,  0.7,  0.9,  0.6,  0.9,\n",
       "        0.6,  1. ,  0.8,  0.8,  0.6,  0.9,  0.9,  0.6,  0.7,  0.7,  0.8,\n",
       "        1. ,  0. ,  1. ,  0.8,  0.9,  1. ,  0.9,  0.8,  0.8,  0.8,  0.8,\n",
       "        0.8,  0.8,  0. ,  0.8,  0.7,  0.9,  1. ,  0.7,  0.6,  0. ,  0. ,\n",
       "        0.9,  0. ,  0. ,  0.8,  0.8,  1. ,  0.8,  0.9,  0. ,  0.8,  0.6,\n",
       "        1. ,  0.8,  0. ,  0. ,  0.6,  0.7,  0.9,  0.7,  0.7,  0.6,  1. ,\n",
       "        0. ,  0.8,  0.7,  0.6,  0.8,  0.8,  0.7,  1. ,  0.7,  0.9,  0.7,\n",
       "        0.9,  0. ,  0.7,  0.7,  0.8,  0.6,  0.6,  1. ,  0.9,  0. ,  0.9,\n",
       "        0.6,  0.9,  0. ,  0. ,  1. ,  0.9,  0. ,  1. ,  0.7,  0.9,  0. ,\n",
       "        0.7,  0.9,  0. ,  0. ,  0. ,  0.6,  0. ,  0.9,  0.8,  0.7,  0.8,\n",
       "        0.9,  0.7,  1. ,  0. ,  0.9,  1. ,  0. ,  0.9,  0.6,  0.9,  0.8,\n",
       "        0.9,  0.7,  0.7,  0. ,  0.6,  0. ,  0. ,  0.8,  0. ,  0.8,  0.8,\n",
       "        0.8,  0.7,  0.8,  0.9,  0.8,  0.7,  0.6,  0.6,  0. ,  0.9,  0.6,\n",
       "        0.9,  0. ,  0. ,  0.9,  0.9,  0.9,  0.7,  0.8,  0.7,  0.9,  0. ,\n",
       "        1. ,  1. ,  0. ,  0.8,  0.9,  0.7,  0.9,  0.9,  0. ,  0.8,  0.9,\n",
       "        0.7,  0.9,  1. ,  0.6,  1. ,  0.9,  0.6,  0.9,  1. ,  0.9,  0. ,\n",
       "        0.7,  0.9,  0.6,  0. ,  0. ,  0. ,  0. ,  0. ,  0. ,  0.6,  0.6,\n",
       "        0.9,  0. ,  0.8,  0. ,  1. ,  0.7,  0.9,  0.8,  0.7,  0.7,  0.9,\n",
       "        0. ,  0.9,  0. ,  0.7,  0. ,  0.7,  0.9,  1. ,  0.9])"
      ]
     },
     "execution_count": 207,
     "metadata": {},
     "output_type": "execute_result"
    }
   ],
   "source": [
    "y_pred * y_pred_prob"
   ]
  },
  {
   "cell_type": "code",
   "execution_count": null,
   "metadata": {
    "collapsed": true
   },
   "outputs": [],
   "source": [
    "y_pred_prob_1 = "
   ]
  },
  {
   "cell_type": "code",
   "execution_count": 202,
   "metadata": {
    "collapsed": true
   },
   "outputs": [],
   "source": []
  },
  {
   "cell_type": "code",
   "execution_count": 205,
   "metadata": {
    "collapsed": false
   },
   "outputs": [
    {
     "data": {
      "text/plain": [
       "<matplotlib.text.Text at 0x12567dc18>"
      ]
     },
     "execution_count": 205,
     "metadata": {},
     "output_type": "execute_result"
    },
    {
     "data": {
      "image/png": "[encoded data removed]",
      "text/plain": [
       "<matplotlib.figure.Figure at 0x1256115f8>"
      ]
     },
     "metadata": {},
     "output_type": "display_data"
    }
   ],
   "source": [
    "# histogram of predicted probabilities\n",
    "plt.hist(y_pred_prob_1, bins=8, alpha=0.7)\n",
    "plt.hist(y_pred_prob_0, bins=8, alpha=0.7, color=\"red\")\n",
    "plt.xlim(0, 1)\n",
    "plt.title('Histogram of predicted probabilities')\n",
    "plt.xlabel('Predicted probability of diabetes')\n",
    "plt.ylabel('Frequency')"
   ]
  },
  {
   "cell_type": "markdown",
   "metadata": {
    "collapsed": true
   },
   "source": [
    "### Some tips and tricks from the lab session."
   ]
  },
  {
   "cell_type": "code",
   "execution_count": null,
   "metadata": {
    "collapsed": true
   },
   "outputs": [],
   "source": [
    "# print the first 10 predicted responses\n",
    "logreg.predict(X_test)[0:10]\n",
    "\n",
    "# store the predicted probabilities for class 1\n",
    "y_pred_prob = logreg.predict_proba(X_test)[:, 1]"
   ]
  },
  {
   "cell_type": "code",
   "execution_count": null,
   "metadata": {
    "collapsed": true
   },
   "outputs": [],
   "source": [
    "# STEP 1: split X and y into training and testing sets\n",
    "from sklearn.cross_validation import train_test_split\n",
    "X_train, X_test, y_train, y_test = train_test_split(X, y, test_size=0.4, random_state=4)"
   ]
  },
  {
   "cell_type": "code",
   "execution_count": null,
   "metadata": {
    "collapsed": true
   },
   "outputs": [],
   "source": [
    "# simulate splitting a dataset of 25 observations into 5 folds\n",
    "from sklearn.cross_validation import KFold\n",
    "kf = KFold(25, n_folds=5, shuffle=False)\n",
    "\n",
    "# print the contents of each training and testing set\n",
    "print('{} {:^61} {}'.format('Iteration', 'Training set observations', 'Testing set observations'))\n",
    "for iteration, data in enumerate(kf, start=1):\n",
    "    print('{:^9} {} {:^25}'.format(iteration, data[0], data[1]))"
   ]
  },
  {
   "cell_type": "code",
   "execution_count": null,
   "metadata": {
    "collapsed": true
   },
   "outputs": [],
   "source": [
    "from sklearn.cross_validation import cross_val_score\n",
    "# 10-fold cross-validation\n",
    "scores = cross_val_score(knn, X, y, cv=10, scoring='accuracy')"
   ]
  },
  {
   "cell_type": "code",
   "execution_count": null,
   "metadata": {
    "collapsed": true
   },
   "outputs": [],
   "source": [
    "from sklearn.grid_search import GridSearchCV\n",
    "\n",
    "# define the parameter values that should be searched\n",
    "k_range = list(range(1, 31))\n",
    "\n",
    "# create a parameter grid: map the parameter names to the values that should be searched\n",
    "param_grid = dict(n_neighbors=k_range)\n",
    "\n",
    "# instantiate the grid\n",
    "grid = GridSearchCV(knn, param_grid, cv=10, scoring='accuracy')\n",
    "\n",
    "#You can set n_jobs = -1 to run computations in parallel (if supported by your computer and OS\n",
    "\n",
    "# fit the grid with data\n",
    "grid.fit(X, y)\n",
    "\n",
    "# view the complete results (list of named tuples)\n",
    "grid.grid_scores_\n",
    "\n",
    "# create a list of the mean scores only\n",
    "grid_mean_scores = [result.mean_validation_score for result in grid.grid_scores_]\n",
    "print(grid_mean_scores)\n",
    "\n",
    "# examine the best model\n",
    "print(grid.best_score_)\n",
    "print(grid.best_params_)\n",
    "print(grid.best_estimator_)\n",
    "\n",
    "# shortcut: GridSearchCV automatically refits the best model using all of the data\n",
    "grid.predict([[3, 5, 4, 2]])\n",
    "\n",
    "# n_iter controls the number of searches\n",
    "rand = RandomizedSearchCV(knn, param_dist, cv=10, scoring='accuracy', n_iter=10, random_state=5)\n",
    "rand.fit(X, y)\n",
    "rand.grid_scores_"
   ]
  },
  {
   "cell_type": "code",
   "execution_count": null,
   "metadata": {
    "collapsed": true
   },
   "outputs": [],
   "source": [
    "from sklearn import metrics\n",
    "print(metrics.mean_absolute_error(true, pred))\n",
    "\n",
    "# calculate RMSE using scikit-learn\n",
    "print(np.sqrt(metrics.mean_squared_error(true, pred)))\n",
    "\n",
    "print(metrics.accuracy_score(y_test, y_pred))\n",
    "\n",
    "# IMPORTANT: first argument is true values, second argument is predicted values\n",
    "print(metrics.confusion_matrix(y_test, y_pred_class))\n",
    "\n",
    "# Sensitivity : Recall or True Positive Rate\n",
    "print(TP / float(TP + FN))\n",
    "print(metrics.recall_score(y_test, y_pred_class))\n",
    "\n",
    "# Specificity score (how precise is the classifier for positive value)\n",
    "print(TN / float(TN + FP))\n",
    "\n",
    "# Flase positive Rate \n",
    "print(FP / float(TN + FP))\n",
    "\n",
    "# Precision, true positive rate.\n",
    "print(TP / float(TP + FP))\n",
    "print(metrics.precision_score(y_test, y_pred_class))"
   ]
  },
  {
   "cell_type": "code",
   "execution_count": null,
   "metadata": {
    "collapsed": true
   },
   "outputs": [],
   "source": [
    "# predict diabetes if the predicted probability is greater than 0.3\n",
    "from sklearn.preprocessing import binarize\n",
    "y_pred_class = binarize([y_pred_prob], 0.3)[0]\n",
    "\n",
    "# IMPORTANT: first argument is true values, second argument is predicted probabilities\n",
    "# Plot of the ROC curve\n",
    "fpr, tpr, thresholds = metrics.roc_curve(y_test, y_pred_prob)\n",
    "plt.plot(fpr, tpr)\n",
    "plt.xlim([0.0, 1.0])\n",
    "plt.ylim([0.0, 1.0])\n",
    "plt.title('ROC curve for diabetes classifier')\n",
    "plt.xlabel('False Positive Rate (1 - Specificity)')\n",
    "plt.ylabel('True Positive Rate (Sensitivity)')\n",
    "plt.grid(True)"
   ]
  }
 ],
 "metadata": {
  "kernelspec": {
   "display_name": "Python 3",
   "language": "python",
   "name": "python3"
  },
  "language_info": {
   "codemirror_mode": {
    "name": "ipython",
    "version": 3
   },
   "file_extension": ".py",
   "mimetype": "text/x-python",
   "name": "python",
   "nbconvert_exporter": "python",
   "pygments_lexer": "ipython3",
   "version": "3.5.2"
  }
 },
 "nbformat": 4,
 "nbformat_minor": 1
}
