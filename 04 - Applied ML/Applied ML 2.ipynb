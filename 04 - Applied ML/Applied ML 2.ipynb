{
 "cells": [
  {
   "cell_type": "code",
   "execution_count": 1,
   "metadata": {
    "collapsed": false
   },
   "outputs": [],
   "source": [
    "%matplotlib inline\n",
    "import pandas as pd\n",
    "import numpy as np\n",
    "import matplotlib.pyplot as plt\n",
    "import seaborn as sns\n",
    "%load_ext autoreload\n",
    "%autoreload 2\n",
    "\n",
    "from sklearn import metrics"
   ]
  },
  {
   "cell_type": "code",
   "execution_count": 2,
   "metadata": {
    "collapsed": true
   },
   "outputs": [],
   "source": [
    "df = pd.read_csv(\"./CrowdstormingDataJuly1st.csv\")"
   ]
  },
  {
   "cell_type": "code",
   "execution_count": 4,
   "metadata": {
    "collapsed": false
   },
   "outputs": [],
   "source": [
    "from helpers import clean_data, group_data, prep_ML, normalize\n",
    "dfc = clean_data(df)\n",
    "dfg = group_data(dfc)\n",
    "X_p,y_possible = prep_ML(dfg)\n",
    "X = normalize(X_p, None)\n",
    "# We use our best version of the previous part.\n",
    "label_true = ((y_possible['rater1'] + y_possible['rater2']) / 2 <= 0.5).values"
   ]
  },
  {
   "cell_type": "markdown",
   "metadata": {},
   "source": [
    "First let's try the k-means algorithm with 2 clusters and print out the silhouette score:"
   ]
  },
  {
   "cell_type": "code",
   "execution_count": 5,
   "metadata": {
    "collapsed": true
   },
   "outputs": [],
   "source": [
    "from sklearn.cluster import KMeans"
   ]
  },
  {
   "cell_type": "markdown",
   "metadata": {},
   "source": [
    "FYI: n_jobs = 1 because the parallel version of k-means doesn't work on OSX."
   ]
  },
  {
   "cell_type": "code",
   "execution_count": 6,
   "metadata": {
    "collapsed": false
   },
   "outputs": [],
   "source": [
    "km = KMeans(n_clusters=2, max_iter=600, init=\"k-means++\", n_jobs=1 )"
   ]
  },
  {
   "cell_type": "code",
   "execution_count": 7,
   "metadata": {
    "collapsed": false
   },
   "outputs": [
    {
     "data": {
      "text/plain": [
       "KMeans(algorithm='auto', copy_x=True, init='k-means++', max_iter=600,\n",
       "    n_clusters=2, n_init=10, n_jobs=1, precompute_distances='auto',\n",
       "    random_state=None, tol=0.0001, verbose=0)"
      ]
     },
     "execution_count": 7,
     "metadata": {},
     "output_type": "execute_result"
    }
   ],
   "source": [
    "km.fit(X)"
   ]
  },
  {
   "cell_type": "code",
   "execution_count": 8,
   "metadata": {
    "collapsed": false,
    "scrolled": true
   },
   "outputs": [
    {
     "name": "stdout",
     "output_type": "stream",
     "text": [
      "s1 = 0.520182286269\n"
     ]
    }
   ],
   "source": [
    "labels = km.labels_\n",
    "s1 = metrics.silhouette_score(X, labels, metric='euclidean')\n",
    "print(\"s1 =\", s1)"
   ]
  },
  {
   "cell_type": "code",
   "execution_count": 9,
   "metadata": {
    "collapsed": true
   },
   "outputs": [],
   "source": [
    "def test_km(X):\n",
    "    km = KMeans(n_clusters=2, max_iter=600, init=\"k-means++\", n_jobs=1 )\n",
    "    km.fit(X)\n",
    "    labels = km.labels_\n",
    "    return metrics.silhouette_score(X, labels, metric='euclidean')"
   ]
  },
  {
   "cell_type": "markdown",
   "metadata": {},
   "source": [
    "We know that the most valuable feature is the mean_Exp therefore we will remove it (just for fun)"
   ]
  },
  {
   "cell_type": "code",
   "execution_count": 10,
   "metadata": {
    "collapsed": false
   },
   "outputs": [
    {
     "data": {
      "text/plain": [
       "[('club', 0.053062459876586664),\n",
       " ('defeats', 0.048939337582832476),\n",
       " ('redCards', 0.032354111400858879),\n",
       " ('leagueCountry', 0.025911223899151875),\n",
       " ('goals', 0.068225441482485771),\n",
       " ('weight', 0.047933455223647295),\n",
       " ('seIAT', 0.10406807646759383),\n",
       " ('yellowCards', 0.05451039899203549),\n",
       " ('victories', 0.075867516779471608),\n",
       " ('yellowReds', 0.025278663822057089),\n",
       " ('ties', 0.048283262037958581),\n",
       " ('position', 0.037545228600679728),\n",
       " ('games', 0.053245176515654608),\n",
       " ('height', 0.058549133898307029),\n",
       " ('meanExp', 0.11160881612815028),\n",
       " ('meanIAT', 0.079520768198378874),\n",
       " ('seExp', 0.075096929094149889)]"
      ]
     },
     "execution_count": 10,
     "metadata": {},
     "output_type": "execute_result"
    }
   ],
   "source": [
    "from helpers import compute_feature_importance_rfc\n",
    "\n",
    "compute_feature_importance_rfc(X, label_true)"
   ]
  },
  {
   "cell_type": "code",
   "execution_count": 11,
   "metadata": {
    "collapsed": false
   },
   "outputs": [
    {
     "name": "stdout",
     "output_type": "stream",
     "text": [
      "s2 = 0.520182515253\n",
      "s2 - s1 = 2.28984719408e-07\n"
     ]
    }
   ],
   "source": [
    "X2 = X.drop(\"meanExp\", axis=1)\n",
    "s2 = test_km(X2)\n",
    "print(\"s2 =\", s2)\n",
    "print(\"s2 - s1 =\", s2 - s1)"
   ]
  },
  {
   "cell_type": "markdown",
   "metadata": {},
   "source": [
    "We have a better result... that's fun !"
   ]
  },
  {
   "cell_type": "markdown",
   "metadata": {},
   "source": [
    "Ok now let's remove a second feature, we will follow the same intuition as before and remove the second best feature, the club information."
   ]
  },
  {
   "cell_type": "code",
   "execution_count": 12,
   "metadata": {
    "collapsed": false
   },
   "outputs": [
    {
     "name": "stdout",
     "output_type": "stream",
     "text": [
      "s3 = 0.534763979031\n",
      "s3 - s1 = 0.0145816927624\n",
      "s3 - s2 = 0.0145814637777\n"
     ]
    }
   ],
   "source": [
    "# we know from before that the mean_Exp and goal information is at position 8, and 7 respectively in the X array\n",
    "X3 = X.drop([\"meanExp\", \"goals\"], axis=1)\n",
    "s3 = test_km(X3)\n",
    "print(\"s3 =\", s3)\n",
    "print(\"s3 - s1 =\", s3 - s1)\n",
    "print(\"s3 - s2 =\", s3 - s2)"
   ]
  },
  {
   "cell_type": "markdown",
   "metadata": {},
   "source": [
    "There is an even better improvement"
   ]
  },
  {
   "cell_type": "code",
   "execution_count": 13,
   "metadata": {
    "collapsed": false
   },
   "outputs": [
    {
     "name": "stdout",
     "output_type": "stream",
     "text": [
      "s4 = 0.534763979043\n",
      "s4 - s1 = 0.0145816927747\n",
      "s4 - s2 = 0.0145814637899\n",
      "s4 - s3 = 1.2266077043e-11\n"
     ]
    }
   ],
   "source": [
    "# we now remove seExp in addition to the other 2 (3rd best feature)\n",
    "X4 = X.drop([\"meanExp\", \"goals\", \"seIAT\"], axis=1)\n",
    "s4 = test_km(X4)\n",
    "print(\"s4 =\", s4)\n",
    "print(\"s4 - s1 =\", s4 - s1)\n",
    "print(\"s4 - s2 =\", s4 - s2)\n",
    "print(\"s4 - s3 =\", s4 - s3)"
   ]
  },
  {
   "cell_type": "markdown",
   "metadata": {},
   "source": [
    "To see whether the clustering is close to a dark/light separation we will compute in addition to the silhouette the adjusted mutual info score "
   ]
  },
  {
   "cell_type": "code",
   "execution_count": 14,
   "metadata": {
    "collapsed": false
   },
   "outputs": [
    {
     "name": "stdout",
     "output_type": "stream",
     "text": [
      "silhouette score : 0.520182286269\n",
      "closeness to true label score : 0.00148503518648\n"
     ]
    }
   ],
   "source": [
    "def scoring_complete(X):\n",
    "    km = KMeans(n_clusters=2, max_iter=300, init=\"k-means++\", n_jobs=1 )\n",
    "    km.fit(X)\n",
    "    labels = km.labels_\n",
    "    print(\"silhouette score :\", metrics.silhouette_score(X, labels, metric='euclidean'))\n",
    "    print(\"closeness to true label score :\", metrics.adjusted_mutual_info_score(label_true, labels))\n",
    "\n",
    "scoring_complete(X)"
   ]
  },
  {
   "cell_type": "markdown",
   "metadata": {},
   "source": [
    "We have a very low closeness score but at least it's positive."
   ]
  },
  {
   "cell_type": "code",
   "execution_count": 15,
   "metadata": {
    "collapsed": false
   },
   "outputs": [
    {
     "name": "stdout",
     "output_type": "stream",
     "text": [
      "silhouette score : 0.520182515253\n",
      "closeness to true label score : 0.00148503518648\n"
     ]
    }
   ],
   "source": [
    "scoring_complete(X2)"
   ]
  },
  {
   "cell_type": "markdown",
   "metadata": {},
   "source": [
    "Here we see that eventhough the silhouette score is better our label accuracy is the same as before."
   ]
  },
  {
   "cell_type": "markdown",
   "metadata": {},
   "source": [
    "Other example :"
   ]
  },
  {
   "cell_type": "code",
   "execution_count": 16,
   "metadata": {
    "collapsed": false
   },
   "outputs": [
    {
     "name": "stdout",
     "output_type": "stream",
     "text": [
      "silhouette score : 0.534763979031\n",
      "closeness to true label score : 0.00139343315139\n"
     ]
    }
   ],
   "source": [
    "scoring_complete(X3)"
   ]
  },
  {
   "cell_type": "code",
   "execution_count": 17,
   "metadata": {
    "collapsed": false
   },
   "outputs": [
    {
     "name": "stdout",
     "output_type": "stream",
     "text": [
      "silhouette score : 0.534763979043\n",
      "closeness to true label score : 0.00139343315139\n"
     ]
    }
   ],
   "source": [
    "scoring_complete(X4)"
   ]
  },
  {
   "cell_type": "markdown",
   "metadata": {},
   "source": [
    "Clearly here we are changinging the biais of the clustering algorithm (with respect to our \"true\" labels) **TODO : verify this !**"
   ]
  },
  {
   "cell_type": "markdown",
   "metadata": {},
   "source": [
    "Now let's remove the worse features for example the red / yellow / redYellow / cards (not all are the absolute worst but they were all in the < 0.05 importance in the previous exercice.)\n",
    "\n",
    "rows : 8, 10, 11"
   ]
  },
  {
   "cell_type": "code",
   "execution_count": 18,
   "metadata": {
    "collapsed": false
   },
   "outputs": [
    {
     "name": "stdout",
     "output_type": "stream",
     "text": [
      "silhouette score : 0.525815015218\n",
      "closeness to true label score : 0.00153154185275\n"
     ]
    }
   ],
   "source": [
    "X5 =  X.drop([\"yellowReds\", \"redCards\", \"yellowCards\"], axis=1)\n",
    "scoring_complete(X5)"
   ]
  },
  {
   "cell_type": "markdown",
   "metadata": {},
   "source": [
    "We have good results ! the silhouette is good and closeness has improved."
   ]
  },
  {
   "cell_type": "markdown",
   "metadata": {},
   "source": [
    "Let's now remove all the features that have the worst feature importance until our closeness score drops significantly"
   ]
  },
  {
   "cell_type": "code",
   "execution_count": 19,
   "metadata": {
    "collapsed": false
   },
   "outputs": [
    {
     "data": {
      "text/plain": [
       "[('club', 0.066566347259846961),\n",
       " ('defeats', 0.059412204438561468),\n",
       " ('leagueCountry', 0.027839715349370967),\n",
       " ('goals', 0.074112114751412286),\n",
       " ('weight', 0.054574239569540446),\n",
       " ('seIAT', 0.12638787860345368),\n",
       " ('victories', 0.07028670372226789),\n",
       " ('ties', 0.062611871226016635),\n",
       " ('position', 0.041695509980952832),\n",
       " ('games', 0.064834018972164023),\n",
       " ('height', 0.063417660316122393),\n",
       " ('meanExp', 0.10253957401827234),\n",
       " ('meanIAT', 0.095063144469001937),\n",
       " ('seExp', 0.090659017323016206)]"
      ]
     },
     "execution_count": 19,
     "metadata": {},
     "output_type": "execute_result"
    }
   ],
   "source": [
    "compute_feature_importance_rfc(X5, label_true)"
   ]
  },
  {
   "cell_type": "code",
   "execution_count": 20,
   "metadata": {
    "collapsed": false
   },
   "outputs": [
    {
     "name": "stdout",
     "output_type": "stream",
     "text": [
      "silhouette score : 0.527552347322\n",
      "closeness to true label score : 0.00153154185275\n"
     ]
    }
   ],
   "source": [
    "X6 =  X.drop([\"yellowReds\", \"redCards\", \"yellowCards\", \"position\", \"leagueCountry\", \"height\"], axis=1)\n",
    "scoring_complete(X6)"
   ]
  },
  {
   "cell_type": "code",
   "execution_count": 21,
   "metadata": {
    "collapsed": false
   },
   "outputs": [
    {
     "data": {
      "text/plain": [
       "[('club', 0.08203161710512949),\n",
       " ('defeats', 0.064251156414856653),\n",
       " ('goals', 0.089930430693240138),\n",
       " ('weight', 0.0603671930709564),\n",
       " ('seIAT', 0.14237607590374385),\n",
       " ('victories', 0.091104415326914531),\n",
       " ('ties', 0.060434512453772113),\n",
       " ('games', 0.06509777718392884),\n",
       " ('meanExp', 0.12408516536910708),\n",
       " ('meanIAT', 0.11619993471884195),\n",
       " ('seExp', 0.104121721759509)]"
      ]
     },
     "execution_count": 21,
     "metadata": {},
     "output_type": "execute_result"
    }
   ],
   "source": [
    "compute_feature_importance_rfc(X6, label_true)"
   ]
  },
  {
   "cell_type": "code",
   "execution_count": 22,
   "metadata": {
    "collapsed": false
   },
   "outputs": [
    {
     "name": "stdout",
     "output_type": "stream",
     "text": [
      "silhouette score : 0.529022900697\n",
      "closeness to true label score : 0.00153154185275\n"
     ]
    }
   ],
   "source": [
    "X7 =  X.drop([\"yellowReds\", \"redCards\", \"yellowCards\", \"position\", \"leagueCountry\", \"height\", \"weight\"], axis=1)\n",
    "scoring_complete(X7)"
   ]
  },
  {
   "cell_type": "code",
   "execution_count": 23,
   "metadata": {
    "collapsed": false
   },
   "outputs": [
    {
     "data": {
      "text/plain": [
       "[('club', 0.082188712921463486),\n",
       " ('defeats', 0.077387879181286284),\n",
       " ('goals', 0.095575701445632322),\n",
       " ('seIAT', 0.14923040580225896),\n",
       " ('victories', 0.089680800582453202),\n",
       " ('ties', 0.073753255345470628),\n",
       " ('games', 0.067271726229708451),\n",
       " ('meanExp', 0.13740982887247086),\n",
       " ('meanIAT', 0.12319791325376517),\n",
       " ('seExp', 0.10430377636549067)]"
      ]
     },
     "execution_count": 23,
     "metadata": {},
     "output_type": "execute_result"
    }
   ],
   "source": [
    "compute_feature_importance_rfc(X7, label_true)"
   ]
  },
  {
   "cell_type": "code",
   "execution_count": 24,
   "metadata": {
    "collapsed": false
   },
   "outputs": [
    {
     "name": "stdout",
     "output_type": "stream",
     "text": [
      "silhouette score : 0.536964515555\n",
      "closeness to true label score : 0.00167489477223\n"
     ]
    }
   ],
   "source": [
    "X8 =  X.drop([\"yellowReds\", \"redCards\", \"yellowCards\", \"position\", \"leagueCountry\", \"height\", \"weight\", \"defeats\"], axis=1)\n",
    "scoring_complete(X8)"
   ]
  },
  {
   "cell_type": "code",
   "execution_count": 25,
   "metadata": {
    "collapsed": false
   },
   "outputs": [
    {
     "data": {
      "text/plain": [
       "[('club', 0.078391744088003312),\n",
       " ('goals', 0.094459459758555561),\n",
       " ('seIAT', 0.14523494314975763),\n",
       " ('victories', 0.093691704126949091),\n",
       " ('ties', 0.094611472119133844),\n",
       " ('games', 0.094314106792349001),\n",
       " ('meanExp', 0.14166005008247839),\n",
       " ('meanIAT', 0.14106578028470942),\n",
       " ('seExp', 0.11657073959806377)]"
      ]
     },
     "execution_count": 25,
     "metadata": {},
     "output_type": "execute_result"
    }
   ],
   "source": [
    "compute_feature_importance_rfc(X8, label_true)"
   ]
  },
  {
   "cell_type": "code",
   "execution_count": 26,
   "metadata": {
    "collapsed": false
   },
   "outputs": [
    {
     "name": "stdout",
     "output_type": "stream",
     "text": [
      "silhouette score : 0.54100299212\n",
      "closeness to true label score : 0.00117917185045\n"
     ]
    }
   ],
   "source": [
    "X9 =  X.drop([\"yellowReds\", \"redCards\", \"yellowCards\", \"position\", \"leagueCountry\", \"height\", \"weight\", \"defeats\", \"ties\"], axis=1)\n",
    "scoring_complete(X9)"
   ]
  },
  {
   "cell_type": "markdown",
   "metadata": {},
   "source": [
    "We stop here as we have the worst result."
   ]
  },
  {
   "cell_type": "code",
   "execution_count": 27,
   "metadata": {
    "collapsed": false
   },
   "outputs": [
    {
     "data": {
      "text/plain": [
       "<matplotlib.collections.PathCollection at 0x114c579e8>"
      ]
     },
     "execution_count": 27,
     "metadata": {},
     "output_type": "execute_result"
    },
    {
     "data": {
      "image/png": "[encoded data removed]",
      "text/plain": [
       "<matplotlib.figure.Figure at 0x114c4d0f0>"
      ]
     },
     "metadata": {},
     "output_type": "display_data"
    }
   ],
   "source": [
    "plt.scatter(X8[\"club\"], X8[\"meanExp\"], c=labels)"
   ]
  },
  {
   "cell_type": "code",
   "execution_count": null,
   "metadata": {
    "collapsed": true
   },
   "outputs": [],
   "source": []
  }
 ],
 "metadata": {
  "kernelspec": {
   "display_name": "Python 3",
   "language": "python",
   "name": "python3"
  },
  "language_info": {
   "codemirror_mode": {
    "name": "ipython",
    "version": 3
   },
   "file_extension": ".py",
   "mimetype": "text/x-python",
   "name": "python",
   "nbconvert_exporter": "python",
   "pygments_lexer": "ipython3",
   "version": "3.5.2"
  }
 },
 "nbformat": 4,
 "nbformat_minor": 1
}
