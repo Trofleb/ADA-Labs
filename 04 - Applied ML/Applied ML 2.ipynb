{
 "cells": [
  {
   "cell_type": "code",
   "execution_count": 1,
   "metadata": {
    "collapsed": false
   },
   "outputs": [],
   "source": [
    "%matplotlib inline\n",
    "import pandas as pd\n",
    "import numpy as np\n",
    "import matplotlib.pyplot as plt\n",
    "import seaborn as sns\n",
    "%load_ext autoreload\n",
    "%autoreload 2\n",
    "\n",
    "from sklearn import metrics"
   ]
  },
  {
   "cell_type": "code",
   "execution_count": 2,
   "metadata": {
    "collapsed": true
   },
   "outputs": [],
   "source": [
    "df = pd.read_csv(\"./CrowdstormingDataJuly1st.csv\")"
   ]
  },
  {
   "cell_type": "code",
   "execution_count": 3,
   "metadata": {
    "collapsed": false
   },
   "outputs": [
    {
     "name": "stderr",
     "output_type": "stream",
     "text": [
      "/usr/local/lib/python3.5/dist-packages/sklearn/utils/validation.py:429: DataConversionWarning: Data with input dtype int64 was converted to float64 by the normalize function.\n",
      "  warnings.warn(msg, _DataConversionWarning)\n"
     ]
    }
   ],
   "source": [
    "from helpers import clean_data, group_data, prep_ML, normalize\n",
    "dfc = clean_data(df)\n",
    "dfg = group_data(dfc)\n",
    "X_p,y_possible = prep_ML(dfg)\n",
    "X = normalize(X_p, None)\n",
    "# We use our best version of the previous part.\n",
    "label_true = ((y_possible['rater1'] + y_possible['rater2']) / 2 <= 0.5).values"
   ]
  },
  {
   "cell_type": "markdown",
   "metadata": {},
   "source": [
    "First let's try the k-means algorithm with 2 clusters and print out the silhouette score:"
   ]
  },
  {
   "cell_type": "code",
   "execution_count": 4,
   "metadata": {
    "collapsed": true
   },
   "outputs": [],
   "source": [
    "from sklearn.cluster import KMeans"
   ]
  },
  {
   "cell_type": "markdown",
   "metadata": {},
   "source": [
    "FYI: n_jobs = 1 because the parallel version of k-means doesn't work on OSX."
   ]
  },
  {
   "cell_type": "code",
   "execution_count": 5,
   "metadata": {
    "collapsed": false
   },
   "outputs": [],
   "source": [
    "km = KMeans(n_clusters=2, max_iter=600, init=\"k-means++\", n_jobs=1 )"
   ]
  },
  {
   "cell_type": "code",
   "execution_count": 6,
   "metadata": {
    "collapsed": false
   },
   "outputs": [
    {
     "data": {
      "text/plain": [
       "KMeans(algorithm='auto', copy_x=True, init='k-means++', max_iter=600,\n",
       "    n_clusters=2, n_init=10, n_jobs=1, precompute_distances='auto',\n",
       "    random_state=None, tol=0.0001, verbose=0)"
      ]
     },
     "execution_count": 6,
     "metadata": {},
     "output_type": "execute_result"
    }
   ],
   "source": [
    "km.fit(X)"
   ]
  },
  {
   "cell_type": "code",
   "execution_count": 7,
   "metadata": {
    "collapsed": false,
    "scrolled": true
   },
   "outputs": [
    {
     "name": "stdout",
     "output_type": "stream",
     "text": [
      "s1 = 0.253540740782\n"
     ]
    }
   ],
   "source": [
    "labels = km.labels_\n",
    "s1 = metrics.silhouette_score(X, labels, metric='euclidean')\n",
    "print(\"s1 =\", s1)"
   ]
  },
  {
   "cell_type": "code",
   "execution_count": 8,
   "metadata": {
    "collapsed": true
   },
   "outputs": [],
   "source": [
    "def test_km(X):\n",
    "    km = KMeans(n_clusters=2, max_iter=600, init=\"k-means++\", n_jobs=1 )\n",
    "    km.fit(X)\n",
    "    labels = km.labels_\n",
    "    return metrics.silhouette_score(X, labels, metric='euclidean')"
   ]
  },
  {
   "cell_type": "markdown",
   "metadata": {},
   "source": [
    "We know that the most valuable feature is the seIAT therefore we will remove it (just for fun)"
   ]
  },
  {
   "cell_type": "code",
   "execution_count": 9,
   "metadata": {
    "collapsed": false
   },
   "outputs": [
    {
     "data": {
      "text/plain": [
       "[('seIAT', 0.1192076761662911),\n",
       " ('meanExp', 0.11535965082301609),\n",
       " ('seExp', 0.11150842886559237),\n",
       " ('meanIAT', 0.089507460738880468),\n",
       " ('games', 0.060907841239402016),\n",
       " ('yellowCards', 0.060738748097005794),\n",
       " ('birthday', 0.053452685400786543),\n",
       " ('victories', 0.052951434426624096),\n",
       " ('ties', 0.051097570820641744),\n",
       " ('goals', 0.043814371663238164),\n",
       " ('defeats', 0.037644758289615075),\n",
       " ('position', 0.035497059910240741),\n",
       " ('club', 0.032691467561180215),\n",
       " ('weight', 0.031075560051553593),\n",
       " ('redCards', 0.030116507195549827),\n",
       " ('height', 0.029678838337128463),\n",
       " ('leagueCountry', 0.029279799091059617),\n",
       " ('yellowReds', 0.015470141322194092)]"
      ]
     },
     "execution_count": 9,
     "metadata": {},
     "output_type": "execute_result"
    }
   ],
   "source": [
    "from helpers import compute_feature_importance_rfc\n",
    "from sklearn.ensemble import RandomForestClassifier as RFC\n",
    "\n",
    "# From previous exercice\n",
    "\n",
    "prop1 = np.sum(label_true) / len(label_true)\n",
    "prop0 = 1 - prop1\n",
    "class_weights = {\n",
    "    0 : prop0,\n",
    "    1 : prop1\n",
    "}\n",
    "\n",
    "best_results = {'max_depth': 10, 'max_features': 'sqrt', 'n_estimators': 25}\n",
    "\n",
    "rfc = RFC(max_depth=best_results[\"max_depth\"], max_features=best_results[\"max_features\"], n_estimators=best_results[\"n_estimators\"], n_jobs=-1, class_weight=class_weights)\n",
    "compute_feature_importance_rfc(rfc, X, label_true)"
   ]
  },
  {
   "cell_type": "code",
   "execution_count": 10,
   "metadata": {
    "collapsed": false
   },
   "outputs": [
    {
     "name": "stdout",
     "output_type": "stream",
     "text": [
      "s2 = 0.264064546624\n",
      "s2 - s1 = 0.0105238058419\n"
     ]
    }
   ],
   "source": [
    "X2 = X.drop(\"seIAT\", axis=1)\n",
    "s2 = test_km(X2)\n",
    "print(\"s2 =\", s2)\n",
    "print(\"s2 - s1 =\", s2 - s1)"
   ]
  },
  {
   "cell_type": "markdown",
   "metadata": {},
   "source": [
    "We have a better classification... that's fun !"
   ]
  },
  {
   "cell_type": "markdown",
   "metadata": {},
   "source": [
    "Ok now let's remove a second feature, we will follow the same intuition as before and remove the second best feature"
   ]
  },
  {
   "cell_type": "code",
   "execution_count": 11,
   "metadata": {
    "collapsed": false
   },
   "outputs": [
    {
     "name": "stdout",
     "output_type": "stream",
     "text": [
      "s3 = 0.266082409217\n",
      "s3 - s1 = 0.0125416684348\n",
      "s3 - s2 = 0.00201786259294\n"
     ]
    }
   ],
   "source": [
    "# we know from before that the mean_Exp and goal information is at position 8, and 7 respectively in the X array\n",
    "X3 = X.drop([\"meanExp\", \"seIAT\"], axis=1)\n",
    "s3 = test_km(X3)\n",
    "print(\"s3 =\", s3)\n",
    "print(\"s3 - s1 =\", s3 - s1)\n",
    "print(\"s3 - s2 =\", s3 - s2)"
   ]
  },
  {
   "cell_type": "markdown",
   "metadata": {},
   "source": [
    "There is an even better improvement"
   ]
  },
  {
   "cell_type": "code",
   "execution_count": 12,
   "metadata": {
    "collapsed": false
   },
   "outputs": [
    {
     "name": "stdout",
     "output_type": "stream",
     "text": [
      "s4 = 0.290107346202\n",
      "s4 - s1 = 0.0365666054193\n",
      "s4 - s2 = 0.0260427995774\n",
      "s4 - s3 = 0.0240249369845\n"
     ]
    }
   ],
   "source": [
    "# we now remove seExp in addition to the other 2 (3rd best feature)\n",
    "X4 = X.drop([\"meanExp\", \"seExp\", \"seIAT\", \"meanIAT\"], axis=1)\n",
    "s4 = test_km(X4)\n",
    "print(\"s4 =\", s4)\n",
    "print(\"s4 - s1 =\", s4 - s1)\n",
    "print(\"s4 - s2 =\", s4 - s2)\n",
    "print(\"s4 - s3 =\", s4 - s3)"
   ]
  },
  {
   "cell_type": "markdown",
   "metadata": {},
   "source": [
    "To see whether the clustering is close to a dark/light separation we will compute in addition to the silhouette the adjusted mutual info score "
   ]
  },
  {
   "cell_type": "code",
   "execution_count": 13,
   "metadata": {
    "collapsed": false
   },
   "outputs": [
    {
     "name": "stdout",
     "output_type": "stream",
     "text": [
      "silhouette score : 0.253540740782\n",
      "closeness to true label score : -0.000485621163783\n"
     ]
    }
   ],
   "source": [
    "km = KMeans(n_clusters=2, max_iter=300, init=\"k-means++\", n_jobs=1 )\n",
    "\n",
    "def scoring_complete(X):\n",
    "    km.fit(X)\n",
    "    labels = km.labels_\n",
    "    print(\"silhouette score :\", metrics.silhouette_score(X, labels, metric='euclidean'))\n",
    "    print(\"closeness to true label score :\", metrics.adjusted_mutual_info_score(label_true, labels))\n",
    "\n",
    "scoring_complete(X)"
   ]
  },
  {
   "cell_type": "code",
   "execution_count": 14,
   "metadata": {
    "collapsed": false,
    "scrolled": true
   },
   "outputs": [
    {
     "name": "stdout",
     "output_type": "stream",
     "text": [
      "silhouette score : 0.264064546624\n",
      "closeness to true label score : -0.000484796987391\n"
     ]
    }
   ],
   "source": [
    "scoring_complete(X2)"
   ]
  },
  {
   "cell_type": "markdown",
   "metadata": {},
   "source": [
    "Here we see that eventhough the silhouette score is better our label accuracy is the same as before."
   ]
  },
  {
   "cell_type": "markdown",
   "metadata": {},
   "source": [
    "Other examples :"
   ]
  },
  {
   "cell_type": "code",
   "execution_count": 15,
   "metadata": {
    "collapsed": false
   },
   "outputs": [
    {
     "name": "stdout",
     "output_type": "stream",
     "text": [
      "silhouette score : 0.266082409217\n",
      "closeness to true label score : -0.000482821657274\n"
     ]
    }
   ],
   "source": [
    "scoring_complete(X3)"
   ]
  },
  {
   "cell_type": "code",
   "execution_count": 16,
   "metadata": {
    "collapsed": false
   },
   "outputs": [
    {
     "name": "stdout",
     "output_type": "stream",
     "text": [
      "silhouette score : 0.289771659077\n",
      "closeness to true label score : -0.000186755446396\n"
     ]
    }
   ],
   "source": [
    "scoring_complete(X4)"
   ]
  },
  {
   "cell_type": "markdown",
   "metadata": {},
   "source": [
    "Now let's remove the worst features for example the red / yellow / redYellow / cards (not all are the absolute worsts but they all were in the < 0.05 importance in the previous exercice.)"
   ]
  },
  {
   "cell_type": "code",
   "execution_count": 17,
   "metadata": {
    "collapsed": false
   },
   "outputs": [
    {
     "name": "stdout",
     "output_type": "stream",
     "text": [
      "silhouette score : 0.283747370182\n",
      "closeness to true label score : 0.00499147512141\n"
     ]
    }
   ],
   "source": [
    "X5 =  X.drop([\"yellowReds\", \"redCards\", \"yellowCards\"], axis=1)\n",
    "scoring_complete(X5)"
   ]
  },
  {
   "cell_type": "markdown",
   "metadata": {},
   "source": [
    "We have good results ! The silhouette is better, and closeness is much better"
   ]
  },
  {
   "cell_type": "markdown",
   "metadata": {},
   "source": [
    "Let's now remove all the features that have the worst feature importance until our closeness score drops significantly"
   ]
  },
  {
   "cell_type": "code",
   "execution_count": 18,
   "metadata": {
    "collapsed": false
   },
   "outputs": [
    {
     "data": {
      "text/plain": [
       "[('seIAT', 0.13849534362108062),\n",
       " ('meanExp', 0.10835464871535683),\n",
       " ('seExp', 0.10555781825842103),\n",
       " ('meanIAT', 0.094494815415764627),\n",
       " ('victories', 0.077655344122097014),\n",
       " ('birthday', 0.06951269778038037),\n",
       " ('games', 0.062332242521145602),\n",
       " ('ties', 0.056592918598599544),\n",
       " ('goals', 0.051770081133035405),\n",
       " ('defeats', 0.045579878128750029),\n",
       " ('height', 0.042976406135540407),\n",
       " ('club', 0.041034433406836525),\n",
       " ('weight', 0.040390915704725652),\n",
       " ('leagueCountry', 0.035672655901709094),\n",
       " ('position', 0.029579800556557245)]"
      ]
     },
     "execution_count": 18,
     "metadata": {},
     "output_type": "execute_result"
    }
   ],
   "source": [
    "compute_feature_importance_rfc(rfc, X5, label_true)"
   ]
  },
  {
   "cell_type": "code",
   "execution_count": 19,
   "metadata": {
    "collapsed": false
   },
   "outputs": [
    {
     "name": "stdout",
     "output_type": "stream",
     "text": [
      "silhouette score : 0.347447009627\n",
      "closeness to true label score : 0.00424424095901\n"
     ]
    }
   ],
   "source": [
    "X6 =  X5.drop([\"position\", \"leagueCountry\", \"height\"], axis=1)\n",
    "scoring_complete(X6)"
   ]
  },
  {
   "cell_type": "code",
   "execution_count": 20,
   "metadata": {
    "collapsed": false
   },
   "outputs": [
    {
     "data": {
      "text/plain": [
       "[('seIAT', 0.16139115280717553),\n",
       " ('meanExp', 0.1294132177483733),\n",
       " ('meanIAT', 0.11383730697347309),\n",
       " ('seExp', 0.11223431480452559),\n",
       " ('victories', 0.089413755620049495),\n",
       " ('club', 0.070465718296803648),\n",
       " ('games', 0.066548709948347495),\n",
       " ('birthday', 0.064472033427266207),\n",
       " ('ties', 0.05917840847567693),\n",
       " ('goals', 0.052610381942177653),\n",
       " ('defeats', 0.043455220491093786),\n",
       " ('weight', 0.03697977946503727)]"
      ]
     },
     "execution_count": 20,
     "metadata": {},
     "output_type": "execute_result"
    }
   ],
   "source": [
    "compute_feature_importance_rfc(rfc,X6, label_true)"
   ]
  },
  {
   "cell_type": "code",
   "execution_count": 21,
   "metadata": {
    "collapsed": false
   },
   "outputs": [
    {
     "name": "stdout",
     "output_type": "stream",
     "text": [
      "silhouette score : 0.565611585424\n",
      "closeness to true label score : 0.0817211263061\n"
     ]
    }
   ],
   "source": [
    "X7 =  X6.drop([\"defeats\"], axis=1)\n",
    "scoring_complete(X7)"
   ]
  },
  {
   "cell_type": "code",
   "execution_count": 22,
   "metadata": {
    "collapsed": false
   },
   "outputs": [
    {
     "data": {
      "text/plain": [
       "[('seIAT', 0.13976230977649784),\n",
       " ('seExp', 0.13517318650270735),\n",
       " ('meanIAT', 0.13327805837383366),\n",
       " ('meanExp', 0.12941877459761422),\n",
       " ('games', 0.07913355014180215),\n",
       " ('victories', 0.074340973526954859),\n",
       " ('birthday', 0.068952605186483884),\n",
       " ('club', 0.066543058871073882),\n",
       " ('goals', 0.064623112132487795),\n",
       " ('ties', 0.05763911475542579),\n",
       " ('weight', 0.051135256135118511)]"
      ]
     },
     "execution_count": 22,
     "metadata": {},
     "output_type": "execute_result"
    }
   ],
   "source": [
    "compute_feature_importance_rfc(rfc, X7, label_true)"
   ]
  },
  {
   "cell_type": "code",
   "execution_count": 23,
   "metadata": {
    "collapsed": false
   },
   "outputs": [
    {
     "name": "stdout",
     "output_type": "stream",
     "text": [
      "silhouette score : 0.553357594614\n",
      "closeness to true label score : 0.090802477\n"
     ]
    }
   ],
   "source": [
    "X8 =  X7.drop([\"weight\"], axis=1)\n",
    "scoring_complete(X8)"
   ]
  },
  {
   "cell_type": "code",
   "execution_count": 24,
   "metadata": {
    "collapsed": false
   },
   "outputs": [
    {
     "data": {
      "text/plain": [
       "[('seIAT', 0.15653694319775782),\n",
       " ('meanExp', 0.15291797030087717),\n",
       " ('seExp', 0.13646924598897103),\n",
       " ('meanIAT', 0.12573211742991902),\n",
       " ('victories', 0.098342254953741812),\n",
       " ('birthday', 0.078376670022084524),\n",
       " ('games', 0.078069292179089769),\n",
       " ('club', 0.061049873548434608),\n",
       " ('ties', 0.056684304889594778),\n",
       " ('goals', 0.055821327489529518)]"
      ]
     },
     "execution_count": 24,
     "metadata": {},
     "output_type": "execute_result"
    }
   ],
   "source": [
    "compute_feature_importance_rfc(rfc, X8, label_true)"
   ]
  },
  {
   "cell_type": "code",
   "execution_count": 25,
   "metadata": {
    "collapsed": false
   },
   "outputs": [
    {
     "name": "stdout",
     "output_type": "stream",
     "text": [
      "silhouette score : 0.576040825545\n",
      "closeness to true label score : 0.0930262765814\n"
     ]
    }
   ],
   "source": [
    "X9 =  X8.drop([\"ties\"], axis=1)\n",
    "scoring_complete(X9)"
   ]
  },
  {
   "cell_type": "code",
   "execution_count": 26,
   "metadata": {
    "collapsed": false
   },
   "outputs": [
    {
     "data": {
      "text/plain": [
       "[('seIAT', 0.17772056636542932),\n",
       " ('meanIAT', 0.14308682374825898),\n",
       " ('seExp', 0.13391029921145123),\n",
       " ('meanExp', 0.12824459866513904),\n",
       " ('games', 0.094228699692052068),\n",
       " ('goals', 0.086349794830141741),\n",
       " ('birthday', 0.085176128243323421),\n",
       " ('club', 0.081872932616398622),\n",
       " ('victories', 0.06941015662780553)]"
      ]
     },
     "execution_count": 26,
     "metadata": {},
     "output_type": "execute_result"
    }
   ],
   "source": [
    "compute_feature_importance_rfc(rfc, X9, label_true)"
   ]
  },
  {
   "cell_type": "code",
   "execution_count": 27,
   "metadata": {
    "collapsed": false
   },
   "outputs": [
    {
     "name": "stdout",
     "output_type": "stream",
     "text": [
      "silhouette score : 0.635972691467\n",
      "closeness to true label score : 0.0905806182631\n"
     ]
    }
   ],
   "source": [
    "X10 =  X9.drop([\"goals\"], axis=1)\n",
    "scoring_complete(X10)"
   ]
  },
  {
   "cell_type": "code",
   "execution_count": 28,
   "metadata": {
    "collapsed": false
   },
   "outputs": [
    {
     "data": {
      "text/plain": [
       "[('seIAT', 0.17241641142613112),\n",
       " ('meanIAT', 0.15236054729126522),\n",
       " ('meanExp', 0.14215875796079641),\n",
       " ('seExp', 0.13891188173080843),\n",
       " ('victories', 0.1283310002888173),\n",
       " ('games', 0.10729793126070607),\n",
       " ('club', 0.081398434656610105),\n",
       " ('birthday', 0.077125035384865315)]"
      ]
     },
     "execution_count": 28,
     "metadata": {},
     "output_type": "execute_result"
    }
   ],
   "source": [
    "compute_feature_importance_rfc(rfc, X10, label_true)"
   ]
  },
  {
   "cell_type": "code",
   "execution_count": 29,
   "metadata": {
    "collapsed": false
   },
   "outputs": [
    {
     "name": "stdout",
     "output_type": "stream",
     "text": [
      "silhouette score : 0.682393276867\n",
      "closeness to true label score : 0.0905806182631\n"
     ]
    }
   ],
   "source": [
    "X11 =  X10.drop([\"club\"], axis=1)\n",
    "scoring_complete(X11)"
   ]
  },
  {
   "cell_type": "code",
   "execution_count": 30,
   "metadata": {
    "collapsed": false,
    "scrolled": false
   },
   "outputs": [
    {
     "data": {
      "text/plain": [
       "[('seIAT', 0.18571776836661069),\n",
       " ('meanExp', 0.18107576657489094),\n",
       " ('meanIAT', 0.16215291360509357),\n",
       " ('seExp', 0.14941803548140886),\n",
       " ('victories', 0.11935634725197533),\n",
       " ('games', 0.1065985292509703),\n",
       " ('birthday', 0.095680639469050255)]"
      ]
     },
     "execution_count": 30,
     "metadata": {},
     "output_type": "execute_result"
    }
   ],
   "source": [
    "compute_feature_importance_rfc(rfc, X11, label_true)"
   ]
  },
  {
   "cell_type": "code",
   "execution_count": 31,
   "metadata": {
    "collapsed": false
   },
   "outputs": [
    {
     "name": "stdout",
     "output_type": "stream",
     "text": [
      "silhouette score : 0.687036611032\n",
      "closeness to true label score : 0.0905806182631\n"
     ]
    }
   ],
   "source": [
    "X12 =  X11.drop([\"birthday\"], axis=1)\n",
    "scoring_complete(X12)"
   ]
  },
  {
   "cell_type": "code",
   "execution_count": 32,
   "metadata": {
    "collapsed": false,
    "scrolled": true
   },
   "outputs": [
    {
     "data": {
      "text/plain": [
       "[('meanExp', 0.20983983089746389),\n",
       " ('seExp', 0.18324839774095397),\n",
       " ('seIAT', 0.17447977591259306),\n",
       " ('meanIAT', 0.15285153992997086),\n",
       " ('games', 0.14759487436343),\n",
       " ('victories', 0.13198558115558826)]"
      ]
     },
     "execution_count": 32,
     "metadata": {},
     "output_type": "execute_result"
    }
   ],
   "source": [
    "compute_feature_importance_rfc(rfc, X12, label_true)"
   ]
  },
  {
   "cell_type": "code",
   "execution_count": 33,
   "metadata": {
    "collapsed": false,
    "scrolled": true
   },
   "outputs": [
    {
     "name": "stdout",
     "output_type": "stream",
     "text": [
      "silhouette score : 0.730033265353\n",
      "closeness to true label score : 0.0966882724244\n"
     ]
    }
   ],
   "source": [
    "X13 =  X12.drop([\"victories\"], axis=1)\n",
    "scoring_complete(X13)"
   ]
  },
  {
   "cell_type": "markdown",
   "metadata": {},
   "source": [
    "Removing more gives worse results or equal results."
   ]
  }
 ],
 "metadata": {
  "kernelspec": {
   "display_name": "Python 3",
   "language": "python",
   "name": "python3"
  },
  "language_info": {
   "codemirror_mode": {
    "name": "ipython",
    "version": 3
   },
   "file_extension": ".py",
   "mimetype": "text/x-python",
   "name": "python",
   "nbconvert_exporter": "python",
   "pygments_lexer": "ipython3",
   "version": "3.5.2+"
  }
 },
 "nbformat": 4,
 "nbformat_minor": 1
}
