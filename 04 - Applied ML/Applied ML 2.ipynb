{
 "cells": [
  {
   "cell_type": "code",
   "execution_count": 192,
   "metadata": {
    "collapsed": false
   },
   "outputs": [
    {
     "name": "stdout",
     "output_type": "stream",
     "text": [
      "The autoreload extension is already loaded. To reload it, use:\n",
      "  %reload_ext autoreload\n"
     ]
    }
   ],
   "source": [
    "%matplotlib inline\n",
    "import pandas as pd\n",
    "import numpy as np\n",
    "import matplotlib.pyplot as plt\n",
    "import seaborn as sns\n",
    "%load_ext autoreload\n",
    "%autoreload 2\n",
    "\n",
    "from sklearn import metrics"
   ]
  },
  {
   "cell_type": "code",
   "execution_count": 193,
   "metadata": {
    "collapsed": true
   },
   "outputs": [],
   "source": [
    "df = pd.read_csv(\"./CrowdstormingDataJuly1st.csv\")"
   ]
  },
  {
   "cell_type": "code",
   "execution_count": 200,
   "metadata": {
    "collapsed": false
   },
   "outputs": [],
   "source": [
    "from helpers import clean_data, group_data, prep_ML, normalize\n",
    "dfc = clean_data(df)\n",
    "dfg = group_data(dfc)\n",
    "X_p,y_possible = prep_ML(dfg)\n",
    "X = normalize(X_p, None)\n",
    "# We use our best version of the previous part.\n",
    "label_true = ((y_possible['rater1'] + y_possible['rater2']) / 2 <= 0.5).values"
   ]
  },
  {
   "cell_type": "markdown",
   "metadata": {},
   "source": [
    "First let's try the k-means algorithm with 2 clusters and print out the silhouette score:"
   ]
  },
  {
   "cell_type": "code",
   "execution_count": 204,
   "metadata": {
    "collapsed": true
   },
   "outputs": [],
   "source": [
    "from sklearn.cluster import KMeans"
   ]
  },
  {
   "cell_type": "markdown",
   "metadata": {},
   "source": [
    "FYI: n_jobs = 1 because the parallel version of k-means doesn't work on OSX."
   ]
  },
  {
   "cell_type": "code",
   "execution_count": 231,
   "metadata": {
    "collapsed": false
   },
   "outputs": [],
   "source": [
    "km = KMeans(n_clusters=2, max_iter=600, init=\"k-means++\", n_jobs=1 )"
   ]
  },
  {
   "cell_type": "code",
   "execution_count": 232,
   "metadata": {
    "collapsed": false
   },
   "outputs": [
    {
     "data": {
      "text/plain": [
       "KMeans(algorithm='auto', copy_x=True, init='k-means++', max_iter=600,\n",
       "    n_clusters=2, n_init=10, n_jobs=1, precompute_distances='auto',\n",
       "    random_state=None, tol=0.0001, verbose=0)"
      ]
     },
     "execution_count": 232,
     "metadata": {},
     "output_type": "execute_result"
    }
   ],
   "source": [
    "km.fit(X)"
   ]
  },
  {
   "cell_type": "code",
   "execution_count": 233,
   "metadata": {
    "collapsed": false,
    "scrolled": true
   },
   "outputs": [
    {
     "name": "stdout",
     "output_type": "stream",
     "text": [
      "s1 = 0.520182286269\n"
     ]
    }
   ],
   "source": [
    "labels = km.labels_\n",
    "s1 = metrics.silhouette_score(X, labels, metric='euclidean')\n",
    "print(\"s1 =\", s1)"
   ]
  },
  {
   "cell_type": "code",
   "execution_count": 234,
   "metadata": {
    "collapsed": true
   },
   "outputs": [],
   "source": [
    "def test_km(X):\n",
    "    km = KMeans(n_clusters=2, max_iter=600, init=\"k-means++\", n_jobs=1 )\n",
    "    km.fit(X)\n",
    "    labels = km.labels_\n",
    "    return metrics.silhouette_score(X, labels, metric='euclidean')"
   ]
  },
  {
   "cell_type": "markdown",
   "metadata": {},
   "source": [
    "We know that the most valuable feature is the mean_Exp therefore we will remove it (just for fun)"
   ]
  },
  {
   "cell_type": "code",
   "execution_count": 253,
   "metadata": {
    "collapsed": false
   },
   "outputs": [
    {
     "data": {
      "text/plain": [
       "[('seExp', 0.088973380200728966),\n",
       " ('ties', 0.045646726550477142),\n",
       " ('position', 0.038502399703503609),\n",
       " ('meanIAT', 0.087322729859908549),\n",
       " ('defeats', 0.05476869737878147),\n",
       " ('leagueCountry', 0.020459571166992097),\n",
       " ('meanExp', 0.10320126324422255),\n",
       " ('seIAT', 0.12163317198856426),\n",
       " ('yellowCards', 0.043875796337153487),\n",
       " ('victories', 0.058913554647997093),\n",
       " ('yellowReds', 0.024560016381577149),\n",
       " ('redCards', 0.02675201077705083),\n",
       " ('games', 0.05680591192244025),\n",
       " ('club', 0.058962909636232651),\n",
       " ('height', 0.05510771819238891),\n",
       " ('goals', 0.072893171761770958),\n",
       " ('weight', 0.041620970250210054)]"
      ]
     },
     "execution_count": 253,
     "metadata": {},
     "output_type": "execute_result"
    }
   ],
   "source": [
    "from helpers import compute_feature_importance_rfc\n",
    "\n",
    "compute_feature_importance_rfc(X, label_true)"
   ]
  },
  {
   "cell_type": "code",
   "execution_count": 254,
   "metadata": {
    "collapsed": false
   },
   "outputs": [
    {
     "name": "stdout",
     "output_type": "stream",
     "text": [
      "s2 = 0.520182515253\n",
      "s2 - s1 = 2.28984719408e-07\n"
     ]
    }
   ],
   "source": [
    "X2 = X.drop(\"meanExp\", axis=1)\n",
    "s2 = test_km(X2)\n",
    "print(\"s2 =\", s2)\n",
    "print(\"s2 - s1 =\", s2 - s1)"
   ]
  },
  {
   "cell_type": "markdown",
   "metadata": {},
   "source": [
    "We have a better result... that's fun !"
   ]
  },
  {
   "cell_type": "markdown",
   "metadata": {},
   "source": [
    "Ok now let's remove a second feature, we will follow the same intuition as before and remove the second best feature, the club information."
   ]
  },
  {
   "cell_type": "code",
   "execution_count": 255,
   "metadata": {
    "collapsed": false
   },
   "outputs": [
    {
     "name": "stdout",
     "output_type": "stream",
     "text": [
      "s3 = 0.534763979031\n",
      "s3 - s1 = 0.0145816927624\n",
      "s3 - s2 = 0.0145814637777\n"
     ]
    }
   ],
   "source": [
    "# we know from before that the mean_Exp and goal information is at position 8, and 7 respectively in the X array\n",
    "X3 = X.drop([\"meanExp\", \"goals\"], axis=1)\n",
    "s3 = test_km(X3)\n",
    "print(\"s3 =\", s3)\n",
    "print(\"s3 - s1 =\", s3 - s1)\n",
    "print(\"s3 - s2 =\", s3 - s2)"
   ]
  },
  {
   "cell_type": "markdown",
   "metadata": {},
   "source": [
    "There is an even better improvement"
   ]
  },
  {
   "cell_type": "code",
   "execution_count": 256,
   "metadata": {
    "collapsed": false
   },
   "outputs": [
    {
     "name": "stdout",
     "output_type": "stream",
     "text": [
      "s4 = 0.534763979043\n",
      "s4 - s1 = 0.0145816927747\n",
      "s4 - s2 = 0.0145814637899\n",
      "s4 - s3 = 1.2266077043e-11\n"
     ]
    }
   ],
   "source": [
    "# we now remove seExp in addition to the other 2 (3rd best feature)\n",
    "X4 = X.drop([\"meanExp\", \"goals\", \"seIAT\"], axis=1)\n",
    "s4 = test_km(X4)\n",
    "print(\"s4 =\", s4)\n",
    "print(\"s4 - s1 =\", s4 - s1)\n",
    "print(\"s4 - s2 =\", s4 - s2)\n",
    "print(\"s4 - s3 =\", s4 - s3)"
   ]
  },
  {
   "cell_type": "markdown",
   "metadata": {},
   "source": [
    "To see whether the clustering is close to a dark/light separation we will compute in addition to the silhouerre the accuracy score "
   ]
  },
  {
   "cell_type": "code",
   "execution_count": 306,
   "metadata": {
    "collapsed": false
   },
   "outputs": [
    {
     "name": "stdout",
     "output_type": "stream",
     "text": [
      "silhouette score : 0.520182286269\n",
      "closeness to true label score : 0.00148503518648\n"
     ]
    }
   ],
   "source": [
    "def scoring_complete(X):\n",
    "    km = KMeans(n_clusters=2, max_iter=300, init=\"k-means++\", n_jobs=1 )\n",
    "    km.fit(X)\n",
    "    labels = km.labels_\n",
    "    print(\"silhouette score :\", metrics.silhouette_score(X, labels, metric='euclidean'))\n",
    "    print(\"closeness to true label score :\", metrics.adjusted_mutual_info_score(label_true, labels))\n",
    "\n",
    "scoring_complete(X)"
   ]
  },
  {
   "cell_type": "markdown",
   "metadata": {},
   "source": [
    "We have a very low closeness score but at least it's positive."
   ]
  },
  {
   "cell_type": "code",
   "execution_count": 307,
   "metadata": {
    "collapsed": false
   },
   "outputs": [
    {
     "name": "stdout",
     "output_type": "stream",
     "text": [
      "silhouette score : 0.520182515253\n",
      "closeness to true label score : 0.00148503518648\n"
     ]
    }
   ],
   "source": [
    "scoring_complete(X2)"
   ]
  },
  {
   "cell_type": "markdown",
   "metadata": {},
   "source": [
    "Here we see that eventhough the silhouette score is better our label accuracy is the same as before."
   ]
  },
  {
   "cell_type": "markdown",
   "metadata": {},
   "source": [
    "Other example :"
   ]
  },
  {
   "cell_type": "code",
   "execution_count": 308,
   "metadata": {
    "collapsed": false
   },
   "outputs": [
    {
     "name": "stdout",
     "output_type": "stream",
     "text": [
      "silhouette score : 0.534763979031\n",
      "closeness to true label score : 0.00139343315139\n"
     ]
    }
   ],
   "source": [
    "scoring_complete(X3)"
   ]
  },
  {
   "cell_type": "code",
   "execution_count": 309,
   "metadata": {
    "collapsed": false
   },
   "outputs": [
    {
     "name": "stdout",
     "output_type": "stream",
     "text": [
      "silhouette score : 0.534763979043\n",
      "closeness to true label score : 0.00139343315139\n"
     ]
    }
   ],
   "source": [
    "scoring_complete(X4)"
   ]
  },
  {
   "cell_type": "markdown",
   "metadata": {},
   "source": [
    "Clearly here we are changinging the biais of the clustering algorithm (with respect to our \"true\" labels) **TODO : verify this !**"
   ]
  },
  {
   "cell_type": "markdown",
   "metadata": {},
   "source": [
    "Now let's remove the worse features for example the red / yellow / redYellow / cards (not all are the absolute worst but they were all in the < 0.05 importance in the previous exercice.)\n",
    "\n",
    "rows : 8, 10, 11"
   ]
  },
  {
   "cell_type": "code",
   "execution_count": 310,
   "metadata": {
    "collapsed": false
   },
   "outputs": [
    {
     "name": "stdout",
     "output_type": "stream",
     "text": [
      "silhouette score : 0.525815015218\n",
      "closeness to true label score : 0.00153154185275\n"
     ]
    }
   ],
   "source": [
    "X5 =  X.drop([\"yellowReds\", \"redCards\", \"yellowCards\"], axis=1)\n",
    "scoring_complete(X5)"
   ]
  },
  {
   "cell_type": "markdown",
   "metadata": {},
   "source": [
    "We have good results ! the silhouette is good and closeness has improved."
   ]
  },
  {
   "cell_type": "markdown",
   "metadata": {},
   "source": [
    "Let's now remove all the features that have the worst feature importance until our closeness score drops significantly"
   ]
  },
  {
   "cell_type": "code",
   "execution_count": 316,
   "metadata": {
    "collapsed": false
   },
   "outputs": [
    {
     "data": {
      "text/plain": [
       "[('seExp', 0.090734517847413904),\n",
       " ('ties', 0.059222937328914656),\n",
       " ('position', 0.047220349142919622),\n",
       " ('meanIAT', 0.094221319973384274),\n",
       " ('defeats', 0.062435089482637873),\n",
       " ('leagueCountry', 0.021643719152949905),\n",
       " ('meanExp', 0.11018392687581169),\n",
       " ('seIAT', 0.11980901160558134),\n",
       " ('victories', 0.072661383575704147),\n",
       " ('games', 0.065555128674252575),\n",
       " ('club', 0.069533231970040521),\n",
       " ('height', 0.050464006558890356),\n",
       " ('goals', 0.080149359970852221),\n",
       " ('weight', 0.056166017840646933)]"
      ]
     },
     "execution_count": 316,
     "metadata": {},
     "output_type": "execute_result"
    }
   ],
   "source": [
    "compute_feature_importance_rfc(X5, label_true)"
   ]
  },
  {
   "cell_type": "code",
   "execution_count": 336,
   "metadata": {
    "collapsed": false
   },
   "outputs": [
    {
     "name": "stdout",
     "output_type": "stream",
     "text": [
      "silhouette score : 0.527552347322\n",
      "closeness to true label score : 0.00153154185275\n"
     ]
    }
   ],
   "source": [
    "X6 =  X.drop([\"yellowReds\", \"redCards\", \"yellowCards\", \"position\", \"leagueCountry\", \"height\"], axis=1)\n",
    "scoring_complete(X6)"
   ]
  },
  {
   "cell_type": "code",
   "execution_count": 338,
   "metadata": {
    "collapsed": false
   },
   "outputs": [
    {
     "data": {
      "text/plain": [
       "[('seExp', 0.099660458637477828),\n",
       " ('ties', 0.066580093568056595),\n",
       " ('meanIAT', 0.10847463368789703),\n",
       " ('defeats', 0.063663673392746367),\n",
       " ('meanExp', 0.13648033820626368),\n",
       " ('seIAT', 0.13192620116349682),\n",
       " ('victories', 0.094932958035951809),\n",
       " ('games', 0.06966435196777554),\n",
       " ('club', 0.083280640760261163),\n",
       " ('goals', 0.082393859452367227),\n",
       " ('weight', 0.062942791127705983)]"
      ]
     },
     "execution_count": 338,
     "metadata": {},
     "output_type": "execute_result"
    }
   ],
   "source": [
    "compute_feature_importance_rfc(X6, label_true)"
   ]
  },
  {
   "cell_type": "code",
   "execution_count": 339,
   "metadata": {
    "collapsed": false
   },
   "outputs": [
    {
     "name": "stdout",
     "output_type": "stream",
     "text": [
      "silhouette score : 0.529022900697\n",
      "closeness to true label score : 0.00153154185275\n"
     ]
    }
   ],
   "source": [
    "X7 =  X.drop([\"yellowReds\", \"redCards\", \"yellowCards\", \"position\", \"leagueCountry\", \"height\", \"weight\"], axis=1)\n",
    "scoring_complete(X7)"
   ]
  },
  {
   "cell_type": "code",
   "execution_count": 341,
   "metadata": {
    "collapsed": false
   },
   "outputs": [
    {
     "data": {
      "text/plain": [
       "[('seExp', 0.11734933947022269),\n",
       " ('ties', 0.077704227818589711),\n",
       " ('meanIAT', 0.13331410315486925),\n",
       " ('defeats', 0.06488856867816914),\n",
       " ('meanExp', 0.13607890155277488),\n",
       " ('seIAT', 0.14181569544766426),\n",
       " ('victories', 0.088031176742450187),\n",
       " ('games', 0.073320588506865361),\n",
       " ('club', 0.077961380995067553),\n",
       " ('goals', 0.089536017633326984)]"
      ]
     },
     "execution_count": 341,
     "metadata": {},
     "output_type": "execute_result"
    }
   ],
   "source": [
    "compute_feature_importance_rfc(X7, label_true)"
   ]
  },
  {
   "cell_type": "code",
   "execution_count": 342,
   "metadata": {
    "collapsed": false
   },
   "outputs": [
    {
     "name": "stdout",
     "output_type": "stream",
     "text": [
      "silhouette score : 0.536964515555\n",
      "closeness to true label score : 0.00167489477223\n"
     ]
    }
   ],
   "source": [
    "X8 =  X.drop([\"yellowReds\", \"redCards\", \"yellowCards\", \"position\", \"leagueCountry\", \"height\", \"weight\", \"defeats\"], axis=1)\n",
    "scoring_complete(X8)"
   ]
  },
  {
   "cell_type": "code",
   "execution_count": 343,
   "metadata": {
    "collapsed": false
   },
   "outputs": [
    {
     "data": {
      "text/plain": [
       "[('seExp', 0.11390124343601513),\n",
       " ('ties', 0.080360079068860307),\n",
       " ('meanIAT', 0.12929154452660913),\n",
       " ('meanExp', 0.14808915884301269),\n",
       " ('seIAT', 0.1615364154812565),\n",
       " ('victories', 0.10041000330136582),\n",
       " ('games', 0.082400059224432304),\n",
       " ('club', 0.082262699770286857),\n",
       " ('goals', 0.10174879634816122)]"
      ]
     },
     "execution_count": 343,
     "metadata": {},
     "output_type": "execute_result"
    }
   ],
   "source": [
    "compute_feature_importance_rfc(X8, label_true)"
   ]
  },
  {
   "cell_type": "code",
   "execution_count": 344,
   "metadata": {
    "collapsed": false
   },
   "outputs": [
    {
     "name": "stdout",
     "output_type": "stream",
     "text": [
      "silhouette score : 0.54100299212\n",
      "closeness to true label score : 0.00117917185045\n"
     ]
    }
   ],
   "source": [
    "X9 =  X.drop([\"yellowReds\", \"redCards\", \"yellowCards\", \"position\", \"leagueCountry\", \"height\", \"weight\", \"defeats\", \"ties\"], axis=1)\n",
    "scoring_complete(X9)"
   ]
  },
  {
   "cell_type": "markdown",
   "metadata": {},
   "source": [
    "We stop here as we have the worst result."
   ]
  },
  {
   "cell_type": "code",
   "execution_count": 349,
   "metadata": {
    "collapsed": false
   },
   "outputs": [
    {
     "data": {
      "text/plain": [
       "<matplotlib.collections.PathCollection at 0x10acfaa58>"
      ]
     },
     "execution_count": 349,
     "metadata": {},
     "output_type": "execute_result"
    },
    {
     "data": {
      "image/png": "[encoded data removed]",
      "text/plain": [
       "<matplotlib.figure.Figure at 0x109cde518>"
      ]
     },
     "metadata": {},
     "output_type": "display_data"
    }
   ],
   "source": [
    "plt.scatter(X8[\"club\"], X8[\"meanExp\"], c=labels)"
   ]
  },
  {
   "cell_type": "code",
   "execution_count": null,
   "metadata": {
    "collapsed": true
   },
   "outputs": [],
   "source": []
  }
 ],
 "metadata": {
  "kernelspec": {
   "display_name": "Python 3",
   "language": "python",
   "name": "python3"
  },
  "language_info": {
   "codemirror_mode": {
    "name": "ipython",
    "version": 3
   },
   "file_extension": ".py",
   "mimetype": "text/x-python",
   "name": "python",
   "nbconvert_exporter": "python",
   "pygments_lexer": "ipython3",
   "version": "3.5.2"
  }
 },
 "nbformat": 4,
 "nbformat_minor": 1
}
